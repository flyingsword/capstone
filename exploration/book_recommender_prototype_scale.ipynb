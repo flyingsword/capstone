{
 "cells": [
  {
   "cell_type": "markdown",
   "id": "c640790c",
   "metadata": {},
   "source": [
    "# Book Recommdation System for Goodreads dataset\n"
   ]
  },
  {
   "cell_type": "markdown",
   "id": "ff813300",
   "metadata": {},
   "source": [
    "## 1. Introduction\n",
    "      In this project, we are going to build a hybrid book recommender system based on Goodreads dataset. The recommender system combines both content based recommender and collaborative filter (CF) based recommender. In the content based recommender we use transformer to analyze the content of book description. Then, we use an autoencoder to reduce the dimension of the features. After that, we use a cosine similarity to obtain the recommendation items. In the CF based recommender, we generate book and user embedding using a deep learning  networks. Then, the cosine similarity is obtained for the book embedding. As a hybrid recommender, the cosine similarity is averaged between that of content based recommender and CF based recommender."
   ]
  },
  {
   "cell_type": "markdown",
   "id": "db5ef6df",
   "metadata": {},
   "source": [
    "## 2. Data processing\n",
    "      The Goodreads dataset includes both book dataset and user rating dataset. We import both "
   ]
  },
  {
   "cell_type": "code",
   "execution_count": 1,
   "id": "dd3c2c97",
   "metadata": {},
   "outputs": [],
   "source": [
    "#imports\n",
    "import pandas as pd\n",
    "import numpy as np\n",
    "import matplotlib.pyplot as plt\n",
    "import seaborn as sns\n",
    "import torch\n",
    "%matplotlib inline\n",
    "sns.set_style('whitegrid')"
   ]
  },
  {
   "cell_type": "code",
   "execution_count": 2,
   "id": "6e989883",
   "metadata": {},
   "outputs": [
    {
     "name": "stdout",
     "output_type": "stream",
     "text": [
      "Empty DataFrame\n",
      "Columns: [Id, Name, Authors, ISBN, Rating, PublishYear, PublishMonth, PublishDay, Publisher, RatingDist5, RatingDist4, RatingDist3, RatingDist2, RatingDist1, RatingDistTotal, CountsOfReview, Language, pagesNumber, Description, Count of text reviews]\n",
      "Index: []\n",
      "Empty DataFrame\n",
      "Columns: [ID, Name, Rating]\n",
      "Index: []\n"
     ]
    }
   ],
   "source": [
    "import os\n",
    "dataset_path = '../datasets/goodreads'\n",
    "books_pd = pd.DataFrame(columns = pd.read_csv(os.path.join(dataset_path,'book1000k-1100k.csv')).columns)\n",
    "print(books_pd)\n",
    "users_pd = pd.DataFrame(columns = pd.read_csv(os.path.join(dataset_path,'user_rating_0_to_1000.csv')).columns)\n",
    "print(users_pd)"
   ]
  },
  {
   "cell_type": "code",
   "execution_count": 3,
   "id": "68fef42b",
   "metadata": {},
   "outputs": [
    {
     "name": "stdout",
     "output_type": "stream",
     "text": [
      "../datasets/goodreads/book600k-700k.csv\n",
      "../datasets/goodreads/book1600k-1700k.csv\n",
      "../datasets/goodreads/book200k-300k.csv\n",
      "../datasets/goodreads/user_rating_0_to_1000.csv\n",
      "../datasets/goodreads/book100k-200k.csv\n",
      "../datasets/goodreads/book500k-600k.csv\n",
      "../datasets/goodreads/book1-100k.csv\n",
      "../datasets/goodreads/book1300k-1400k.csv\n",
      "../datasets/goodreads/book800k-900k.csv\n",
      "../datasets/goodreads/user_rating_6000_to_11000.csv\n",
      "../datasets/goodreads/book1700k-1800k.csv\n",
      "../datasets/goodreads/user_rating_4000_to_5000.csv\n",
      "../datasets/goodreads/book1400k-1500k.csv\n",
      "../datasets/goodreads/book1000k-1100k.csv\n",
      "../datasets/goodreads/book2000k-3000k.csv\n",
      "../datasets/goodreads/book400k-500k.csv\n",
      "../datasets/goodreads/archive.zip\n",
      "../datasets/goodreads/book900k-1000k.csv\n",
      "../datasets/goodreads/user_rating_3000_to_4000.csv\n",
      "../datasets/goodreads/book4000k-5000k.csv\n",
      "../datasets/goodreads/book1100k-1200k.csv\n",
      "../datasets/goodreads/user_rating_5000_to_6000.csv\n",
      "../datasets/goodreads/book1800k-1900k.csv\n",
      "../datasets/goodreads/user_rating_1000_to_2000.csv\n",
      "../datasets/goodreads/book1500k-1600k.csv\n",
      "../datasets/goodreads/book3000k-4000k.csv\n",
      "../datasets/goodreads/user_rating_2000_to_3000.csv\n",
      "../datasets/goodreads/book300k-400k.csv\n",
      "../datasets/goodreads/book1200k-1300k.csv\n",
      "../datasets/goodreads/book1900k-2000k.csv\n",
      "../datasets/goodreads/book700k-800k.csv\n",
      "<class 'pandas.core.frame.DataFrame'>\n",
      "Int64Index: 1850310 entries, 0 to 54272\n",
      "Data columns (total 21 columns):\n",
      " #   Column                 Non-Null Count    Dtype  \n",
      "---  ------                 --------------    -----  \n",
      " 0   Id                     1850310 non-null  object \n",
      " 1   Name                   1850310 non-null  object \n",
      " 2   Authors                1850310 non-null  object \n",
      " 3   ISBN                   1844387 non-null  object \n",
      " 4   Rating                 1850310 non-null  float64\n",
      " 5   PublishYear            1850310 non-null  object \n",
      " 6   PublishMonth           1850310 non-null  object \n",
      " 7   PublishDay             1850310 non-null  object \n",
      " 8   Publisher              1832484 non-null  object \n",
      " 9   RatingDist5            1850310 non-null  object \n",
      " 10  RatingDist4            1850310 non-null  object \n",
      " 11  RatingDist3            1850310 non-null  object \n",
      " 12  RatingDist2            1850310 non-null  object \n",
      " 13  RatingDist1            1850310 non-null  object \n",
      " 14  RatingDistTotal        1850310 non-null  object \n",
      " 15  CountsOfReview         1850310 non-null  object \n",
      " 16  Language               251822 non-null   object \n",
      " 17  pagesNumber            835078 non-null   object \n",
      " 18  Description            1171188 non-null  object \n",
      " 19  Count of text reviews  409697 non-null   object \n",
      " 20  PagesNumber            1015232 non-null  float64\n",
      "dtypes: float64(2), object(19)\n",
      "memory usage: 310.6+ MB\n"
     ]
    }
   ],
   "source": [
    "import fnmatch\n",
    "for dirname, _, filenames in os.walk('../datasets/goodreads'):\n",
    "    for filename in filenames:\n",
    "        print(os.path.join(dirname, filename))\n",
    "        if fnmatch.fnmatch(filename, 'book*.csv'):\n",
    "            books_pd = pd.concat([books_pd, pd.read_csv(os.path.join(dataset_path,filename))])\n",
    "        if fnmatch.fnmatch(filename, 'user*.csv'):\n",
    "            users_pd = pd.concat([users_pd, pd.read_csv(os.path.join(dataset_path,filename))])\n",
    "books_pd.info(show_counts=True)"
   ]
  },
  {
   "cell_type": "markdown",
   "id": "71f27687",
   "metadata": {},
   "source": [
    "#### Because the user rating dataset contains multiple indices we need to reset the index."
   ]
  },
  {
   "cell_type": "code",
   "execution_count": 4,
   "id": "f1e86528",
   "metadata": {
    "scrolled": true
   },
   "outputs": [
    {
     "data": {
      "text/plain": [
       "0         1\n",
       "241760    1\n",
       "241736    1\n",
       "241735    1\n",
       "241734    1\n",
       "         ..\n",
       "120863    1\n",
       "120862    1\n",
       "120861    1\n",
       "120860    1\n",
       "362595    1\n",
       "Length: 362596, dtype: int64"
      ]
     },
     "execution_count": 4,
     "metadata": {},
     "output_type": "execute_result"
    }
   ],
   "source": [
    "users_pd.reset_index(drop=True, inplace=True)\n",
    "users_pd.index.value_counts()"
   ]
  },
  {
   "cell_type": "markdown",
   "id": "f7371d83",
   "metadata": {},
   "source": [
    "#### Drop the duplicated books"
   ]
  },
  {
   "cell_type": "code",
   "execution_count": 5,
   "id": "c52adba1",
   "metadata": {},
   "outputs": [
    {
     "name": "stdout",
     "output_type": "stream",
     "text": [
      "<class 'pandas.core.frame.DataFrame'>\n",
      "Int64Index: 1850198 entries, 0 to 54272\n",
      "Data columns (total 21 columns):\n",
      " #   Column                 Non-Null Count    Dtype  \n",
      "---  ------                 --------------    -----  \n",
      " 0   Id                     1850198 non-null  object \n",
      " 1   Name                   1850198 non-null  object \n",
      " 2   Authors                1850198 non-null  object \n",
      " 3   ISBN                   1844276 non-null  object \n",
      " 4   Rating                 1850198 non-null  float64\n",
      " 5   PublishYear            1850198 non-null  object \n",
      " 6   PublishMonth           1850198 non-null  object \n",
      " 7   PublishDay             1850198 non-null  object \n",
      " 8   Publisher              1832375 non-null  object \n",
      " 9   RatingDist5            1850198 non-null  object \n",
      " 10  RatingDist4            1850198 non-null  object \n",
      " 11  RatingDist3            1850198 non-null  object \n",
      " 12  RatingDist2            1850198 non-null  object \n",
      " 13  RatingDist1            1850198 non-null  object \n",
      " 14  RatingDistTotal        1850198 non-null  object \n",
      " 15  CountsOfReview         1850198 non-null  object \n",
      " 16  Language               251799 non-null   object \n",
      " 17  pagesNumber            834966 non-null   object \n",
      " 18  Description            1171188 non-null  object \n",
      " 19  Count of text reviews  409697 non-null   object \n",
      " 20  PagesNumber            1015232 non-null  float64\n",
      "dtypes: float64(2), object(19)\n",
      "memory usage: 310.5+ MB\n"
     ]
    }
   ],
   "source": [
    "books_pd.drop_duplicates(inplace = True)\n",
    "books_pd.info(show_counts=True)"
   ]
  },
  {
   "cell_type": "markdown",
   "id": "1310330f",
   "metadata": {},
   "source": [
    "#### Drop the books with published year > 2021 and < 1900"
   ]
  },
  {
   "cell_type": "code",
   "execution_count": 6,
   "id": "44d9f42a",
   "metadata": {},
   "outputs": [],
   "source": [
    "books_pd.drop((books_pd[(books_pd['PublishYear'] < 1900) | (books_pd['PublishYear'] > 2021)].index).tolist(), inplace = True)\n"
   ]
  },
  {
   "cell_type": "markdown",
   "id": "92af34ae",
   "metadata": {},
   "source": [
    "#### Drop the data with no publisher info"
   ]
  },
  {
   "cell_type": "code",
   "execution_count": 7,
   "id": "8da79406",
   "metadata": {},
   "outputs": [
    {
     "name": "stdout",
     "output_type": "stream",
     "text": [
      "<class 'pandas.core.frame.DataFrame'>\n",
      "Int64Index: 1631813 entries, 0 to 54272\n",
      "Data columns (total 21 columns):\n",
      " #   Column                 Non-Null Count    Dtype  \n",
      "---  ------                 --------------    -----  \n",
      " 0   Id                     1631813 non-null  object \n",
      " 1   Name                   1631813 non-null  object \n",
      " 2   Authors                1631813 non-null  object \n",
      " 3   ISBN                   1626743 non-null  object \n",
      " 4   Rating                 1631813 non-null  float64\n",
      " 5   PublishYear            1631813 non-null  object \n",
      " 6   PublishMonth           1631813 non-null  object \n",
      " 7   PublishDay             1631813 non-null  object \n",
      " 8   Publisher              1631813 non-null  object \n",
      " 9   RatingDist5            1631813 non-null  object \n",
      " 10  RatingDist4            1631813 non-null  object \n",
      " 11  RatingDist3            1631813 non-null  object \n",
      " 12  RatingDist2            1631813 non-null  object \n",
      " 13  RatingDist1            1631813 non-null  object \n",
      " 14  RatingDistTotal        1631813 non-null  object \n",
      " 15  CountsOfReview         1631813 non-null  object \n",
      " 16  Language               214157 non-null   object \n",
      " 17  pagesNumber            680854 non-null   object \n",
      " 18  Description            1044025 non-null  object \n",
      " 19  Count of text reviews  330178 non-null   object \n",
      " 20  PagesNumber            950959 non-null   float64\n",
      "dtypes: float64(2), object(19)\n",
      "memory usage: 273.9+ MB\n"
     ]
    }
   ],
   "source": [
    "books_pd.drop((books_pd[books_pd['Publisher'].isnull()].index).tolist(), inplace=True)\n",
    "books_pd.info(show_counts=True)"
   ]
  },
  {
   "cell_type": "markdown",
   "id": "39e2de0e",
   "metadata": {},
   "source": [
    "#### The Rating distribution data has the rating number after a colon. Need to fix this"
   ]
  },
  {
   "cell_type": "code",
   "execution_count": 8,
   "id": "4ae40e0c",
   "metadata": {},
   "outputs": [],
   "source": [
    "books_pd['RatingDistTotal'] = books_pd['RatingDistTotal'].apply(lambda rating: rating.split(':')[1]).astype('int')\n",
    "books_pd['RatingDist1'] = books_pd['RatingDist1'].apply(lambda rating: rating.split(':')[1]).astype('int')\n",
    "books_pd['RatingDist2'] = books_pd['RatingDist2'].apply(lambda rating: rating.split(':')[1]).astype('int')\n",
    "books_pd['RatingDist3'] = books_pd['RatingDist3'].apply(lambda rating: rating.split(':')[1]).astype('int')\n",
    "books_pd['RatingDist4'] = books_pd['RatingDist4'].apply(lambda rating: rating.split(':')[1]).astype('int')\n",
    "books_pd['RatingDist5'] = books_pd['RatingDist5'].apply(lambda rating: rating.split(':')[1]).astype('int')"
   ]
  },
  {
   "cell_type": "markdown",
   "id": "2b280513",
   "metadata": {},
   "source": [
    "#### replace 'en-US' 'en-GB' 'en-CA' to 'eng'"
   ]
  },
  {
   "cell_type": "code",
   "execution_count": 9,
   "id": "875c0a29",
   "metadata": {},
   "outputs": [],
   "source": [
    "books_pd['Language'] = books_pd['Language'].str.replace('en-US', 'eng')\n",
    "books_pd['Language'] = books_pd['Language'].str.replace('en-GB', 'eng')\n",
    "books_pd['Language'] = books_pd['Language'].str.replace('en-CA', 'eng')"
   ]
  },
  {
   "cell_type": "code",
   "execution_count": 10,
   "id": "57a90e24",
   "metadata": {},
   "outputs": [],
   "source": [
    "books_pd['Language'] = books_pd['Language'].replace('--', np.NaN)"
   ]
  },
  {
   "cell_type": "markdown",
   "id": "3417f719",
   "metadata": {},
   "source": [
    "#### Drop null descriptions"
   ]
  },
  {
   "cell_type": "code",
   "execution_count": 11,
   "id": "583ec356",
   "metadata": {},
   "outputs": [],
   "source": [
    "books_pd.dropna(subset=['Description'], inplace=True)"
   ]
  },
  {
   "cell_type": "markdown",
   "id": "a179afa9",
   "metadata": {},
   "source": [
    "#### Use regex to clean up the descriptions as some of them have embedded HTML tags like <br>"
   ]
  },
  {
   "cell_type": "code",
   "execution_count": 12,
   "id": "09095b43",
   "metadata": {},
   "outputs": [],
   "source": [
    "# use regex to clean up the descriptions as some of them have embedded HTML tags like <br>\n",
    "import re\n",
    "# compile once only\n",
    "CLEANR = re.compile('<.*?>|&([a-z0-9]+|#[0-9]{1,6}|#x[0-9a-f]{1,6});') \n",
    "\n",
    "def cleanhtml(raw_html):\n",
    "    cleantext = re.sub(CLEANR, '', raw_html)\n",
    "    return cleantext"
   ]
  },
  {
   "cell_type": "markdown",
   "id": "f1459762",
   "metadata": {},
   "source": [
    "#### Remove the html tags"
   ]
  },
  {
   "cell_type": "code",
   "execution_count": 13,
   "id": "818e0c8d",
   "metadata": {},
   "outputs": [
    {
     "data": {
      "text/plain": [
       "10803     Best-selling author and leadership expert John...\n",
       "28342     First published in 1995. Routledge is an impri...\n",
       "53156     When the anticipation of your child's birth tu...\n",
       "315808    The study of personal relationships has prolif...\n",
       "2519      Most baseball fans want to hear about stellar ...\n",
       "25402     Pediatric healthcare professionals are sometim...\n",
       "276773    How to be like Jesus even when we disagreeIn w...\n",
       "26012     Over the last two decades, economic, political...\n",
       "42910     From the renowned author of Nice Couples Do an...\n",
       "22142     Children will enjoy this story of a young brot...\n",
       "Name: Description, dtype: object"
      ]
     },
     "execution_count": 13,
     "metadata": {},
     "output_type": "execute_result"
    }
   ],
   "source": [
    "books_pd['Description'] = books_pd.Description.apply(cleanhtml)\n",
    "books_pd['Description'].sample(10)"
   ]
  },
  {
   "cell_type": "markdown",
   "id": "57ac042b",
   "metadata": {},
   "source": [
    "#### Drop books not in English. Only recommend English books"
   ]
  },
  {
   "cell_type": "code",
   "execution_count": 14,
   "id": "aa6b8dd9",
   "metadata": {},
   "outputs": [
    {
     "data": {
      "text/html": [
       "<div>\n",
       "<style scoped>\n",
       "    .dataframe tbody tr th:only-of-type {\n",
       "        vertical-align: middle;\n",
       "    }\n",
       "\n",
       "    .dataframe tbody tr th {\n",
       "        vertical-align: top;\n",
       "    }\n",
       "\n",
       "    .dataframe thead th {\n",
       "        text-align: right;\n",
       "    }\n",
       "</style>\n",
       "<table border=\"1\" class=\"dataframe\">\n",
       "  <thead>\n",
       "    <tr style=\"text-align: right;\">\n",
       "      <th></th>\n",
       "      <th>Id</th>\n",
       "      <th>Name</th>\n",
       "      <th>Authors</th>\n",
       "      <th>ISBN</th>\n",
       "      <th>Rating</th>\n",
       "      <th>PublishYear</th>\n",
       "      <th>PublishMonth</th>\n",
       "      <th>PublishDay</th>\n",
       "      <th>Publisher</th>\n",
       "      <th>RatingDist5</th>\n",
       "      <th>...</th>\n",
       "      <th>RatingDist3</th>\n",
       "      <th>RatingDist2</th>\n",
       "      <th>RatingDist1</th>\n",
       "      <th>RatingDistTotal</th>\n",
       "      <th>CountsOfReview</th>\n",
       "      <th>Language</th>\n",
       "      <th>pagesNumber</th>\n",
       "      <th>Description</th>\n",
       "      <th>Count of text reviews</th>\n",
       "      <th>PagesNumber</th>\n",
       "    </tr>\n",
       "  </thead>\n",
       "  <tbody>\n",
       "    <tr>\n",
       "      <th>3</th>\n",
       "      <td>600004</td>\n",
       "      <td>The Blended Learning Book: Best Practices, Pro...</td>\n",
       "      <td>Josh Bersin</td>\n",
       "      <td>0787972967</td>\n",
       "      <td>4.10</td>\n",
       "      <td>2004</td>\n",
       "      <td>1</td>\n",
       "      <td>10</td>\n",
       "      <td>Pfeiffer</td>\n",
       "      <td>8</td>\n",
       "      <td>...</td>\n",
       "      <td>6</td>\n",
       "      <td>0</td>\n",
       "      <td>0</td>\n",
       "      <td>20</td>\n",
       "      <td>3</td>\n",
       "      <td>NaN</td>\n",
       "      <td>319</td>\n",
       "      <td>The Blended Learning Book is your user's manua...</td>\n",
       "      <td>NaN</td>\n",
       "      <td>NaN</td>\n",
       "    </tr>\n",
       "    <tr>\n",
       "      <th>4</th>\n",
       "      <td>600005</td>\n",
       "      <td>Lessons Learned: Successes Achieved: Be Prepar...</td>\n",
       "      <td>Robert G. Gillio</td>\n",
       "      <td>0595417566</td>\n",
       "      <td>3.00</td>\n",
       "      <td>2006</td>\n",
       "      <td>30</td>\n",
       "      <td>11</td>\n",
       "      <td>iUniverse</td>\n",
       "      <td>0</td>\n",
       "      <td>...</td>\n",
       "      <td>1</td>\n",
       "      <td>0</td>\n",
       "      <td>0</td>\n",
       "      <td>1</td>\n",
       "      <td>0</td>\n",
       "      <td>NaN</td>\n",
       "      <td>168</td>\n",
       "      <td>\"Lessons Learned: Successes Achieved\" will hel...</td>\n",
       "      <td>NaN</td>\n",
       "      <td>NaN</td>\n",
       "    </tr>\n",
       "    <tr>\n",
       "      <th>6</th>\n",
       "      <td>600007</td>\n",
       "      <td>Computing Calamities: Lessons Learned from Pro...</td>\n",
       "      <td>Robert L. Glass</td>\n",
       "      <td>0130828629</td>\n",
       "      <td>5.00</td>\n",
       "      <td>1999</td>\n",
       "      <td>1</td>\n",
       "      <td>1</td>\n",
       "      <td>Prentice Hall</td>\n",
       "      <td>2</td>\n",
       "      <td>...</td>\n",
       "      <td>0</td>\n",
       "      <td>0</td>\n",
       "      <td>0</td>\n",
       "      <td>2</td>\n",
       "      <td>0</td>\n",
       "      <td>NaN</td>\n",
       "      <td>302</td>\n",
       "      <td>Many great advances in technology have resulte...</td>\n",
       "      <td>NaN</td>\n",
       "      <td>NaN</td>\n",
       "    </tr>\n",
       "    <tr>\n",
       "      <th>7</th>\n",
       "      <td>600008</td>\n",
       "      <td>American Indian Rhetorics of Survivance: Word ...</td>\n",
       "      <td>Ernest Stromberg</td>\n",
       "      <td>0822959259</td>\n",
       "      <td>4.11</td>\n",
       "      <td>2006</td>\n",
       "      <td>15</td>\n",
       "      <td>7</td>\n",
       "      <td>University of Pittsburgh Press</td>\n",
       "      <td>2</td>\n",
       "      <td>...</td>\n",
       "      <td>1</td>\n",
       "      <td>0</td>\n",
       "      <td>0</td>\n",
       "      <td>9</td>\n",
       "      <td>1</td>\n",
       "      <td>NaN</td>\n",
       "      <td>296</td>\n",
       "      <td>American Indian Rhetorics of Survivance presen...</td>\n",
       "      <td>NaN</td>\n",
       "      <td>NaN</td>\n",
       "    </tr>\n",
       "    <tr>\n",
       "      <th>8</th>\n",
       "      <td>600009</td>\n",
       "      <td>Maternally Yours (Dynasties: The Connellys, #2)</td>\n",
       "      <td>Kathie DeNosky</td>\n",
       "      <td>0373764189</td>\n",
       "      <td>3.73</td>\n",
       "      <td>2002</td>\n",
       "      <td>25</td>\n",
       "      <td>1</td>\n",
       "      <td>Silhouette Desire</td>\n",
       "      <td>19</td>\n",
       "      <td>...</td>\n",
       "      <td>28</td>\n",
       "      <td>3</td>\n",
       "      <td>2</td>\n",
       "      <td>77</td>\n",
       "      <td>6</td>\n",
       "      <td>NaN</td>\n",
       "      <td>192</td>\n",
       "      <td>Maternally Yours by Kathie DeNosky released on...</td>\n",
       "      <td>NaN</td>\n",
       "      <td>NaN</td>\n",
       "    </tr>\n",
       "    <tr>\n",
       "      <th>...</th>\n",
       "      <td>...</td>\n",
       "      <td>...</td>\n",
       "      <td>...</td>\n",
       "      <td>...</td>\n",
       "      <td>...</td>\n",
       "      <td>...</td>\n",
       "      <td>...</td>\n",
       "      <td>...</td>\n",
       "      <td>...</td>\n",
       "      <td>...</td>\n",
       "      <td>...</td>\n",
       "      <td>...</td>\n",
       "      <td>...</td>\n",
       "      <td>...</td>\n",
       "      <td>...</td>\n",
       "      <td>...</td>\n",
       "      <td>...</td>\n",
       "      <td>...</td>\n",
       "      <td>...</td>\n",
       "      <td>...</td>\n",
       "      <td>...</td>\n",
       "    </tr>\n",
       "    <tr>\n",
       "      <th>54268</th>\n",
       "      <td>799991</td>\n",
       "      <td>Piano Concerto Highlights for Solo Piano</td>\n",
       "      <td>Felix Guenther</td>\n",
       "      <td>0486449580</td>\n",
       "      <td>5.00</td>\n",
       "      <td>2006</td>\n",
       "      <td>23</td>\n",
       "      <td>6</td>\n",
       "      <td>Dover Publications</td>\n",
       "      <td>1</td>\n",
       "      <td>...</td>\n",
       "      <td>0</td>\n",
       "      <td>0</td>\n",
       "      <td>0</td>\n",
       "      <td>1</td>\n",
       "      <td>0</td>\n",
       "      <td>NaN</td>\n",
       "      <td>80</td>\n",
       "      <td>Concertos are every pianist's pinnacle of perf...</td>\n",
       "      <td>0</td>\n",
       "      <td>NaN</td>\n",
       "    </tr>\n",
       "    <tr>\n",
       "      <th>54269</th>\n",
       "      <td>799993</td>\n",
       "      <td>Noggin King of the Nogs (The Sagas of Noggin t...</td>\n",
       "      <td>Oliver Postgate</td>\n",
       "      <td>190370801X</td>\n",
       "      <td>4.38</td>\n",
       "      <td>2001</td>\n",
       "      <td>10</td>\n",
       "      <td>10</td>\n",
       "      <td>The Dragons' Friendly Society</td>\n",
       "      <td>10</td>\n",
       "      <td>...</td>\n",
       "      <td>2</td>\n",
       "      <td>0</td>\n",
       "      <td>0</td>\n",
       "      <td>21</td>\n",
       "      <td>5</td>\n",
       "      <td>NaN</td>\n",
       "      <td>48</td>\n",
       "      <td>1. King of the Nogs --2. The ice dragon --3. T...</td>\n",
       "      <td>5</td>\n",
       "      <td>NaN</td>\n",
       "    </tr>\n",
       "    <tr>\n",
       "      <th>54270</th>\n",
       "      <td>799994</td>\n",
       "      <td>No Greater Glory: The Four Immortal Chaplains ...</td>\n",
       "      <td>Dan Kurzman</td>\n",
       "      <td>0812966090</td>\n",
       "      <td>4.02</td>\n",
       "      <td>2005</td>\n",
       "      <td>9</td>\n",
       "      <td>8</td>\n",
       "      <td>Random House Trade Paperbacks</td>\n",
       "      <td>39</td>\n",
       "      <td>...</td>\n",
       "      <td>27</td>\n",
       "      <td>5</td>\n",
       "      <td>0</td>\n",
       "      <td>122</td>\n",
       "      <td>24</td>\n",
       "      <td>NaN</td>\n",
       "      <td>288</td>\n",
       "      <td>The sinking of the Dorchester in the icy water...</td>\n",
       "      <td>24</td>\n",
       "      <td>NaN</td>\n",
       "    </tr>\n",
       "    <tr>\n",
       "      <th>54271</th>\n",
       "      <td>799996</td>\n",
       "      <td>The White Company by Arthur Conan Doyle, Ficti...</td>\n",
       "      <td>Arthur Conan Doyle</td>\n",
       "      <td>0809594390</td>\n",
       "      <td>3.89</td>\n",
       "      <td>2004</td>\n",
       "      <td>1</td>\n",
       "      <td>3</td>\n",
       "      <td>Wildside Press</td>\n",
       "      <td>1201</td>\n",
       "      <td>...</td>\n",
       "      <td>960</td>\n",
       "      <td>218</td>\n",
       "      <td>74</td>\n",
       "      <td>3795</td>\n",
       "      <td>0</td>\n",
       "      <td>NaN</td>\n",
       "      <td>396</td>\n",
       "      <td>\"By my hilt!\" cried the other, \"if you were to...</td>\n",
       "      <td>0</td>\n",
       "      <td>NaN</td>\n",
       "    </tr>\n",
       "    <tr>\n",
       "      <th>54272</th>\n",
       "      <td>799997</td>\n",
       "      <td>Livewire Real Lives Dawn Fraser</td>\n",
       "      <td>Ian Jackson</td>\n",
       "      <td>0521776317</td>\n",
       "      <td>0.00</td>\n",
       "      <td>2000</td>\n",
       "      <td>3</td>\n",
       "      <td>5</td>\n",
       "      <td>Cambridge University Press</td>\n",
       "      <td>0</td>\n",
       "      <td>...</td>\n",
       "      <td>0</td>\n",
       "      <td>0</td>\n",
       "      <td>0</td>\n",
       "      <td>0</td>\n",
       "      <td>0</td>\n",
       "      <td>NaN</td>\n",
       "      <td>32</td>\n",
       "      <td>This book tells the story of Dawn Fraser, vote...</td>\n",
       "      <td>0</td>\n",
       "      <td>NaN</td>\n",
       "    </tr>\n",
       "  </tbody>\n",
       "</table>\n",
       "<p>914896 rows × 21 columns</p>\n",
       "</div>"
      ],
      "text/plain": [
       "           Id                                               Name  \\\n",
       "3      600004  The Blended Learning Book: Best Practices, Pro...   \n",
       "4      600005  Lessons Learned: Successes Achieved: Be Prepar...   \n",
       "6      600007  Computing Calamities: Lessons Learned from Pro...   \n",
       "7      600008  American Indian Rhetorics of Survivance: Word ...   \n",
       "8      600009    Maternally Yours (Dynasties: The Connellys, #2)   \n",
       "...       ...                                                ...   \n",
       "54268  799991           Piano Concerto Highlights for Solo Piano   \n",
       "54269  799993  Noggin King of the Nogs (The Sagas of Noggin t...   \n",
       "54270  799994  No Greater Glory: The Four Immortal Chaplains ...   \n",
       "54271  799996  The White Company by Arthur Conan Doyle, Ficti...   \n",
       "54272  799997                    Livewire Real Lives Dawn Fraser   \n",
       "\n",
       "                  Authors        ISBN  Rating PublishYear PublishMonth  \\\n",
       "3             Josh Bersin  0787972967    4.10        2004            1   \n",
       "4        Robert G. Gillio  0595417566    3.00        2006           30   \n",
       "6         Robert L. Glass  0130828629    5.00        1999            1   \n",
       "7        Ernest Stromberg  0822959259    4.11        2006           15   \n",
       "8          Kathie DeNosky  0373764189    3.73        2002           25   \n",
       "...                   ...         ...     ...         ...          ...   \n",
       "54268      Felix Guenther  0486449580    5.00        2006           23   \n",
       "54269     Oliver Postgate  190370801X    4.38        2001           10   \n",
       "54270         Dan Kurzman  0812966090    4.02        2005            9   \n",
       "54271  Arthur Conan Doyle  0809594390    3.89        2004            1   \n",
       "54272         Ian Jackson  0521776317    0.00        2000            3   \n",
       "\n",
       "      PublishDay                       Publisher  RatingDist5  ...  \\\n",
       "3             10                        Pfeiffer            8  ...   \n",
       "4             11                       iUniverse            0  ...   \n",
       "6              1                   Prentice Hall            2  ...   \n",
       "7              7  University of Pittsburgh Press            2  ...   \n",
       "8              1               Silhouette Desire           19  ...   \n",
       "...          ...                             ...          ...  ...   \n",
       "54268          6              Dover Publications            1  ...   \n",
       "54269         10   The Dragons' Friendly Society           10  ...   \n",
       "54270          8   Random House Trade Paperbacks           39  ...   \n",
       "54271          3                  Wildside Press         1201  ...   \n",
       "54272          5      Cambridge University Press            0  ...   \n",
       "\n",
       "       RatingDist3  RatingDist2  RatingDist1  RatingDistTotal  CountsOfReview  \\\n",
       "3                6            0            0               20               3   \n",
       "4                1            0            0                1               0   \n",
       "6                0            0            0                2               0   \n",
       "7                1            0            0                9               1   \n",
       "8               28            3            2               77               6   \n",
       "...            ...          ...          ...              ...             ...   \n",
       "54268            0            0            0                1               0   \n",
       "54269            2            0            0               21               5   \n",
       "54270           27            5            0              122              24   \n",
       "54271          960          218           74             3795               0   \n",
       "54272            0            0            0                0               0   \n",
       "\n",
       "      Language pagesNumber                                        Description  \\\n",
       "3          NaN         319  The Blended Learning Book is your user's manua...   \n",
       "4          NaN         168  \"Lessons Learned: Successes Achieved\" will hel...   \n",
       "6          NaN         302  Many great advances in technology have resulte...   \n",
       "7          NaN         296  American Indian Rhetorics of Survivance presen...   \n",
       "8          NaN         192  Maternally Yours by Kathie DeNosky released on...   \n",
       "...        ...         ...                                                ...   \n",
       "54268      NaN          80  Concertos are every pianist's pinnacle of perf...   \n",
       "54269      NaN          48  1. King of the Nogs --2. The ice dragon --3. T...   \n",
       "54270      NaN         288  The sinking of the Dorchester in the icy water...   \n",
       "54271      NaN         396  \"By my hilt!\" cried the other, \"if you were to...   \n",
       "54272      NaN          32  This book tells the story of Dawn Fraser, vote...   \n",
       "\n",
       "      Count of text reviews PagesNumber  \n",
       "3                       NaN         NaN  \n",
       "4                       NaN         NaN  \n",
       "6                       NaN         NaN  \n",
       "7                       NaN         NaN  \n",
       "8                       NaN         NaN  \n",
       "...                     ...         ...  \n",
       "54268                     0         NaN  \n",
       "54269                     5         NaN  \n",
       "54270                    24         NaN  \n",
       "54271                     0         NaN  \n",
       "54272                     0         NaN  \n",
       "\n",
       "[914896 rows x 21 columns]"
      ]
     },
     "execution_count": 14,
     "metadata": {},
     "output_type": "execute_result"
    }
   ],
   "source": [
    "books_pd[books_pd['Language'].isna()]"
   ]
  },
  {
   "cell_type": "code",
   "execution_count": 15,
   "id": "b47c025f",
   "metadata": {},
   "outputs": [
    {
     "name": "stdout",
     "output_type": "stream",
     "text": [
      "<class 'pandas.core.frame.DataFrame'>\n",
      "Int64Index: 105284 entries, 0 to 54253\n",
      "Data columns (total 21 columns):\n",
      " #   Column                 Non-Null Count   Dtype  \n",
      "---  ------                 --------------   -----  \n",
      " 0   Id                     105284 non-null  object \n",
      " 1   Name                   105284 non-null  object \n",
      " 2   Authors                105284 non-null  object \n",
      " 3   ISBN                   104439 non-null  object \n",
      " 4   Rating                 105284 non-null  float64\n",
      " 5   PublishYear            105284 non-null  object \n",
      " 6   PublishMonth           105284 non-null  object \n",
      " 7   PublishDay             105284 non-null  object \n",
      " 8   Publisher              105284 non-null  object \n",
      " 9   RatingDist5            105284 non-null  int64  \n",
      " 10  RatingDist4            105284 non-null  int64  \n",
      " 11  RatingDist3            105284 non-null  int64  \n",
      " 12  RatingDist2            105284 non-null  int64  \n",
      " 13  RatingDist1            105284 non-null  int64  \n",
      " 14  RatingDistTotal        105284 non-null  int64  \n",
      " 15  CountsOfReview         105284 non-null  object \n",
      " 16  Language               105284 non-null  object \n",
      " 17  pagesNumber            51932 non-null   object \n",
      " 18  Description            105284 non-null  object \n",
      " 19  Count of text reviews  43006 non-null   object \n",
      " 20  PagesNumber            53352 non-null   float64\n",
      "dtypes: float64(2), int64(6), object(13)\n",
      "memory usage: 17.7+ MB\n"
     ]
    }
   ],
   "source": [
    "books_eng = books_pd[(books_pd['Language']=='eng')]\n",
    "books_eng.info(show_counts=True)"
   ]
  },
  {
   "cell_type": "markdown",
   "id": "32789bf5",
   "metadata": {},
   "source": [
    "### we should drop the duplicate of name and author"
   ]
  },
  {
   "cell_type": "code",
   "execution_count": 16,
   "id": "e3a82e53",
   "metadata": {
    "scrolled": true
   },
   "outputs": [
    {
     "name": "stdout",
     "output_type": "stream",
     "text": [
      "<class 'pandas.core.frame.DataFrame'>\n",
      "Int64Index: 98735 entries, 0 to 54253\n",
      "Data columns (total 21 columns):\n",
      " #   Column                 Non-Null Count  Dtype  \n",
      "---  ------                 --------------  -----  \n",
      " 0   Id                     98735 non-null  object \n",
      " 1   Name                   98735 non-null  object \n",
      " 2   Authors                98735 non-null  object \n",
      " 3   ISBN                   97970 non-null  object \n",
      " 4   Rating                 98735 non-null  float64\n",
      " 5   PublishYear            98735 non-null  object \n",
      " 6   PublishMonth           98735 non-null  object \n",
      " 7   PublishDay             98735 non-null  object \n",
      " 8   Publisher              98735 non-null  object \n",
      " 9   RatingDist5            98735 non-null  int64  \n",
      " 10  RatingDist4            98735 non-null  int64  \n",
      " 11  RatingDist3            98735 non-null  int64  \n",
      " 12  RatingDist2            98735 non-null  int64  \n",
      " 13  RatingDist1            98735 non-null  int64  \n",
      " 14  RatingDistTotal        98735 non-null  int64  \n",
      " 15  CountsOfReview         98735 non-null  object \n",
      " 16  Language               98735 non-null  object \n",
      " 17  pagesNumber            48940 non-null  object \n",
      " 18  Description            98735 non-null  object \n",
      " 19  Count of text reviews  40091 non-null  object \n",
      " 20  PagesNumber            49795 non-null  float64\n",
      "dtypes: float64(2), int64(6), object(13)\n",
      "memory usage: 16.6+ MB\n"
     ]
    },
    {
     "name": "stderr",
     "output_type": "stream",
     "text": [
      "/home/jin/miniconda3/envs/mle_capstone/lib/python3.8/site-packages/pandas/util/_decorators.py:311: SettingWithCopyWarning: \n",
      "A value is trying to be set on a copy of a slice from a DataFrame\n",
      "\n",
      "See the caveats in the documentation: https://pandas.pydata.org/pandas-docs/stable/user_guide/indexing.html#returning-a-view-versus-a-copy\n",
      "  return func(*args, **kwargs)\n"
     ]
    }
   ],
   "source": [
    "books_eng.drop_duplicates(subset=[\"Authors\", \"Name\"], inplace=True)\n",
    "books_eng.info(show_counts=True)"
   ]
  },
  {
   "cell_type": "markdown",
   "id": "dac8e516",
   "metadata": {},
   "source": [
    "### Drop some columns not used for this task"
   ]
  },
  {
   "cell_type": "code",
   "execution_count": 17,
   "id": "ef2fb91a",
   "metadata": {
    "scrolled": true
   },
   "outputs": [
    {
     "name": "stderr",
     "output_type": "stream",
     "text": [
      "/home/jin/miniconda3/envs/mle_capstone/lib/python3.8/site-packages/pandas/core/frame.py:4906: SettingWithCopyWarning: \n",
      "A value is trying to be set on a copy of a slice from a DataFrame\n",
      "\n",
      "See the caveats in the documentation: https://pandas.pydata.org/pandas-docs/stable/user_guide/indexing.html#returning-a-view-versus-a-copy\n",
      "  return super().drop(\n"
     ]
    }
   ],
   "source": [
    "books_eng.drop(columns=[\"PagesNumber\", \"CountsOfReview\", \"Count of text reviews\",\"pagesNumber\"], inplace=True)"
   ]
  },
  {
   "cell_type": "markdown",
   "id": "5e06177c",
   "metadata": {},
   "source": [
    "### Data processing for the user rating file"
   ]
  },
  {
   "cell_type": "code",
   "execution_count": 18,
   "id": "b4187247",
   "metadata": {},
   "outputs": [
    {
     "data": {
      "text/plain": [
       "Rating    4765\n",
       "Name: Name, dtype: int64"
      ]
     },
     "execution_count": 18,
     "metadata": {},
     "output_type": "execute_result"
    }
   ],
   "source": [
    "# drop the user without any rating\n",
    "no_rating_df = users_pd[users_pd['Rating']=='This user doesn\\'t have any rating']\n",
    "no_rating_df['Name'].value_counts()"
   ]
  },
  {
   "cell_type": "code",
   "execution_count": 19,
   "id": "5fe18788",
   "metadata": {},
   "outputs": [
    {
     "data": {
      "text/plain": [
       "really liked it    132808\n",
       "liked it            96047\n",
       "it was amazing      92354\n",
       "it was ok           28811\n",
       "did not like it      7811\n",
       "Name: Rating, dtype: int64"
      ]
     },
     "execution_count": 19,
     "metadata": {},
     "output_type": "execute_result"
    }
   ],
   "source": [
    "users_pd = users_pd.drop(no_rating_df.index.tolist())\n",
    "users_pd['Rating'].value_counts()"
   ]
  },
  {
   "cell_type": "code",
   "execution_count": 20,
   "id": "7f86e96f",
   "metadata": {},
   "outputs": [
    {
     "data": {
      "text/plain": [
       "Index(['Id', 'Name', 'Authors', 'ISBN', 'Rating', 'PublishYear',\n",
       "       'PublishMonth', 'PublishDay', 'Publisher', 'RatingDist5', 'RatingDist4',\n",
       "       'RatingDist3', 'RatingDist2', 'RatingDist1', 'RatingDistTotal',\n",
       "       'Language', 'Description'],\n",
       "      dtype='object')"
      ]
     },
     "execution_count": 20,
     "metadata": {},
     "output_type": "execute_result"
    }
   ],
   "source": [
    "books_eng.columns"
   ]
  },
  {
   "cell_type": "code",
   "execution_count": 21,
   "id": "9a9ffd9a",
   "metadata": {},
   "outputs": [
    {
     "name": "stderr",
     "output_type": "stream",
     "text": [
      "/home/jin/miniconda3/envs/mle_capstone/lib/python3.8/site-packages/pandas/core/frame.py:5039: SettingWithCopyWarning: \n",
      "A value is trying to be set on a copy of a slice from a DataFrame\n",
      "\n",
      "See the caveats in the documentation: https://pandas.pydata.org/pandas-docs/stable/user_guide/indexing.html#returning-a-view-versus-a-copy\n",
      "  return super().rename(\n"
     ]
    },
    {
     "data": {
      "text/html": [
       "<div>\n",
       "<style scoped>\n",
       "    .dataframe tbody tr th:only-of-type {\n",
       "        vertical-align: middle;\n",
       "    }\n",
       "\n",
       "    .dataframe tbody tr th {\n",
       "        vertical-align: top;\n",
       "    }\n",
       "\n",
       "    .dataframe thead th {\n",
       "        text-align: right;\n",
       "    }\n",
       "</style>\n",
       "<table border=\"1\" class=\"dataframe\">\n",
       "  <thead>\n",
       "    <tr style=\"text-align: right;\">\n",
       "      <th></th>\n",
       "      <th>Book_Id</th>\n",
       "      <th>Name</th>\n",
       "      <th>Authors</th>\n",
       "      <th>Rating</th>\n",
       "      <th>PublishYear</th>\n",
       "      <th>Description</th>\n",
       "    </tr>\n",
       "  </thead>\n",
       "  <tbody>\n",
       "    <tr>\n",
       "      <th>0</th>\n",
       "      <td>600000</td>\n",
       "      <td>Lessons Learned (Great Chefs, #2)</td>\n",
       "      <td>Nora Roberts</td>\n",
       "      <td>3.74</td>\n",
       "      <td>1993</td>\n",
       "      <td>LESSONS LEARNED...Coordinating the publicity t...</td>\n",
       "    </tr>\n",
       "    <tr>\n",
       "      <th>19</th>\n",
       "      <td>600037</td>\n",
       "      <td>Spine-Chillers: Unforgettable Tales of Terror</td>\n",
       "      <td>Roger Elwood</td>\n",
       "      <td>2.80</td>\n",
       "      <td>1978</td>\n",
       "      <td>A collection of horror stories by a variety of...</td>\n",
       "    </tr>\n",
       "    <tr>\n",
       "      <th>25</th>\n",
       "      <td>600043</td>\n",
       "      <td>The Air War: 1939-45</td>\n",
       "      <td>Richard Overy</td>\n",
       "      <td>3.86</td>\n",
       "      <td>2005</td>\n",
       "      <td>Originally published in 1980 and still the bes...</td>\n",
       "    </tr>\n",
       "    <tr>\n",
       "      <th>33</th>\n",
       "      <td>600057</td>\n",
       "      <td>Justice at Nuremberg</td>\n",
       "      <td>Robert E. Conot</td>\n",
       "      <td>4.15</td>\n",
       "      <td>1993</td>\n",
       "      <td>Here, for the first time in one volume, is the...</td>\n",
       "    </tr>\n",
       "    <tr>\n",
       "      <th>37</th>\n",
       "      <td>600063</td>\n",
       "      <td>The Sun, the Genome and the Internet: Tools of...</td>\n",
       "      <td>Freeman Dyson</td>\n",
       "      <td>3.72</td>\n",
       "      <td>2000</td>\n",
       "      <td>In this visionary look into the future, Freema...</td>\n",
       "    </tr>\n",
       "    <tr>\n",
       "      <th>...</th>\n",
       "      <td>...</td>\n",
       "      <td>...</td>\n",
       "      <td>...</td>\n",
       "      <td>...</td>\n",
       "      <td>...</td>\n",
       "      <td>...</td>\n",
       "    </tr>\n",
       "    <tr>\n",
       "      <th>54217</th>\n",
       "      <td>799885</td>\n",
       "      <td>First Grade Valentines</td>\n",
       "      <td>Joanne Ryder</td>\n",
       "      <td>3.33</td>\n",
       "      <td>1996</td>\n",
       "      <td>The class learns about Valentine's Day in this...</td>\n",
       "    </tr>\n",
       "    <tr>\n",
       "      <th>54244</th>\n",
       "      <td>799941</td>\n",
       "      <td>Description of Egypt</td>\n",
       "      <td>Gilles Néret</td>\n",
       "      <td>4.33</td>\n",
       "      <td>2001</td>\n",
       "      <td>In 1798, Napoleon Bonaparte launched an expedi...</td>\n",
       "    </tr>\n",
       "    <tr>\n",
       "      <th>54245</th>\n",
       "      <td>799942</td>\n",
       "      <td>Description of Egypt: Notes and Views in Egypt...</td>\n",
       "      <td>Edward William Lane</td>\n",
       "      <td>4.15</td>\n",
       "      <td>2000</td>\n",
       "      <td>The launching of this hitherto unpublished boo...</td>\n",
       "    </tr>\n",
       "    <tr>\n",
       "      <th>54247</th>\n",
       "      <td>799949</td>\n",
       "      <td>The Epics of Celtic Ireland: Ancient Tales of ...</td>\n",
       "      <td>Jean Markale</td>\n",
       "      <td>3.85</td>\n",
       "      <td>2000</td>\n",
       "      <td>A world-renowned Celtic historian restores the...</td>\n",
       "    </tr>\n",
       "    <tr>\n",
       "      <th>54253</th>\n",
       "      <td>799966</td>\n",
       "      <td>Piranesi's Dream</td>\n",
       "      <td>Gerhard Kopf</td>\n",
       "      <td>2.70</td>\n",
       "      <td>2000</td>\n",
       "      <td>A fictional autobiography of the famed eightee...</td>\n",
       "    </tr>\n",
       "  </tbody>\n",
       "</table>\n",
       "<p>98735 rows × 6 columns</p>\n",
       "</div>"
      ],
      "text/plain": [
       "      Book_Id                                               Name  \\\n",
       "0      600000                  Lessons Learned (Great Chefs, #2)   \n",
       "19     600037      Spine-Chillers: Unforgettable Tales of Terror   \n",
       "25     600043                               The Air War: 1939-45   \n",
       "33     600057                               Justice at Nuremberg   \n",
       "37     600063  The Sun, the Genome and the Internet: Tools of...   \n",
       "...       ...                                                ...   \n",
       "54217  799885                             First Grade Valentines   \n",
       "54244  799941                               Description of Egypt   \n",
       "54245  799942  Description of Egypt: Notes and Views in Egypt...   \n",
       "54247  799949  The Epics of Celtic Ireland: Ancient Tales of ...   \n",
       "54253  799966                                   Piranesi's Dream   \n",
       "\n",
       "                   Authors  Rating PublishYear  \\\n",
       "0             Nora Roberts    3.74        1993   \n",
       "19            Roger Elwood    2.80        1978   \n",
       "25           Richard Overy    3.86        2005   \n",
       "33         Robert E. Conot    4.15        1993   \n",
       "37           Freeman Dyson    3.72        2000   \n",
       "...                    ...     ...         ...   \n",
       "54217         Joanne Ryder    3.33        1996   \n",
       "54244         Gilles Néret    4.33        2001   \n",
       "54245  Edward William Lane    4.15        2000   \n",
       "54247         Jean Markale    3.85        2000   \n",
       "54253         Gerhard Kopf    2.70        2000   \n",
       "\n",
       "                                             Description  \n",
       "0      LESSONS LEARNED...Coordinating the publicity t...  \n",
       "19     A collection of horror stories by a variety of...  \n",
       "25     Originally published in 1980 and still the bes...  \n",
       "33     Here, for the first time in one volume, is the...  \n",
       "37     In this visionary look into the future, Freema...  \n",
       "...                                                  ...  \n",
       "54217  The class learns about Valentine's Day in this...  \n",
       "54244  In 1798, Napoleon Bonaparte launched an expedi...  \n",
       "54245  The launching of this hitherto unpublished boo...  \n",
       "54247  A world-renowned Celtic historian restores the...  \n",
       "54253  A fictional autobiography of the famed eightee...  \n",
       "\n",
       "[98735 rows x 6 columns]"
      ]
     },
     "execution_count": 21,
     "metadata": {},
     "output_type": "execute_result"
    }
   ],
   "source": [
    "\n",
    "book_sel = books_eng.iloc[:,[0,1,2,4,5,16]]\n",
    "book_sel.rename(columns={'Id':'Book_Id'}, inplace=True)\n",
    "book_sel"
   ]
  },
  {
   "cell_type": "code",
   "execution_count": 22,
   "id": "c9b79163",
   "metadata": {},
   "outputs": [],
   "source": [
    "#Extract book information\n",
    "book_df = book_sel[['Name','Authors','Description', 'Book_Id','PublishYear']].drop_duplicates(subset=['Name'],keep='first')\n",
    "book_df['NameDesc'] = book_df['Name']+\" \"+book_df['Description']\n",
    "book_df.reset_index(drop=True, inplace=True)"
   ]
  },
  {
   "cell_type": "code",
   "execution_count": 23,
   "id": "777d4f6c",
   "metadata": {},
   "outputs": [],
   "source": [
    "\n",
    "torch.cuda.set_device(1)"
   ]
  },
  {
   "cell_type": "markdown",
   "id": "3ef37d5e",
   "metadata": {},
   "source": [
    "## 3. Build Hybrid Recommender\n",
    "### Build the content based similarity using transformer"
   ]
  },
  {
   "cell_type": "code",
   "execution_count": 24,
   "id": "2fb41005",
   "metadata": {},
   "outputs": [
    {
     "name": "stderr",
     "output_type": "stream",
     "text": [
      "2022-05-19 01:53:25.200615: I tensorflow/stream_executor/platform/default/dso_loader.cc:53] Successfully opened dynamic library libcudart.so.11.0\n"
     ]
    }
   ],
   "source": [
    "#Use sentence transformer for embedding instead of TF-IDF\n",
    "from sentence_transformers import SentenceTransformer"
   ]
  },
  {
   "cell_type": "code",
   "execution_count": 25,
   "id": "0f0e0770",
   "metadata": {},
   "outputs": [],
   "source": [
    "# Download model\n",
    "model = SentenceTransformer('all-distilroberta-v1')"
   ]
  },
  {
   "cell_type": "code",
   "execution_count": 26,
   "id": "e67f61eb",
   "metadata": {},
   "outputs": [
    {
     "data": {
      "text/html": [
       "<div>\n",
       "<style scoped>\n",
       "    .dataframe tbody tr th:only-of-type {\n",
       "        vertical-align: middle;\n",
       "    }\n",
       "\n",
       "    .dataframe tbody tr th {\n",
       "        vertical-align: top;\n",
       "    }\n",
       "\n",
       "    .dataframe thead th {\n",
       "        text-align: right;\n",
       "    }\n",
       "</style>\n",
       "<table border=\"1\" class=\"dataframe\">\n",
       "  <thead>\n",
       "    <tr style=\"text-align: right;\">\n",
       "      <th></th>\n",
       "      <th>Name</th>\n",
       "      <th>Authors</th>\n",
       "      <th>Description</th>\n",
       "      <th>Book_Id</th>\n",
       "      <th>PublishYear</th>\n",
       "      <th>NameDesc</th>\n",
       "    </tr>\n",
       "  </thead>\n",
       "  <tbody>\n",
       "    <tr>\n",
       "      <th>0</th>\n",
       "      <td>Lessons Learned (Great Chefs, #2)</td>\n",
       "      <td>Nora Roberts</td>\n",
       "      <td>LESSONS LEARNED...Coordinating the publicity t...</td>\n",
       "      <td>600000</td>\n",
       "      <td>1993</td>\n",
       "      <td>Lessons Learned (Great Chefs, #2) LESSONS LEAR...</td>\n",
       "    </tr>\n",
       "    <tr>\n",
       "      <th>1</th>\n",
       "      <td>Spine-Chillers: Unforgettable Tales of Terror</td>\n",
       "      <td>Roger Elwood</td>\n",
       "      <td>A collection of horror stories by a variety of...</td>\n",
       "      <td>600037</td>\n",
       "      <td>1978</td>\n",
       "      <td>Spine-Chillers: Unforgettable Tales of Terror ...</td>\n",
       "    </tr>\n",
       "    <tr>\n",
       "      <th>2</th>\n",
       "      <td>The Air War: 1939-45</td>\n",
       "      <td>Richard Overy</td>\n",
       "      <td>Originally published in 1980 and still the bes...</td>\n",
       "      <td>600043</td>\n",
       "      <td>2005</td>\n",
       "      <td>The Air War: 1939-45 Originally published in 1...</td>\n",
       "    </tr>\n",
       "    <tr>\n",
       "      <th>3</th>\n",
       "      <td>Justice at Nuremberg</td>\n",
       "      <td>Robert E. Conot</td>\n",
       "      <td>Here, for the first time in one volume, is the...</td>\n",
       "      <td>600057</td>\n",
       "      <td>1993</td>\n",
       "      <td>Justice at Nuremberg Here, for the first time ...</td>\n",
       "    </tr>\n",
       "    <tr>\n",
       "      <th>4</th>\n",
       "      <td>The Sun, the Genome and the Internet: Tools of...</td>\n",
       "      <td>Freeman Dyson</td>\n",
       "      <td>In this visionary look into the future, Freema...</td>\n",
       "      <td>600063</td>\n",
       "      <td>2000</td>\n",
       "      <td>The Sun, the Genome and the Internet: Tools of...</td>\n",
       "    </tr>\n",
       "    <tr>\n",
       "      <th>...</th>\n",
       "      <td>...</td>\n",
       "      <td>...</td>\n",
       "      <td>...</td>\n",
       "      <td>...</td>\n",
       "      <td>...</td>\n",
       "      <td>...</td>\n",
       "    </tr>\n",
       "    <tr>\n",
       "      <th>97866</th>\n",
       "      <td>First Grade Valentines</td>\n",
       "      <td>Joanne Ryder</td>\n",
       "      <td>The class learns about Valentine's Day in this...</td>\n",
       "      <td>799885</td>\n",
       "      <td>1996</td>\n",
       "      <td>First Grade Valentines The class learns about ...</td>\n",
       "    </tr>\n",
       "    <tr>\n",
       "      <th>97867</th>\n",
       "      <td>Description of Egypt</td>\n",
       "      <td>Gilles Néret</td>\n",
       "      <td>In 1798, Napoleon Bonaparte launched an expedi...</td>\n",
       "      <td>799941</td>\n",
       "      <td>2001</td>\n",
       "      <td>Description of Egypt In 1798, Napoleon Bonapar...</td>\n",
       "    </tr>\n",
       "    <tr>\n",
       "      <th>97868</th>\n",
       "      <td>Description of Egypt: Notes and Views in Egypt...</td>\n",
       "      <td>Edward William Lane</td>\n",
       "      <td>The launching of this hitherto unpublished boo...</td>\n",
       "      <td>799942</td>\n",
       "      <td>2000</td>\n",
       "      <td>Description of Egypt: Notes and Views in Egypt...</td>\n",
       "    </tr>\n",
       "    <tr>\n",
       "      <th>97869</th>\n",
       "      <td>The Epics of Celtic Ireland: Ancient Tales of ...</td>\n",
       "      <td>Jean Markale</td>\n",
       "      <td>A world-renowned Celtic historian restores the...</td>\n",
       "      <td>799949</td>\n",
       "      <td>2000</td>\n",
       "      <td>The Epics of Celtic Ireland: Ancient Tales of ...</td>\n",
       "    </tr>\n",
       "    <tr>\n",
       "      <th>97870</th>\n",
       "      <td>Piranesi's Dream</td>\n",
       "      <td>Gerhard Kopf</td>\n",
       "      <td>A fictional autobiography of the famed eightee...</td>\n",
       "      <td>799966</td>\n",
       "      <td>2000</td>\n",
       "      <td>Piranesi's Dream A fictional autobiography of ...</td>\n",
       "    </tr>\n",
       "  </tbody>\n",
       "</table>\n",
       "<p>97871 rows × 6 columns</p>\n",
       "</div>"
      ],
      "text/plain": [
       "                                                    Name              Authors  \\\n",
       "0                      Lessons Learned (Great Chefs, #2)         Nora Roberts   \n",
       "1          Spine-Chillers: Unforgettable Tales of Terror         Roger Elwood   \n",
       "2                                   The Air War: 1939-45        Richard Overy   \n",
       "3                                   Justice at Nuremberg      Robert E. Conot   \n",
       "4      The Sun, the Genome and the Internet: Tools of...        Freeman Dyson   \n",
       "...                                                  ...                  ...   \n",
       "97866                             First Grade Valentines         Joanne Ryder   \n",
       "97867                               Description of Egypt         Gilles Néret   \n",
       "97868  Description of Egypt: Notes and Views in Egypt...  Edward William Lane   \n",
       "97869  The Epics of Celtic Ireland: Ancient Tales of ...         Jean Markale   \n",
       "97870                                   Piranesi's Dream         Gerhard Kopf   \n",
       "\n",
       "                                             Description Book_Id PublishYear  \\\n",
       "0      LESSONS LEARNED...Coordinating the publicity t...  600000        1993   \n",
       "1      A collection of horror stories by a variety of...  600037        1978   \n",
       "2      Originally published in 1980 and still the bes...  600043        2005   \n",
       "3      Here, for the first time in one volume, is the...  600057        1993   \n",
       "4      In this visionary look into the future, Freema...  600063        2000   \n",
       "...                                                  ...     ...         ...   \n",
       "97866  The class learns about Valentine's Day in this...  799885        1996   \n",
       "97867  In 1798, Napoleon Bonaparte launched an expedi...  799941        2001   \n",
       "97868  The launching of this hitherto unpublished boo...  799942        2000   \n",
       "97869  A world-renowned Celtic historian restores the...  799949        2000   \n",
       "97870  A fictional autobiography of the famed eightee...  799966        2000   \n",
       "\n",
       "                                                NameDesc  \n",
       "0      Lessons Learned (Great Chefs, #2) LESSONS LEAR...  \n",
       "1      Spine-Chillers: Unforgettable Tales of Terror ...  \n",
       "2      The Air War: 1939-45 Originally published in 1...  \n",
       "3      Justice at Nuremberg Here, for the first time ...  \n",
       "4      The Sun, the Genome and the Internet: Tools of...  \n",
       "...                                                  ...  \n",
       "97866  First Grade Valentines The class learns about ...  \n",
       "97867  Description of Egypt In 1798, Napoleon Bonapar...  \n",
       "97868  Description of Egypt: Notes and Views in Egypt...  \n",
       "97869  The Epics of Celtic Ireland: Ancient Tales of ...  \n",
       "97870  Piranesi's Dream A fictional autobiography of ...  \n",
       "\n",
       "[97871 rows x 6 columns]"
      ]
     },
     "execution_count": 26,
     "metadata": {},
     "output_type": "execute_result"
    }
   ],
   "source": [
    "book_df"
   ]
  },
  {
   "cell_type": "code",
   "execution_count": 43,
   "id": "409efd25",
   "metadata": {},
   "outputs": [
    {
     "data": {
      "text/plain": [
       "65.78"
      ]
     },
     "execution_count": 43,
     "metadata": {},
     "output_type": "execute_result"
    }
   ],
   "source": [
    "57.2*1.15\n"
   ]
  },
  {
   "cell_type": "code",
   "execution_count": 38,
   "id": "6f68c074",
   "metadata": {},
   "outputs": [
    {
     "data": {
      "application/vnd.jupyter.widget-view+json": {
       "model_id": "e7f83b5197d847b29369024acd98742c",
       "version_major": 2,
       "version_minor": 0
      },
      "text/plain": [
       "Batches:   0%|          | 0/313 [00:00<?, ?it/s]"
      ]
     },
     "metadata": {},
     "output_type": "display_data"
    },
    {
     "data": {
      "application/vnd.jupyter.widget-view+json": {
       "model_id": "437a9f36a3574f09af3c6dce9bc10256",
       "version_major": 2,
       "version_minor": 0
      },
      "text/plain": [
       "Batches:   0%|          | 0/313 [00:00<?, ?it/s]"
      ]
     },
     "metadata": {},
     "output_type": "display_data"
    },
    {
     "data": {
      "application/vnd.jupyter.widget-view+json": {
       "model_id": "214fd00d8211457893ad3e791639d233",
       "version_major": 2,
       "version_minor": 0
      },
      "text/plain": [
       "Batches:   0%|          | 0/313 [00:00<?, ?it/s]"
      ]
     },
     "metadata": {},
     "output_type": "display_data"
    },
    {
     "data": {
      "application/vnd.jupyter.widget-view+json": {
       "model_id": "19de40f8cd5a4006b492590ab078b059",
       "version_major": 2,
       "version_minor": 0
      },
      "text/plain": [
       "Batches:   0%|          | 0/313 [00:00<?, ?it/s]"
      ]
     },
     "metadata": {},
     "output_type": "display_data"
    },
    {
     "data": {
      "application/vnd.jupyter.widget-view+json": {
       "model_id": "cb53f6024af94dac9cb01275c290c89a",
       "version_major": 2,
       "version_minor": 0
      },
      "text/plain": [
       "Batches:   0%|          | 0/313 [00:00<?, ?it/s]"
      ]
     },
     "metadata": {},
     "output_type": "display_data"
    },
    {
     "ename": "RuntimeError",
     "evalue": "CUDA error: CUBLAS_STATUS_EXECUTION_FAILED when calling `cublasSgemm( handle, opa, opb, m, n, k, &alpha, a, lda, b, ldb, &beta, c, ldc)`",
     "output_type": "error",
     "traceback": [
      "\u001b[0;31m---------------------------------------------------------------------------\u001b[0m",
      "\u001b[0;31mRuntimeError\u001b[0m                              Traceback (most recent call last)",
      "\u001b[0;32m/tmp/ipykernel_7770/3140551925.py\u001b[0m in \u001b[0;36m<module>\u001b[0;34m\u001b[0m\n\u001b[1;32m      1\u001b[0m \u001b[0mNB\u001b[0m \u001b[0;34m=\u001b[0m \u001b[0mlen\u001b[0m\u001b[0;34m(\u001b[0m\u001b[0mbook_df\u001b[0m\u001b[0;34m)\u001b[0m\u001b[0;34m//\u001b[0m\u001b[0;36m5000\u001b[0m\u001b[0;34m\u001b[0m\u001b[0;34m\u001b[0m\u001b[0m\n\u001b[1;32m      2\u001b[0m \u001b[0;32mfor\u001b[0m \u001b[0mi\u001b[0m \u001b[0;32min\u001b[0m \u001b[0mrange\u001b[0m\u001b[0;34m(\u001b[0m\u001b[0mNB\u001b[0m\u001b[0;34m)\u001b[0m\u001b[0;34m:\u001b[0m\u001b[0;34m\u001b[0m\u001b[0;34m\u001b[0m\u001b[0m\n\u001b[0;32m----> 3\u001b[0;31m     \u001b[0mtmp\u001b[0m \u001b[0;34m=\u001b[0m \u001b[0mmodel\u001b[0m\u001b[0;34m.\u001b[0m\u001b[0mencode\u001b[0m\u001b[0;34m(\u001b[0m\u001b[0mbook_df\u001b[0m\u001b[0;34m[\u001b[0m\u001b[0;34m'NameDesc'\u001b[0m\u001b[0;34m]\u001b[0m\u001b[0;34m.\u001b[0m\u001b[0mvalues\u001b[0m\u001b[0;34m[\u001b[0m\u001b[0mi\u001b[0m\u001b[0;34m*\u001b[0m\u001b[0;36m5000\u001b[0m\u001b[0;34m:\u001b[0m\u001b[0;34m(\u001b[0m\u001b[0mi\u001b[0m\u001b[0;34m+\u001b[0m\u001b[0;36m1\u001b[0m\u001b[0;34m)\u001b[0m\u001b[0;34m*\u001b[0m\u001b[0;36m5000\u001b[0m\u001b[0;34m]\u001b[0m\u001b[0;34m,\u001b[0m \u001b[0mshow_progress_bar\u001b[0m\u001b[0;34m=\u001b[0m\u001b[0;32mTrue\u001b[0m\u001b[0;34m,\u001b[0m \u001b[0mbatch_size\u001b[0m\u001b[0;34m=\u001b[0m\u001b[0;36m16\u001b[0m\u001b[0;34m,\u001b[0m\u001b[0mdevice\u001b[0m\u001b[0;34m=\u001b[0m\u001b[0;34m'cuda'\u001b[0m\u001b[0;34m)\u001b[0m\u001b[0;34m\u001b[0m\u001b[0;34m\u001b[0m\u001b[0m\n\u001b[0m\u001b[1;32m      4\u001b[0m     \u001b[0mtorch\u001b[0m\u001b[0;34m.\u001b[0m\u001b[0mcuda\u001b[0m\u001b[0;34m.\u001b[0m\u001b[0mempty_cache\u001b[0m\u001b[0;34m(\u001b[0m\u001b[0;34m)\u001b[0m\u001b[0;34m\u001b[0m\u001b[0;34m\u001b[0m\u001b[0m\n\u001b[1;32m      5\u001b[0m     \u001b[0;32mif\u001b[0m \u001b[0mi\u001b[0m \u001b[0;34m==\u001b[0m \u001b[0;36m0\u001b[0m\u001b[0;34m:\u001b[0m\u001b[0;34m\u001b[0m\u001b[0;34m\u001b[0m\u001b[0m\n",
      "\u001b[0;32m~/miniconda3/envs/mle_capstone/lib/python3.8/site-packages/sentence_transformers/SentenceTransformer.py\u001b[0m in \u001b[0;36mencode\u001b[0;34m(self, sentences, batch_size, show_progress_bar, output_value, convert_to_numpy, convert_to_tensor, device, normalize_embeddings)\u001b[0m\n\u001b[1;32m    162\u001b[0m \u001b[0;34m\u001b[0m\u001b[0m\n\u001b[1;32m    163\u001b[0m             \u001b[0;32mwith\u001b[0m \u001b[0mtorch\u001b[0m\u001b[0;34m.\u001b[0m\u001b[0mno_grad\u001b[0m\u001b[0;34m(\u001b[0m\u001b[0;34m)\u001b[0m\u001b[0;34m:\u001b[0m\u001b[0;34m\u001b[0m\u001b[0;34m\u001b[0m\u001b[0m\n\u001b[0;32m--> 164\u001b[0;31m                 \u001b[0mout_features\u001b[0m \u001b[0;34m=\u001b[0m \u001b[0mself\u001b[0m\u001b[0;34m.\u001b[0m\u001b[0mforward\u001b[0m\u001b[0;34m(\u001b[0m\u001b[0mfeatures\u001b[0m\u001b[0;34m)\u001b[0m\u001b[0;34m\u001b[0m\u001b[0;34m\u001b[0m\u001b[0m\n\u001b[0m\u001b[1;32m    165\u001b[0m \u001b[0;34m\u001b[0m\u001b[0m\n\u001b[1;32m    166\u001b[0m                 \u001b[0;32mif\u001b[0m \u001b[0moutput_value\u001b[0m \u001b[0;34m==\u001b[0m \u001b[0;34m'token_embeddings'\u001b[0m\u001b[0;34m:\u001b[0m\u001b[0;34m\u001b[0m\u001b[0;34m\u001b[0m\u001b[0m\n",
      "\u001b[0;32m~/miniconda3/envs/mle_capstone/lib/python3.8/site-packages/torch/nn/modules/container.py\u001b[0m in \u001b[0;36mforward\u001b[0;34m(self, input)\u001b[0m\n\u001b[1;32m    117\u001b[0m     \u001b[0;32mdef\u001b[0m \u001b[0mforward\u001b[0m\u001b[0;34m(\u001b[0m\u001b[0mself\u001b[0m\u001b[0;34m,\u001b[0m \u001b[0minput\u001b[0m\u001b[0;34m)\u001b[0m\u001b[0;34m:\u001b[0m\u001b[0;34m\u001b[0m\u001b[0;34m\u001b[0m\u001b[0m\n\u001b[1;32m    118\u001b[0m         \u001b[0;32mfor\u001b[0m \u001b[0mmodule\u001b[0m \u001b[0;32min\u001b[0m \u001b[0mself\u001b[0m\u001b[0;34m:\u001b[0m\u001b[0;34m\u001b[0m\u001b[0;34m\u001b[0m\u001b[0m\n\u001b[0;32m--> 119\u001b[0;31m             \u001b[0minput\u001b[0m \u001b[0;34m=\u001b[0m \u001b[0mmodule\u001b[0m\u001b[0;34m(\u001b[0m\u001b[0minput\u001b[0m\u001b[0;34m)\u001b[0m\u001b[0;34m\u001b[0m\u001b[0;34m\u001b[0m\u001b[0m\n\u001b[0m\u001b[1;32m    120\u001b[0m         \u001b[0;32mreturn\u001b[0m \u001b[0minput\u001b[0m\u001b[0;34m\u001b[0m\u001b[0;34m\u001b[0m\u001b[0m\n\u001b[1;32m    121\u001b[0m \u001b[0;34m\u001b[0m\u001b[0m\n",
      "\u001b[0;32m~/miniconda3/envs/mle_capstone/lib/python3.8/site-packages/torch/nn/modules/module.py\u001b[0m in \u001b[0;36m_call_impl\u001b[0;34m(self, *input, **kwargs)\u001b[0m\n\u001b[1;32m    887\u001b[0m             \u001b[0mresult\u001b[0m \u001b[0;34m=\u001b[0m \u001b[0mself\u001b[0m\u001b[0;34m.\u001b[0m\u001b[0m_slow_forward\u001b[0m\u001b[0;34m(\u001b[0m\u001b[0;34m*\u001b[0m\u001b[0minput\u001b[0m\u001b[0;34m,\u001b[0m \u001b[0;34m**\u001b[0m\u001b[0mkwargs\u001b[0m\u001b[0;34m)\u001b[0m\u001b[0;34m\u001b[0m\u001b[0;34m\u001b[0m\u001b[0m\n\u001b[1;32m    888\u001b[0m         \u001b[0;32melse\u001b[0m\u001b[0;34m:\u001b[0m\u001b[0;34m\u001b[0m\u001b[0;34m\u001b[0m\u001b[0m\n\u001b[0;32m--> 889\u001b[0;31m             \u001b[0mresult\u001b[0m \u001b[0;34m=\u001b[0m \u001b[0mself\u001b[0m\u001b[0;34m.\u001b[0m\u001b[0mforward\u001b[0m\u001b[0;34m(\u001b[0m\u001b[0;34m*\u001b[0m\u001b[0minput\u001b[0m\u001b[0;34m,\u001b[0m \u001b[0;34m**\u001b[0m\u001b[0mkwargs\u001b[0m\u001b[0;34m)\u001b[0m\u001b[0;34m\u001b[0m\u001b[0;34m\u001b[0m\u001b[0m\n\u001b[0m\u001b[1;32m    890\u001b[0m         for hook in itertools.chain(\n\u001b[1;32m    891\u001b[0m                 \u001b[0m_global_forward_hooks\u001b[0m\u001b[0;34m.\u001b[0m\u001b[0mvalues\u001b[0m\u001b[0;34m(\u001b[0m\u001b[0;34m)\u001b[0m\u001b[0;34m,\u001b[0m\u001b[0;34m\u001b[0m\u001b[0;34m\u001b[0m\u001b[0m\n",
      "\u001b[0;32m~/miniconda3/envs/mle_capstone/lib/python3.8/site-packages/sentence_transformers/models/Transformer.py\u001b[0m in \u001b[0;36mforward\u001b[0;34m(self, features)\u001b[0m\n\u001b[1;32m     64\u001b[0m             \u001b[0mtrans_features\u001b[0m\u001b[0;34m[\u001b[0m\u001b[0;34m'token_type_ids'\u001b[0m\u001b[0;34m]\u001b[0m \u001b[0;34m=\u001b[0m \u001b[0mfeatures\u001b[0m\u001b[0;34m[\u001b[0m\u001b[0;34m'token_type_ids'\u001b[0m\u001b[0;34m]\u001b[0m\u001b[0;34m\u001b[0m\u001b[0;34m\u001b[0m\u001b[0m\n\u001b[1;32m     65\u001b[0m \u001b[0;34m\u001b[0m\u001b[0m\n\u001b[0;32m---> 66\u001b[0;31m         \u001b[0moutput_states\u001b[0m \u001b[0;34m=\u001b[0m \u001b[0mself\u001b[0m\u001b[0;34m.\u001b[0m\u001b[0mauto_model\u001b[0m\u001b[0;34m(\u001b[0m\u001b[0;34m**\u001b[0m\u001b[0mtrans_features\u001b[0m\u001b[0;34m,\u001b[0m \u001b[0mreturn_dict\u001b[0m\u001b[0;34m=\u001b[0m\u001b[0;32mFalse\u001b[0m\u001b[0;34m)\u001b[0m\u001b[0;34m\u001b[0m\u001b[0;34m\u001b[0m\u001b[0m\n\u001b[0m\u001b[1;32m     67\u001b[0m         \u001b[0moutput_tokens\u001b[0m \u001b[0;34m=\u001b[0m \u001b[0moutput_states\u001b[0m\u001b[0;34m[\u001b[0m\u001b[0;36m0\u001b[0m\u001b[0;34m]\u001b[0m\u001b[0;34m\u001b[0m\u001b[0;34m\u001b[0m\u001b[0m\n\u001b[1;32m     68\u001b[0m \u001b[0;34m\u001b[0m\u001b[0m\n",
      "\u001b[0;32m~/miniconda3/envs/mle_capstone/lib/python3.8/site-packages/torch/nn/modules/module.py\u001b[0m in \u001b[0;36m_call_impl\u001b[0;34m(self, *input, **kwargs)\u001b[0m\n\u001b[1;32m    887\u001b[0m             \u001b[0mresult\u001b[0m \u001b[0;34m=\u001b[0m \u001b[0mself\u001b[0m\u001b[0;34m.\u001b[0m\u001b[0m_slow_forward\u001b[0m\u001b[0;34m(\u001b[0m\u001b[0;34m*\u001b[0m\u001b[0minput\u001b[0m\u001b[0;34m,\u001b[0m \u001b[0;34m**\u001b[0m\u001b[0mkwargs\u001b[0m\u001b[0;34m)\u001b[0m\u001b[0;34m\u001b[0m\u001b[0;34m\u001b[0m\u001b[0m\n\u001b[1;32m    888\u001b[0m         \u001b[0;32melse\u001b[0m\u001b[0;34m:\u001b[0m\u001b[0;34m\u001b[0m\u001b[0;34m\u001b[0m\u001b[0m\n\u001b[0;32m--> 889\u001b[0;31m             \u001b[0mresult\u001b[0m \u001b[0;34m=\u001b[0m \u001b[0mself\u001b[0m\u001b[0;34m.\u001b[0m\u001b[0mforward\u001b[0m\u001b[0;34m(\u001b[0m\u001b[0;34m*\u001b[0m\u001b[0minput\u001b[0m\u001b[0;34m,\u001b[0m \u001b[0;34m**\u001b[0m\u001b[0mkwargs\u001b[0m\u001b[0;34m)\u001b[0m\u001b[0;34m\u001b[0m\u001b[0;34m\u001b[0m\u001b[0m\n\u001b[0m\u001b[1;32m    890\u001b[0m         for hook in itertools.chain(\n\u001b[1;32m    891\u001b[0m                 \u001b[0m_global_forward_hooks\u001b[0m\u001b[0;34m.\u001b[0m\u001b[0mvalues\u001b[0m\u001b[0;34m(\u001b[0m\u001b[0;34m)\u001b[0m\u001b[0;34m,\u001b[0m\u001b[0;34m\u001b[0m\u001b[0;34m\u001b[0m\u001b[0m\n",
      "\u001b[0;32m~/miniconda3/envs/mle_capstone/lib/python3.8/site-packages/transformers/models/roberta/modeling_roberta.py\u001b[0m in \u001b[0;36mforward\u001b[0;34m(self, input_ids, attention_mask, token_type_ids, position_ids, head_mask, inputs_embeds, encoder_hidden_states, encoder_attention_mask, past_key_values, use_cache, output_attentions, output_hidden_states, return_dict)\u001b[0m\n\u001b[1;32m    849\u001b[0m             \u001b[0mpast_key_values_length\u001b[0m\u001b[0;34m=\u001b[0m\u001b[0mpast_key_values_length\u001b[0m\u001b[0;34m,\u001b[0m\u001b[0;34m\u001b[0m\u001b[0;34m\u001b[0m\u001b[0m\n\u001b[1;32m    850\u001b[0m         )\n\u001b[0;32m--> 851\u001b[0;31m         encoder_outputs = self.encoder(\n\u001b[0m\u001b[1;32m    852\u001b[0m             \u001b[0membedding_output\u001b[0m\u001b[0;34m,\u001b[0m\u001b[0;34m\u001b[0m\u001b[0;34m\u001b[0m\u001b[0m\n\u001b[1;32m    853\u001b[0m             \u001b[0mattention_mask\u001b[0m\u001b[0;34m=\u001b[0m\u001b[0mextended_attention_mask\u001b[0m\u001b[0;34m,\u001b[0m\u001b[0;34m\u001b[0m\u001b[0;34m\u001b[0m\u001b[0m\n",
      "\u001b[0;32m~/miniconda3/envs/mle_capstone/lib/python3.8/site-packages/torch/nn/modules/module.py\u001b[0m in \u001b[0;36m_call_impl\u001b[0;34m(self, *input, **kwargs)\u001b[0m\n\u001b[1;32m    887\u001b[0m             \u001b[0mresult\u001b[0m \u001b[0;34m=\u001b[0m \u001b[0mself\u001b[0m\u001b[0;34m.\u001b[0m\u001b[0m_slow_forward\u001b[0m\u001b[0;34m(\u001b[0m\u001b[0;34m*\u001b[0m\u001b[0minput\u001b[0m\u001b[0;34m,\u001b[0m \u001b[0;34m**\u001b[0m\u001b[0mkwargs\u001b[0m\u001b[0;34m)\u001b[0m\u001b[0;34m\u001b[0m\u001b[0;34m\u001b[0m\u001b[0m\n\u001b[1;32m    888\u001b[0m         \u001b[0;32melse\u001b[0m\u001b[0;34m:\u001b[0m\u001b[0;34m\u001b[0m\u001b[0;34m\u001b[0m\u001b[0m\n\u001b[0;32m--> 889\u001b[0;31m             \u001b[0mresult\u001b[0m \u001b[0;34m=\u001b[0m \u001b[0mself\u001b[0m\u001b[0;34m.\u001b[0m\u001b[0mforward\u001b[0m\u001b[0;34m(\u001b[0m\u001b[0;34m*\u001b[0m\u001b[0minput\u001b[0m\u001b[0;34m,\u001b[0m \u001b[0;34m**\u001b[0m\u001b[0mkwargs\u001b[0m\u001b[0;34m)\u001b[0m\u001b[0;34m\u001b[0m\u001b[0;34m\u001b[0m\u001b[0m\n\u001b[0m\u001b[1;32m    890\u001b[0m         for hook in itertools.chain(\n\u001b[1;32m    891\u001b[0m                 \u001b[0m_global_forward_hooks\u001b[0m\u001b[0;34m.\u001b[0m\u001b[0mvalues\u001b[0m\u001b[0;34m(\u001b[0m\u001b[0;34m)\u001b[0m\u001b[0;34m,\u001b[0m\u001b[0;34m\u001b[0m\u001b[0;34m\u001b[0m\u001b[0m\n",
      "\u001b[0;32m~/miniconda3/envs/mle_capstone/lib/python3.8/site-packages/transformers/models/roberta/modeling_roberta.py\u001b[0m in \u001b[0;36mforward\u001b[0;34m(self, hidden_states, attention_mask, head_mask, encoder_hidden_states, encoder_attention_mask, past_key_values, use_cache, output_attentions, output_hidden_states, return_dict)\u001b[0m\n\u001b[1;32m    525\u001b[0m                 )\n\u001b[1;32m    526\u001b[0m             \u001b[0;32melse\u001b[0m\u001b[0;34m:\u001b[0m\u001b[0;34m\u001b[0m\u001b[0;34m\u001b[0m\u001b[0m\n\u001b[0;32m--> 527\u001b[0;31m                 layer_outputs = layer_module(\n\u001b[0m\u001b[1;32m    528\u001b[0m                     \u001b[0mhidden_states\u001b[0m\u001b[0;34m,\u001b[0m\u001b[0;34m\u001b[0m\u001b[0;34m\u001b[0m\u001b[0m\n\u001b[1;32m    529\u001b[0m                     \u001b[0mattention_mask\u001b[0m\u001b[0;34m,\u001b[0m\u001b[0;34m\u001b[0m\u001b[0;34m\u001b[0m\u001b[0m\n",
      "\u001b[0;32m~/miniconda3/envs/mle_capstone/lib/python3.8/site-packages/torch/nn/modules/module.py\u001b[0m in \u001b[0;36m_call_impl\u001b[0;34m(self, *input, **kwargs)\u001b[0m\n\u001b[1;32m    887\u001b[0m             \u001b[0mresult\u001b[0m \u001b[0;34m=\u001b[0m \u001b[0mself\u001b[0m\u001b[0;34m.\u001b[0m\u001b[0m_slow_forward\u001b[0m\u001b[0;34m(\u001b[0m\u001b[0;34m*\u001b[0m\u001b[0minput\u001b[0m\u001b[0;34m,\u001b[0m \u001b[0;34m**\u001b[0m\u001b[0mkwargs\u001b[0m\u001b[0;34m)\u001b[0m\u001b[0;34m\u001b[0m\u001b[0;34m\u001b[0m\u001b[0m\n\u001b[1;32m    888\u001b[0m         \u001b[0;32melse\u001b[0m\u001b[0;34m:\u001b[0m\u001b[0;34m\u001b[0m\u001b[0;34m\u001b[0m\u001b[0m\n\u001b[0;32m--> 889\u001b[0;31m             \u001b[0mresult\u001b[0m \u001b[0;34m=\u001b[0m \u001b[0mself\u001b[0m\u001b[0;34m.\u001b[0m\u001b[0mforward\u001b[0m\u001b[0;34m(\u001b[0m\u001b[0;34m*\u001b[0m\u001b[0minput\u001b[0m\u001b[0;34m,\u001b[0m \u001b[0;34m**\u001b[0m\u001b[0mkwargs\u001b[0m\u001b[0;34m)\u001b[0m\u001b[0;34m\u001b[0m\u001b[0;34m\u001b[0m\u001b[0m\n\u001b[0m\u001b[1;32m    890\u001b[0m         for hook in itertools.chain(\n\u001b[1;32m    891\u001b[0m                 \u001b[0m_global_forward_hooks\u001b[0m\u001b[0;34m.\u001b[0m\u001b[0mvalues\u001b[0m\u001b[0;34m(\u001b[0m\u001b[0;34m)\u001b[0m\u001b[0;34m,\u001b[0m\u001b[0;34m\u001b[0m\u001b[0;34m\u001b[0m\u001b[0m\n",
      "\u001b[0;32m~/miniconda3/envs/mle_capstone/lib/python3.8/site-packages/transformers/models/roberta/modeling_roberta.py\u001b[0m in \u001b[0;36mforward\u001b[0;34m(self, hidden_states, attention_mask, head_mask, encoder_hidden_states, encoder_attention_mask, past_key_value, output_attentions)\u001b[0m\n\u001b[1;32m    452\u001b[0m             \u001b[0mpresent_key_value\u001b[0m \u001b[0;34m=\u001b[0m \u001b[0mpresent_key_value\u001b[0m \u001b[0;34m+\u001b[0m \u001b[0mcross_attn_present_key_value\u001b[0m\u001b[0;34m\u001b[0m\u001b[0;34m\u001b[0m\u001b[0m\n\u001b[1;32m    453\u001b[0m \u001b[0;34m\u001b[0m\u001b[0m\n\u001b[0;32m--> 454\u001b[0;31m         layer_output = apply_chunking_to_forward(\n\u001b[0m\u001b[1;32m    455\u001b[0m             \u001b[0mself\u001b[0m\u001b[0;34m.\u001b[0m\u001b[0mfeed_forward_chunk\u001b[0m\u001b[0;34m,\u001b[0m \u001b[0mself\u001b[0m\u001b[0;34m.\u001b[0m\u001b[0mchunk_size_feed_forward\u001b[0m\u001b[0;34m,\u001b[0m \u001b[0mself\u001b[0m\u001b[0;34m.\u001b[0m\u001b[0mseq_len_dim\u001b[0m\u001b[0;34m,\u001b[0m \u001b[0mattention_output\u001b[0m\u001b[0;34m\u001b[0m\u001b[0;34m\u001b[0m\u001b[0m\n\u001b[1;32m    456\u001b[0m         )\n",
      "\u001b[0;32m~/miniconda3/envs/mle_capstone/lib/python3.8/site-packages/transformers/modeling_utils.py\u001b[0m in \u001b[0;36mapply_chunking_to_forward\u001b[0;34m(forward_fn, chunk_size, chunk_dim, *input_tensors)\u001b[0m\n\u001b[1;32m   2926\u001b[0m         \u001b[0;32mreturn\u001b[0m \u001b[0mtorch\u001b[0m\u001b[0;34m.\u001b[0m\u001b[0mcat\u001b[0m\u001b[0;34m(\u001b[0m\u001b[0moutput_chunks\u001b[0m\u001b[0;34m,\u001b[0m \u001b[0mdim\u001b[0m\u001b[0;34m=\u001b[0m\u001b[0mchunk_dim\u001b[0m\u001b[0;34m)\u001b[0m\u001b[0;34m\u001b[0m\u001b[0;34m\u001b[0m\u001b[0m\n\u001b[1;32m   2927\u001b[0m \u001b[0;34m\u001b[0m\u001b[0m\n\u001b[0;32m-> 2928\u001b[0;31m     \u001b[0;32mreturn\u001b[0m \u001b[0mforward_fn\u001b[0m\u001b[0;34m(\u001b[0m\u001b[0;34m*\u001b[0m\u001b[0minput_tensors\u001b[0m\u001b[0;34m)\u001b[0m\u001b[0;34m\u001b[0m\u001b[0;34m\u001b[0m\u001b[0m\n\u001b[0m",
      "\u001b[0;32m~/miniconda3/envs/mle_capstone/lib/python3.8/site-packages/transformers/models/roberta/modeling_roberta.py\u001b[0m in \u001b[0;36mfeed_forward_chunk\u001b[0;34m(self, attention_output)\u001b[0m\n\u001b[1;32m    464\u001b[0m \u001b[0;34m\u001b[0m\u001b[0m\n\u001b[1;32m    465\u001b[0m     \u001b[0;32mdef\u001b[0m \u001b[0mfeed_forward_chunk\u001b[0m\u001b[0;34m(\u001b[0m\u001b[0mself\u001b[0m\u001b[0;34m,\u001b[0m \u001b[0mattention_output\u001b[0m\u001b[0;34m)\u001b[0m\u001b[0;34m:\u001b[0m\u001b[0;34m\u001b[0m\u001b[0;34m\u001b[0m\u001b[0m\n\u001b[0;32m--> 466\u001b[0;31m         \u001b[0mintermediate_output\u001b[0m \u001b[0;34m=\u001b[0m \u001b[0mself\u001b[0m\u001b[0;34m.\u001b[0m\u001b[0mintermediate\u001b[0m\u001b[0;34m(\u001b[0m\u001b[0mattention_output\u001b[0m\u001b[0;34m)\u001b[0m\u001b[0;34m\u001b[0m\u001b[0;34m\u001b[0m\u001b[0m\n\u001b[0m\u001b[1;32m    467\u001b[0m         \u001b[0mlayer_output\u001b[0m \u001b[0;34m=\u001b[0m \u001b[0mself\u001b[0m\u001b[0;34m.\u001b[0m\u001b[0moutput\u001b[0m\u001b[0;34m(\u001b[0m\u001b[0mintermediate_output\u001b[0m\u001b[0;34m,\u001b[0m \u001b[0mattention_output\u001b[0m\u001b[0;34m)\u001b[0m\u001b[0;34m\u001b[0m\u001b[0;34m\u001b[0m\u001b[0m\n\u001b[1;32m    468\u001b[0m         \u001b[0;32mreturn\u001b[0m \u001b[0mlayer_output\u001b[0m\u001b[0;34m\u001b[0m\u001b[0;34m\u001b[0m\u001b[0m\n",
      "\u001b[0;32m~/miniconda3/envs/mle_capstone/lib/python3.8/site-packages/torch/nn/modules/module.py\u001b[0m in \u001b[0;36m_call_impl\u001b[0;34m(self, *input, **kwargs)\u001b[0m\n\u001b[1;32m    887\u001b[0m             \u001b[0mresult\u001b[0m \u001b[0;34m=\u001b[0m \u001b[0mself\u001b[0m\u001b[0;34m.\u001b[0m\u001b[0m_slow_forward\u001b[0m\u001b[0;34m(\u001b[0m\u001b[0;34m*\u001b[0m\u001b[0minput\u001b[0m\u001b[0;34m,\u001b[0m \u001b[0;34m**\u001b[0m\u001b[0mkwargs\u001b[0m\u001b[0;34m)\u001b[0m\u001b[0;34m\u001b[0m\u001b[0;34m\u001b[0m\u001b[0m\n\u001b[1;32m    888\u001b[0m         \u001b[0;32melse\u001b[0m\u001b[0;34m:\u001b[0m\u001b[0;34m\u001b[0m\u001b[0;34m\u001b[0m\u001b[0m\n\u001b[0;32m--> 889\u001b[0;31m             \u001b[0mresult\u001b[0m \u001b[0;34m=\u001b[0m \u001b[0mself\u001b[0m\u001b[0;34m.\u001b[0m\u001b[0mforward\u001b[0m\u001b[0;34m(\u001b[0m\u001b[0;34m*\u001b[0m\u001b[0minput\u001b[0m\u001b[0;34m,\u001b[0m \u001b[0;34m**\u001b[0m\u001b[0mkwargs\u001b[0m\u001b[0;34m)\u001b[0m\u001b[0;34m\u001b[0m\u001b[0;34m\u001b[0m\u001b[0m\n\u001b[0m\u001b[1;32m    890\u001b[0m         for hook in itertools.chain(\n\u001b[1;32m    891\u001b[0m                 \u001b[0m_global_forward_hooks\u001b[0m\u001b[0;34m.\u001b[0m\u001b[0mvalues\u001b[0m\u001b[0;34m(\u001b[0m\u001b[0;34m)\u001b[0m\u001b[0;34m,\u001b[0m\u001b[0;34m\u001b[0m\u001b[0;34m\u001b[0m\u001b[0m\n",
      "\u001b[0;32m~/miniconda3/envs/mle_capstone/lib/python3.8/site-packages/transformers/models/roberta/modeling_roberta.py\u001b[0m in \u001b[0;36mforward\u001b[0;34m(self, hidden_states)\u001b[0m\n\u001b[1;32m    363\u001b[0m \u001b[0;34m\u001b[0m\u001b[0m\n\u001b[1;32m    364\u001b[0m     \u001b[0;32mdef\u001b[0m \u001b[0mforward\u001b[0m\u001b[0;34m(\u001b[0m\u001b[0mself\u001b[0m\u001b[0;34m,\u001b[0m \u001b[0mhidden_states\u001b[0m\u001b[0;34m:\u001b[0m \u001b[0mtorch\u001b[0m\u001b[0;34m.\u001b[0m\u001b[0mTensor\u001b[0m\u001b[0;34m)\u001b[0m \u001b[0;34m->\u001b[0m \u001b[0mtorch\u001b[0m\u001b[0;34m.\u001b[0m\u001b[0mTensor\u001b[0m\u001b[0;34m:\u001b[0m\u001b[0;34m\u001b[0m\u001b[0;34m\u001b[0m\u001b[0m\n\u001b[0;32m--> 365\u001b[0;31m         \u001b[0mhidden_states\u001b[0m \u001b[0;34m=\u001b[0m \u001b[0mself\u001b[0m\u001b[0;34m.\u001b[0m\u001b[0mdense\u001b[0m\u001b[0;34m(\u001b[0m\u001b[0mhidden_states\u001b[0m\u001b[0;34m)\u001b[0m\u001b[0;34m\u001b[0m\u001b[0;34m\u001b[0m\u001b[0m\n\u001b[0m\u001b[1;32m    366\u001b[0m         \u001b[0mhidden_states\u001b[0m \u001b[0;34m=\u001b[0m \u001b[0mself\u001b[0m\u001b[0;34m.\u001b[0m\u001b[0mintermediate_act_fn\u001b[0m\u001b[0;34m(\u001b[0m\u001b[0mhidden_states\u001b[0m\u001b[0;34m)\u001b[0m\u001b[0;34m\u001b[0m\u001b[0;34m\u001b[0m\u001b[0m\n\u001b[1;32m    367\u001b[0m         \u001b[0;32mreturn\u001b[0m \u001b[0mhidden_states\u001b[0m\u001b[0;34m\u001b[0m\u001b[0;34m\u001b[0m\u001b[0m\n",
      "\u001b[0;32m~/miniconda3/envs/mle_capstone/lib/python3.8/site-packages/torch/nn/modules/module.py\u001b[0m in \u001b[0;36m_call_impl\u001b[0;34m(self, *input, **kwargs)\u001b[0m\n\u001b[1;32m    887\u001b[0m             \u001b[0mresult\u001b[0m \u001b[0;34m=\u001b[0m \u001b[0mself\u001b[0m\u001b[0;34m.\u001b[0m\u001b[0m_slow_forward\u001b[0m\u001b[0;34m(\u001b[0m\u001b[0;34m*\u001b[0m\u001b[0minput\u001b[0m\u001b[0;34m,\u001b[0m \u001b[0;34m**\u001b[0m\u001b[0mkwargs\u001b[0m\u001b[0;34m)\u001b[0m\u001b[0;34m\u001b[0m\u001b[0;34m\u001b[0m\u001b[0m\n\u001b[1;32m    888\u001b[0m         \u001b[0;32melse\u001b[0m\u001b[0;34m:\u001b[0m\u001b[0;34m\u001b[0m\u001b[0;34m\u001b[0m\u001b[0m\n\u001b[0;32m--> 889\u001b[0;31m             \u001b[0mresult\u001b[0m \u001b[0;34m=\u001b[0m \u001b[0mself\u001b[0m\u001b[0;34m.\u001b[0m\u001b[0mforward\u001b[0m\u001b[0;34m(\u001b[0m\u001b[0;34m*\u001b[0m\u001b[0minput\u001b[0m\u001b[0;34m,\u001b[0m \u001b[0;34m**\u001b[0m\u001b[0mkwargs\u001b[0m\u001b[0;34m)\u001b[0m\u001b[0;34m\u001b[0m\u001b[0;34m\u001b[0m\u001b[0m\n\u001b[0m\u001b[1;32m    890\u001b[0m         for hook in itertools.chain(\n\u001b[1;32m    891\u001b[0m                 \u001b[0m_global_forward_hooks\u001b[0m\u001b[0;34m.\u001b[0m\u001b[0mvalues\u001b[0m\u001b[0;34m(\u001b[0m\u001b[0;34m)\u001b[0m\u001b[0;34m,\u001b[0m\u001b[0;34m\u001b[0m\u001b[0;34m\u001b[0m\u001b[0m\n",
      "\u001b[0;32m~/miniconda3/envs/mle_capstone/lib/python3.8/site-packages/torch/nn/modules/linear.py\u001b[0m in \u001b[0;36mforward\u001b[0;34m(self, input)\u001b[0m\n\u001b[1;32m     92\u001b[0m \u001b[0;34m\u001b[0m\u001b[0m\n\u001b[1;32m     93\u001b[0m     \u001b[0;32mdef\u001b[0m \u001b[0mforward\u001b[0m\u001b[0;34m(\u001b[0m\u001b[0mself\u001b[0m\u001b[0;34m,\u001b[0m \u001b[0minput\u001b[0m\u001b[0;34m:\u001b[0m \u001b[0mTensor\u001b[0m\u001b[0;34m)\u001b[0m \u001b[0;34m->\u001b[0m \u001b[0mTensor\u001b[0m\u001b[0;34m:\u001b[0m\u001b[0;34m\u001b[0m\u001b[0;34m\u001b[0m\u001b[0m\n\u001b[0;32m---> 94\u001b[0;31m         \u001b[0;32mreturn\u001b[0m \u001b[0mF\u001b[0m\u001b[0;34m.\u001b[0m\u001b[0mlinear\u001b[0m\u001b[0;34m(\u001b[0m\u001b[0minput\u001b[0m\u001b[0;34m,\u001b[0m \u001b[0mself\u001b[0m\u001b[0;34m.\u001b[0m\u001b[0mweight\u001b[0m\u001b[0;34m,\u001b[0m \u001b[0mself\u001b[0m\u001b[0;34m.\u001b[0m\u001b[0mbias\u001b[0m\u001b[0;34m)\u001b[0m\u001b[0;34m\u001b[0m\u001b[0;34m\u001b[0m\u001b[0m\n\u001b[0m\u001b[1;32m     95\u001b[0m \u001b[0;34m\u001b[0m\u001b[0m\n\u001b[1;32m     96\u001b[0m     \u001b[0;32mdef\u001b[0m \u001b[0mextra_repr\u001b[0m\u001b[0;34m(\u001b[0m\u001b[0mself\u001b[0m\u001b[0;34m)\u001b[0m \u001b[0;34m->\u001b[0m \u001b[0mstr\u001b[0m\u001b[0;34m:\u001b[0m\u001b[0;34m\u001b[0m\u001b[0;34m\u001b[0m\u001b[0m\n",
      "\u001b[0;32m~/miniconda3/envs/mle_capstone/lib/python3.8/site-packages/torch/nn/functional.py\u001b[0m in \u001b[0;36mlinear\u001b[0;34m(input, weight, bias)\u001b[0m\n\u001b[1;32m   1751\u001b[0m     \u001b[0;32mif\u001b[0m \u001b[0mhas_torch_function_variadic\u001b[0m\u001b[0;34m(\u001b[0m\u001b[0minput\u001b[0m\u001b[0;34m,\u001b[0m \u001b[0mweight\u001b[0m\u001b[0;34m)\u001b[0m\u001b[0;34m:\u001b[0m\u001b[0;34m\u001b[0m\u001b[0;34m\u001b[0m\u001b[0m\n\u001b[1;32m   1752\u001b[0m         \u001b[0;32mreturn\u001b[0m \u001b[0mhandle_torch_function\u001b[0m\u001b[0;34m(\u001b[0m\u001b[0mlinear\u001b[0m\u001b[0;34m,\u001b[0m \u001b[0;34m(\u001b[0m\u001b[0minput\u001b[0m\u001b[0;34m,\u001b[0m \u001b[0mweight\u001b[0m\u001b[0;34m)\u001b[0m\u001b[0;34m,\u001b[0m \u001b[0minput\u001b[0m\u001b[0;34m,\u001b[0m \u001b[0mweight\u001b[0m\u001b[0;34m,\u001b[0m \u001b[0mbias\u001b[0m\u001b[0;34m=\u001b[0m\u001b[0mbias\u001b[0m\u001b[0;34m)\u001b[0m\u001b[0;34m\u001b[0m\u001b[0;34m\u001b[0m\u001b[0m\n\u001b[0;32m-> 1753\u001b[0;31m     \u001b[0;32mreturn\u001b[0m \u001b[0mtorch\u001b[0m\u001b[0;34m.\u001b[0m\u001b[0m_C\u001b[0m\u001b[0;34m.\u001b[0m\u001b[0m_nn\u001b[0m\u001b[0;34m.\u001b[0m\u001b[0mlinear\u001b[0m\u001b[0;34m(\u001b[0m\u001b[0minput\u001b[0m\u001b[0;34m,\u001b[0m \u001b[0mweight\u001b[0m\u001b[0;34m,\u001b[0m \u001b[0mbias\u001b[0m\u001b[0;34m)\u001b[0m\u001b[0;34m\u001b[0m\u001b[0;34m\u001b[0m\u001b[0m\n\u001b[0m\u001b[1;32m   1754\u001b[0m \u001b[0;34m\u001b[0m\u001b[0m\n\u001b[1;32m   1755\u001b[0m \u001b[0;34m\u001b[0m\u001b[0m\n",
      "\u001b[0;31mRuntimeError\u001b[0m: CUDA error: CUBLAS_STATUS_EXECUTION_FAILED when calling `cublasSgemm( handle, opa, opb, m, n, k, &alpha, a, lda, b, ldb, &beta, c, ldc)`"
     ]
    }
   ],
   "source": [
    "\n",
    "NB = len(book_df)//5000\n",
    "for i in range(NB):\n",
    "    tmp = model.encode(book_df['NameDesc'].values[i*5000:(i+1)*5000], show_progress_bar=True, batch_size=16,device='cuda')\n",
    "    torch.cuda.empty_cache()\n",
    "    if i == 0:\n",
    "        book_transformer_embedding = tmp\n",
    "    else:\n",
    "        book_transformer_embedding = np.concatenate([book_transformer_embedding, tmp])\n",
    "        \n",
    "tail = model.encode(book_df['NameDesc'].values[NB*5000:], show_progress_bar=True)\n",
    "book_transformer_embedding = np.concatenate([book_transformer_embedding, tail])\n"
   ]
  },
  {
   "cell_type": "code",
   "execution_count": 89,
   "id": "181f266a",
   "metadata": {},
   "outputs": [
    {
     "data": {
      "text/plain": [
       "(12292, 768)"
      ]
     },
     "execution_count": 89,
     "metadata": {},
     "output_type": "execute_result"
    }
   ],
   "source": [
    "book_transformer_embedding.shape"
   ]
  },
  {
   "cell_type": "code",
   "execution_count": 90,
   "id": "1962177c",
   "metadata": {},
   "outputs": [],
   "source": [
    "x_train, x_test,y_train, y_test = train_test_split(book_transformer_embedding, book_transformer_embedding, test_size=0.1, random_state=2022)"
   ]
  },
  {
   "cell_type": "markdown",
   "id": "aebf70b6",
   "metadata": {},
   "source": [
    "### Build an autoencoder to reduce the dimension for the book embedding from transformer"
   ]
  },
  {
   "cell_type": "code",
   "execution_count": 91,
   "id": "fe9df4c0",
   "metadata": {},
   "outputs": [],
   "source": [
    "##Deep Learning specific stuff\n",
    "from sklearn import preprocessing\n",
    "from sklearn.model_selection import train_test_split\n",
    "import tensorflow as tf\n",
    "import tensorflow.keras.backend as K\n",
    "from tensorflow.keras.models import Sequential\n",
    "from tensorflow.keras.layers import Dense , Concatenate\n",
    "from tensorflow.keras.optimizers import Adam,SGD,Adagrad,Adadelta,RMSprop\n",
    "from tensorflow.keras\n",
    "\n",
    "\n",
    "    .utils import to_categorical\n",
    "from tensorflow. keras.utils import model_to_dot\n",
    "from tensorflow.keras.callbacks import ReduceLROnPlateau\n",
    "from tensorflow.keras.layers import Dropout, Flatten,Activation,Input,Embedding\n",
    "from tensorflow.keras.layers import Conv2D, MaxPooling2D, BatchNormalization\n",
    "from tensorflow.keras.layers import dot\n",
    "from tensorflow.keras.models import Model"
   ]
  },
  {
   "cell_type": "code",
   "execution_count": 92,
   "id": "af7f4f11",
   "metadata": {},
   "outputs": [],
   "source": [
    "#build autoencoder model\n",
    "def build_autoencoder(input_dim, middle_dim, latent_factors, drop_out): \n",
    "    book_input=Input(shape=(input_dim,),name='book_input',dtype=tf.float64)\n",
    "    #encoder\n",
    "    dense1out = Dense(middle_dim, activation='relu')(book_input)\n",
    "    bat1out = BatchNormalization()(dense1out)\n",
    "    drop1out = Dropout(drop_out)(bat1out)\n",
    "    encout = Dense(latent_factors, activation='relu',name='embedding')(drop1out)\n",
    "    #decoder\n",
    "    dense3out = Dense(middle_dim, activation='relu')(encout)\n",
    "    bat2out = BatchNormalization()(dense3out)\n",
    "    drop2out = Dropout(drop_out)(bat2out)\n",
    "    dense4out = Dense(input_dim)(drop2out)\n",
    "    bat3out = BatchNormalization()(dense4out)\n",
    "    decout = tf.keras.activations.sigmoid(bat3out)\n",
    "\n",
    "\n",
    "    autoencoder =Model(book_input,decout)\n",
    "    return autoencoder"
   ]
  },
  {
   "cell_type": "code",
   "execution_count": 93,
   "id": "635c1fd0",
   "metadata": {},
   "outputs": [],
   "source": [
    "\n",
    "x_train, x_test,y_train, y_test = train_test_split(book_transformer_embedding, book_transformer_embedding, test_size=0.1, random_state=2022)"
   ]
  },
  {
   "cell_type": "code",
   "execution_count": 94,
   "id": "166068e8",
   "metadata": {},
   "outputs": [
    {
     "name": "stdout",
     "output_type": "stream",
     "text": [
      "Model: \"model_6\"\n",
      "_________________________________________________________________\n",
      "Layer (type)                 Output Shape              Param #   \n",
      "=================================================================\n",
      "book_input (InputLayer)      [(None, 768)]             0         \n",
      "_________________________________________________________________\n",
      "dense_12 (Dense)             (None, 300)               230700    \n",
      "_________________________________________________________________\n",
      "batch_normalization_10 (Batc (None, 300)               1200      \n",
      "_________________________________________________________________\n",
      "dropout_8 (Dropout)          (None, 300)               0         \n",
      "_________________________________________________________________\n",
      "embedding (Dense)            (None, 16)                4816      \n",
      "_________________________________________________________________\n",
      "dense_13 (Dense)             (None, 300)               5100      \n",
      "_________________________________________________________________\n",
      "batch_normalization_11 (Batc (None, 300)               1200      \n",
      "_________________________________________________________________\n",
      "dropout_9 (Dropout)          (None, 300)               0         \n",
      "_________________________________________________________________\n",
      "dense_14 (Dense)             (None, 768)               231168    \n",
      "_________________________________________________________________\n",
      "batch_normalization_12 (Batc (None, 768)               3072      \n",
      "_________________________________________________________________\n",
      "tf.math.sigmoid_2 (TFOpLambd (None, 768)               0         \n",
      "=================================================================\n",
      "Total params: 477,256\n",
      "Trainable params: 474,520\n",
      "Non-trainable params: 2,736\n",
      "_________________________________________________________________\n"
     ]
    }
   ],
   "source": [
    "autoenc2 = build_autoencoder(x_train.shape[1], 300, 16, 0.2)\n",
    "autoenc2.summary()"
   ]
  },
  {
   "cell_type": "code",
   "execution_count": 95,
   "id": "903ed920",
   "metadata": {},
   "outputs": [
    {
     "name": "stdout",
     "output_type": "stream",
     "text": [
      "Epoch 1/20\n",
      "2766/2766 [==============================] - 7s 2ms/step - loss: 0.2589 - val_loss: 0.2383\n",
      "Epoch 2/20\n",
      "2766/2766 [==============================] - 6s 2ms/step - loss: 0.1855 - val_loss: 0.1806\n",
      "Epoch 3/20\n",
      "2766/2766 [==============================] - 5s 2ms/step - loss: 0.1249 - val_loss: 0.1082\n",
      "Epoch 4/20\n",
      "2766/2766 [==============================] - 5s 2ms/step - loss: 0.0842 - val_loss: 0.0698\n",
      "Epoch 5/20\n",
      "2766/2766 [==============================] - 5s 2ms/step - loss: 0.0581 - val_loss: 0.0481\n",
      "Epoch 6/20\n",
      "2766/2766 [==============================] - 6s 2ms/step - loss: 0.0402 - val_loss: 0.0331\n",
      "Epoch 7/20\n",
      "2766/2766 [==============================] - 6s 2ms/step - loss: 0.0275 - val_loss: 0.0226\n",
      "Epoch 8/20\n",
      "2766/2766 [==============================] - 5s 2ms/step - loss: 0.0188 - val_loss: 0.0154\n",
      "Epoch 9/20\n",
      "2766/2766 [==============================] - 5s 2ms/step - loss: 0.0129 - val_loss: 0.0106\n",
      "Epoch 10/20\n",
      "2766/2766 [==============================] - 5s 2ms/step - loss: 0.0089 - val_loss: 0.0074\n",
      "Epoch 11/20\n",
      "2766/2766 [==============================] - 6s 2ms/step - loss: 0.0063 - val_loss: 0.0052\n",
      "Epoch 12/20\n",
      "2766/2766 [==============================] - 5s 2ms/step - loss: 0.0045 - val_loss: 0.0038\n",
      "Epoch 13/20\n",
      "2766/2766 [==============================] - 6s 2ms/step - loss: 0.0034 - val_loss: 0.0029\n",
      "Epoch 14/20\n",
      "2766/2766 [==============================] - 5s 2ms/step - loss: 0.0026 - val_loss: 0.0023\n",
      "Epoch 15/20\n",
      "2766/2766 [==============================] - 6s 2ms/step - loss: 0.0022 - val_loss: 0.0019\n",
      "Epoch 16/20\n",
      "2766/2766 [==============================] - 5s 2ms/step - loss: 0.0018 - val_loss: 0.0017\n",
      "Epoch 17/20\n",
      "2766/2766 [==============================] - 5s 2ms/step - loss: 0.0016 - val_loss: 0.0015\n",
      "Epoch 18/20\n",
      "2766/2766 [==============================] - 5s 2ms/step - loss: 0.0015 - val_loss: 0.0014\n",
      "Epoch 19/20\n",
      "2766/2766 [==============================] - 5s 2ms/step - loss: 0.0014 - val_loss: 0.0013\n",
      "Epoch 20/20\n",
      "2766/2766 [==============================] - 5s 2ms/step - loss: 0.0013 - val_loss: 0.0012\n"
     ]
    }
   ],
   "source": [
    "loss_fun = tf.keras.losses.MeanSquaredError()\n",
    "autoenc2.compile(optimizer=Adam(learning_rate=1e-4),loss=loss_fun)\n",
    "batch_size=4\n",
    "epochs=20\n",
    "History = autoenc2.fit(x_train,y_train, batch_size=batch_size,\n",
    "                              epochs =epochs, validation_data = (x_test, y_test),\n",
    "                              verbose = 1)"
   ]
  },
  {
   "cell_type": "code",
   "execution_count": 96,
   "id": "c59e0837",
   "metadata": {},
   "outputs": [],
   "source": [
    "#Extract the embedding\n",
    "extractor2 = Model(inputs=autoenc2.inputs,outputs=autoenc2.get_layer('embedding').output)\n",
    "book_embedding_trf_reduce = extractor2.predict(book_transformer_embedding, batch_size=4)"
   ]
  },
  {
   "cell_type": "code",
   "execution_count": 98,
   "id": "379540e6",
   "metadata": {},
   "outputs": [
    {
     "data": {
      "text/plain": [
       "(12292, 16)"
      ]
     },
     "execution_count": 98,
     "metadata": {},
     "output_type": "execute_result"
    }
   ],
   "source": [
    "book_embedding_trf_reduce.shape"
   ]
  },
  {
   "cell_type": "markdown",
   "id": "49c6eee9",
   "metadata": {},
   "source": [
    "### Generate the book embedding from user rating matrix based on deep learning collaborative filter"
   ]
  },
  {
   "cell_type": "code",
   "execution_count": 65,
   "id": "000b33a7",
   "metadata": {},
   "outputs": [
    {
     "name": "stderr",
     "output_type": "stream",
     "text": [
      "/home/jin/miniconda3/envs/mle_capstone/lib/python3.8/site-packages/pandas/util/_decorators.py:311: SettingWithCopyWarning: \n",
      "A value is trying to be set on a copy of a slice from a DataFrame\n",
      "\n",
      "See the caveats in the documentation: https://pandas.pydata.org/pandas-docs/stable/user_guide/indexing.html#returning-a-view-versus-a-copy\n",
      "  return func(*args, **kwargs)\n",
      "/tmp/ipykernel_26650/463382217.py:4: SettingWithCopyWarning: \n",
      "A value is trying to be set on a copy of a slice from a DataFrame.\n",
      "Try using .loc[row_indexer,col_indexer] = value instead\n",
      "\n",
      "See the caveats in the documentation: https://pandas.pydata.org/pandas-docs/stable/user_guide/indexing.html#returning-a-view-versus-a-copy\n",
      "  book_map['Book_Id']=book_map.index.values\n"
     ]
    },
    {
     "data": {
      "text/html": [
       "<div>\n",
       "<style scoped>\n",
       "    .dataframe tbody tr th:only-of-type {\n",
       "        vertical-align: middle;\n",
       "    }\n",
       "\n",
       "    .dataframe tbody tr th {\n",
       "        vertical-align: top;\n",
       "    }\n",
       "\n",
       "    .dataframe thead th {\n",
       "        text-align: right;\n",
       "    }\n",
       "</style>\n",
       "<table border=\"1\" class=\"dataframe\">\n",
       "  <thead>\n",
       "    <tr style=\"text-align: right;\">\n",
       "      <th></th>\n",
       "      <th>ID</th>\n",
       "      <th>Name</th>\n",
       "      <th>Rating</th>\n",
       "      <th>Book_Id</th>\n",
       "    </tr>\n",
       "  </thead>\n",
       "  <tbody>\n",
       "    <tr>\n",
       "      <th>0</th>\n",
       "      <td>1</td>\n",
       "      <td>Agile Web Development with Rails: A Pragmatic ...</td>\n",
       "      <td>it was amazing</td>\n",
       "      <td>0</td>\n",
       "    </tr>\n",
       "    <tr>\n",
       "      <th>1</th>\n",
       "      <td>1</td>\n",
       "      <td>The Restaurant at the End of the Universe (Hit...</td>\n",
       "      <td>it was amazing</td>\n",
       "      <td>1</td>\n",
       "    </tr>\n",
       "    <tr>\n",
       "      <th>2</th>\n",
       "      <td>1</td>\n",
       "      <td>Siddhartha</td>\n",
       "      <td>it was amazing</td>\n",
       "      <td>2</td>\n",
       "    </tr>\n",
       "    <tr>\n",
       "      <th>3</th>\n",
       "      <td>1</td>\n",
       "      <td>The Clock of the Long Now: Time and Responsibi...</td>\n",
       "      <td>really liked it</td>\n",
       "      <td>3</td>\n",
       "    </tr>\n",
       "    <tr>\n",
       "      <th>4</th>\n",
       "      <td>1</td>\n",
       "      <td>Ready Player One (Ready Player One, #1)</td>\n",
       "      <td>really liked it</td>\n",
       "      <td>4</td>\n",
       "    </tr>\n",
       "  </tbody>\n",
       "</table>\n",
       "</div>"
      ],
      "text/plain": [
       "  ID                                               Name           Rating  \\\n",
       "0  1  Agile Web Development with Rails: A Pragmatic ...   it was amazing   \n",
       "1  1  The Restaurant at the End of the Universe (Hit...   it was amazing   \n",
       "2  1                                         Siddhartha   it was amazing   \n",
       "3  1  The Clock of the Long Now: Time and Responsibi...  really liked it   \n",
       "4  1            Ready Player One (Ready Player One, #1)  really liked it   \n",
       "\n",
       "   Book_Id  \n",
       "0        0  \n",
       "1        1  \n",
       "2        2  \n",
       "3        3  \n",
       "4        4  "
      ]
     },
     "execution_count": 65,
     "metadata": {},
     "output_type": "execute_result"
    }
   ],
   "source": [
    "book_map = users_pd[['Name']]\n",
    "book_map.drop_duplicates(subset=['Name'],keep='first',inplace=True)\n",
    "book_map.reset_index(drop=True, inplace=True)\n",
    "book_map['Book_Id']=book_map.index.values\n",
    "user_rating_temp = pd.merge(users_pd,book_map, on='Name', how='left')\n",
    "user_rating = user_rating_temp[user_rating_temp['Name']!='Rating'] ##Dropping users who have not rated any books\n",
    "user_rating.head()"
   ]
  },
  {
   "cell_type": "code",
   "execution_count": 66,
   "id": "0553a97e",
   "metadata": {},
   "outputs": [
    {
     "data": {
      "text/html": [
       "<div>\n",
       "<style scoped>\n",
       "    .dataframe tbody tr th:only-of-type {\n",
       "        vertical-align: middle;\n",
       "    }\n",
       "\n",
       "    .dataframe tbody tr th {\n",
       "        vertical-align: top;\n",
       "    }\n",
       "\n",
       "    .dataframe thead th {\n",
       "        text-align: right;\n",
       "    }\n",
       "</style>\n",
       "<table border=\"1\" class=\"dataframe\">\n",
       "  <thead>\n",
       "    <tr style=\"text-align: right;\">\n",
       "      <th></th>\n",
       "      <th>ID</th>\n",
       "      <th>Name</th>\n",
       "      <th>Rating</th>\n",
       "      <th>Book_Id</th>\n",
       "      <th>Rating_numeric</th>\n",
       "    </tr>\n",
       "  </thead>\n",
       "  <tbody>\n",
       "    <tr>\n",
       "      <th>0</th>\n",
       "      <td>1</td>\n",
       "      <td>Agile Web Development with Rails: A Pragmatic ...</td>\n",
       "      <td>it was amazing</td>\n",
       "      <td>0</td>\n",
       "      <td>1</td>\n",
       "    </tr>\n",
       "    <tr>\n",
       "      <th>1</th>\n",
       "      <td>1</td>\n",
       "      <td>The Restaurant at the End of the Universe (Hit...</td>\n",
       "      <td>it was amazing</td>\n",
       "      <td>1</td>\n",
       "      <td>1</td>\n",
       "    </tr>\n",
       "    <tr>\n",
       "      <th>2</th>\n",
       "      <td>1</td>\n",
       "      <td>Siddhartha</td>\n",
       "      <td>it was amazing</td>\n",
       "      <td>2</td>\n",
       "      <td>1</td>\n",
       "    </tr>\n",
       "    <tr>\n",
       "      <th>3</th>\n",
       "      <td>1</td>\n",
       "      <td>The Clock of the Long Now: Time and Responsibi...</td>\n",
       "      <td>really liked it</td>\n",
       "      <td>3</td>\n",
       "      <td>4</td>\n",
       "    </tr>\n",
       "    <tr>\n",
       "      <th>4</th>\n",
       "      <td>1</td>\n",
       "      <td>Ready Player One (Ready Player One, #1)</td>\n",
       "      <td>really liked it</td>\n",
       "      <td>4</td>\n",
       "      <td>4</td>\n",
       "    </tr>\n",
       "  </tbody>\n",
       "</table>\n",
       "</div>"
      ],
      "text/plain": [
       "  ID                                               Name           Rating  \\\n",
       "0  1  Agile Web Development with Rails: A Pragmatic ...   it was amazing   \n",
       "1  1  The Restaurant at the End of the Universe (Hit...   it was amazing   \n",
       "2  1                                         Siddhartha   it was amazing   \n",
       "3  1  The Clock of the Long Now: Time and Responsibi...  really liked it   \n",
       "4  1            Ready Player One (Ready Player One, #1)  really liked it   \n",
       "\n",
       "   Book_Id  Rating_numeric  \n",
       "0        0               1  \n",
       "1        1               1  \n",
       "2        2               1  \n",
       "3        3               4  \n",
       "4        4               4  "
      ]
     },
     "execution_count": 66,
     "metadata": {},
     "output_type": "execute_result"
    }
   ],
   "source": [
    "le = preprocessing.LabelEncoder()\n",
    "user_rating['Rating_numeric'] = le.fit_transform(user_rating.Rating.values)\n",
    "user_rating.head()"
   ]
  },
  {
   "cell_type": "code",
   "execution_count": 67,
   "id": "0dad1503",
   "metadata": {},
   "outputs": [
    {
     "name": "stdout",
     "output_type": "stream",
     "text": [
      "[1 2 3 ... 2986 3018 3155]\n",
      "[     0      1      2 ... 103529 103530 103531]\n"
     ]
    },
    {
     "data": {
      "text/html": [
       "<div>\n",
       "<style scoped>\n",
       "    .dataframe tbody tr th:only-of-type {\n",
       "        vertical-align: middle;\n",
       "    }\n",
       "\n",
       "    .dataframe tbody tr th {\n",
       "        vertical-align: top;\n",
       "    }\n",
       "\n",
       "    .dataframe thead th {\n",
       "        text-align: right;\n",
       "    }\n",
       "</style>\n",
       "<table border=\"1\" class=\"dataframe\">\n",
       "  <thead>\n",
       "    <tr style=\"text-align: right;\">\n",
       "      <th></th>\n",
       "      <th>ID</th>\n",
       "      <th>Name</th>\n",
       "      <th>Rating</th>\n",
       "      <th>Book_Id</th>\n",
       "      <th>Rating_numeric</th>\n",
       "    </tr>\n",
       "  </thead>\n",
       "  <tbody>\n",
       "    <tr>\n",
       "      <th>0</th>\n",
       "      <td>0</td>\n",
       "      <td>Agile Web Development with Rails: A Pragmatic ...</td>\n",
       "      <td>it was amazing</td>\n",
       "      <td>0</td>\n",
       "      <td>1</td>\n",
       "    </tr>\n",
       "    <tr>\n",
       "      <th>1</th>\n",
       "      <td>0</td>\n",
       "      <td>The Restaurant at the End of the Universe (Hit...</td>\n",
       "      <td>it was amazing</td>\n",
       "      <td>1</td>\n",
       "      <td>1</td>\n",
       "    </tr>\n",
       "    <tr>\n",
       "      <th>2</th>\n",
       "      <td>0</td>\n",
       "      <td>Siddhartha</td>\n",
       "      <td>it was amazing</td>\n",
       "      <td>2</td>\n",
       "      <td>1</td>\n",
       "    </tr>\n",
       "    <tr>\n",
       "      <th>3</th>\n",
       "      <td>0</td>\n",
       "      <td>The Clock of the Long Now: Time and Responsibi...</td>\n",
       "      <td>really liked it</td>\n",
       "      <td>3</td>\n",
       "      <td>4</td>\n",
       "    </tr>\n",
       "    <tr>\n",
       "      <th>4</th>\n",
       "      <td>0</td>\n",
       "      <td>Ready Player One (Ready Player One, #1)</td>\n",
       "      <td>really liked it</td>\n",
       "      <td>4</td>\n",
       "      <td>4</td>\n",
       "    </tr>\n",
       "  </tbody>\n",
       "</table>\n",
       "</div>"
      ],
      "text/plain": [
       "   ID                                               Name           Rating  \\\n",
       "0   0  Agile Web Development with Rails: A Pragmatic ...   it was amazing   \n",
       "1   0  The Restaurant at the End of the Universe (Hit...   it was amazing   \n",
       "2   0                                         Siddhartha   it was amazing   \n",
       "3   0  The Clock of the Long Now: Time and Responsibi...  really liked it   \n",
       "4   0            Ready Player One (Ready Player One, #1)  really liked it   \n",
       "\n",
       "   Book_Id  Rating_numeric  \n",
       "0        0               1  \n",
       "1        1               1  \n",
       "2        2               1  \n",
       "3        3               4  \n",
       "4        4               4  "
      ]
     },
     "execution_count": 67,
     "metadata": {},
     "output_type": "execute_result"
    }
   ],
   "source": [
    "users = user_rating.ID.unique()\n",
    "print(users)\n",
    "books = user_rating.Book_Id.unique()\n",
    "print(books)\n",
    "userid2idx = {o:i for i,o in enumerate(users)}\n",
    "bookid2idx = {o:i for i,o in enumerate(books)}\n",
    "user_rating['ID'] = user_rating['ID'].apply(lambda x: userid2idx[x])\n",
    "user_rating['Book_Id'] = user_rating['Book_Id'].apply(lambda x: bookid2idx[x])\n",
    "user_rating.head()"
   ]
  },
  {
   "cell_type": "code",
   "execution_count": 68,
   "id": "d08d106c",
   "metadata": {},
   "outputs": [],
   "source": [
    "y=user_rating['Rating_numeric'];\n",
    "X=user_rating.drop(['Rating_numeric'],axis=1)"
   ]
  },
  {
   "cell_type": "code",
   "execution_count": 70,
   "id": "46f79014",
   "metadata": {},
   "outputs": [],
   "source": [
    "def build_model(dropout,latent_factors):\n",
    "    n_books=len(user_rating['Book_Id'].unique())\n",
    "    n_users=len(user_rating['ID'].unique())\n",
    "    n_latent_factors=latent_factors  # hyperparamter to deal with. \n",
    "    user_input=Input(shape=(1,),name='user_input',dtype='int64')\n",
    "    user_embedding=Embedding(n_users,n_latent_factors,name='user_embedding',embeddings_initializer=tf.keras.initializers.GlorotUniform(seed=42))(user_input)\n",
    "    user_vec =Flatten(name='FlattenUsers')(user_embedding)\n",
    "    #user_vec=Dropout(dropout)(user_vec)\n",
    "    book_input=Input(shape=(1,),name='book_input',dtype='int64')\n",
    "    book_embedding=Embedding(n_books,n_latent_factors,name='book_embedding',embeddings_initializer=tf.keras.initializers.GlorotUniform(seed=42))(book_input)\n",
    "    book_vec=Flatten(name='FlattenBooks')(book_embedding)\n",
    "    #book_vec=Dropout(dropout)(book_vec)\n",
    "    sim = tf.concat([user_vec, book_vec], axis=1)\n",
    "    #sim=dot([user_vec,book_vec],name='Similarity-Dot-Product',axes=1)\n",
    "    nn_inp=Dense(256,activation='relu')(sim)\n",
    "    nn_inp=BatchNormalization()(nn_inp)\n",
    "    nn_inp=Dropout(dropout)(nn_inp)\n",
    "    nn_inp=Dense(64,activation='relu')(nn_inp)\n",
    "    nn_inp=BatchNormalization()(nn_inp)\n",
    "    nn_inp=Dropout(dropout)(nn_inp)\n",
    "    nn_inp=Dense(1,activation='relu')(nn_inp)\n",
    "    nn_model =Model([user_input, book_input],nn_inp)\n",
    "    return nn_model"
   ]
  },
  {
   "cell_type": "code",
   "execution_count": 76,
   "id": "c314c8aa",
   "metadata": {},
   "outputs": [
    {
     "name": "stdout",
     "output_type": "stream",
     "text": [
      "Model: \"model_4\"\n",
      "__________________________________________________________________________________________________\n",
      "Layer (type)                    Output Shape         Param #     Connected to                     \n",
      "==================================================================================================\n",
      "user_input (InputLayer)         [(None, 1)]          0                                            \n",
      "__________________________________________________________________________________________________\n",
      "book_input (InputLayer)         [(None, 1)]          0                                            \n",
      "__________________________________________________________________________________________________\n",
      "user_embedding (Embedding)      (None, 1, 16)        66464       user_input[0][0]                 \n",
      "__________________________________________________________________________________________________\n",
      "book_embedding (Embedding)      (None, 1, 16)        1656512     book_input[0][0]                 \n",
      "__________________________________________________________________________________________________\n",
      "FlattenUsers (Flatten)          (None, 16)           0           user_embedding[0][0]             \n",
      "__________________________________________________________________________________________________\n",
      "FlattenBooks (Flatten)          (None, 16)           0           book_embedding[0][0]             \n",
      "__________________________________________________________________________________________________\n",
      "tf.concat_1 (TFOpLambda)        (None, 32)           0           FlattenUsers[0][0]               \n",
      "                                                                 FlattenBooks[0][0]               \n",
      "__________________________________________________________________________________________________\n",
      "dense_9 (Dense)                 (None, 256)          8448        tf.concat_1[0][0]                \n",
      "__________________________________________________________________________________________________\n",
      "batch_normalization_8 (BatchNor (None, 256)          1024        dense_9[0][0]                    \n",
      "__________________________________________________________________________________________________\n",
      "dropout_6 (Dropout)             (None, 256)          0           batch_normalization_8[0][0]      \n",
      "__________________________________________________________________________________________________\n",
      "dense_10 (Dense)                (None, 64)           16448       dropout_6[0][0]                  \n",
      "__________________________________________________________________________________________________\n",
      "batch_normalization_9 (BatchNor (None, 64)           256         dense_10[0][0]                   \n",
      "__________________________________________________________________________________________________\n",
      "dropout_7 (Dropout)             (None, 64)           0           batch_normalization_9[0][0]      \n",
      "__________________________________________________________________________________________________\n",
      "dense_11 (Dense)                (None, 1)            65          dropout_7[0][0]                  \n",
      "==================================================================================================\n",
      "Total params: 1,749,217\n",
      "Trainable params: 1,748,577\n",
      "Non-trainable params: 640\n",
      "__________________________________________________________________________________________________\n"
     ]
    }
   ],
   "source": [
    "nn_model_embed = build_model(0.2,16)\n",
    "nn_model_embed.summary()"
   ]
  },
  {
   "cell_type": "code",
   "execution_count": 77,
   "id": "1bbfde57",
   "metadata": {},
   "outputs": [
    {
     "name": "stdout",
     "output_type": "stream",
     "text": [
      "Epoch 1/20\n",
      "2796/2796 [==============================] - 24s 8ms/step - loss: 3.8711\n",
      "Epoch 2/20\n",
      "2796/2796 [==============================] - 24s 9ms/step - loss: 2.7810\n",
      "Epoch 3/20\n",
      "2796/2796 [==============================] - 24s 8ms/step - loss: 2.2662\n",
      "Epoch 4/20\n",
      "2796/2796 [==============================] - 24s 9ms/step - loss: 1.8818\n",
      "Epoch 5/20\n",
      "2796/2796 [==============================] - 24s 8ms/step - loss: 1.5432\n",
      "Epoch 6/20\n",
      "2796/2796 [==============================] - 24s 9ms/step - loss: 1.3502\n",
      "Epoch 7/20\n",
      "2796/2796 [==============================] - 24s 8ms/step - loss: 1.2416\n",
      "Epoch 8/20\n",
      "2796/2796 [==============================] - 24s 9ms/step - loss: 1.1642\n",
      "Epoch 9/20\n",
      "2796/2796 [==============================] - 24s 9ms/step - loss: 1.0992\n",
      "Epoch 10/20\n",
      "2796/2796 [==============================] - 24s 9ms/step - loss: 1.0431\n",
      "Epoch 11/20\n",
      "2796/2796 [==============================] - 25s 9ms/step - loss: 1.0016\n",
      "Epoch 12/20\n",
      "2796/2796 [==============================] - 25s 9ms/step - loss: 0.9661\n",
      "Epoch 13/20\n",
      "2796/2796 [==============================] - 24s 9ms/step - loss: 0.9171\n",
      "Epoch 14/20\n",
      "2796/2796 [==============================] - 23s 8ms/step - loss: 0.8427\n",
      "Epoch 15/20\n",
      "2796/2796 [==============================] - 24s 9ms/step - loss: 0.7924\n",
      "Epoch 16/20\n",
      "2796/2796 [==============================] - 24s 9ms/step - loss: 0.7362\n",
      "Epoch 17/20\n",
      "2796/2796 [==============================] - 24s 9ms/step - loss: 0.6944\n",
      "Epoch 18/20\n",
      "2796/2796 [==============================] - 24s 8ms/step - loss: 0.6772\n",
      "Epoch 19/20\n",
      "2796/2796 [==============================] - 24s 9ms/step - loss: 0.6576\n",
      "Epoch 20/20\n",
      "2796/2796 [==============================] - 24s 9ms/step - loss: 0.6448\n"
     ]
    }
   ],
   "source": [
    "loss_fun = tf.keras.losses.MeanSquaredError()\n",
    "nn_model_embed.compile(optimizer=Adam(lr=5e-5),loss=loss_fun)\n",
    "batch_size=128\n",
    "epochs=20\n",
    "History = nn_model_embed.fit([X.ID,X.Book_Id],y, batch_size=batch_size,\n",
    "                              epochs =epochs,\n",
    "                              verbose = 1)"
   ]
  },
  {
   "cell_type": "code",
   "execution_count": 78,
   "id": "e9192c49",
   "metadata": {},
   "outputs": [
    {
     "name": "stdout",
     "output_type": "stream",
     "text": [
      "Model: \"model_5\"\n",
      "_________________________________________________________________\n",
      "Layer (type)                 Output Shape              Param #   \n",
      "=================================================================\n",
      "book_input (InputLayer)      [(None, 1)]               0         \n",
      "_________________________________________________________________\n",
      "book_embedding (Embedding)   (None, 1, 16)             1656512   \n",
      "=================================================================\n",
      "Total params: 1,656,512\n",
      "Trainable params: 1,656,512\n",
      "Non-trainable params: 0\n",
      "_________________________________________________________________\n"
     ]
    }
   ],
   "source": [
    "#Extract book embedding from the autoencoder\n",
    "extractor_dl = Model(inputs=nn_model_embed.get_layer('book_input').input,outputs=nn_model_embed.get_layer('book_embedding').output)\n",
    "extractor_dl.summary()\n"
   ]
  },
  {
   "cell_type": "code",
   "execution_count": 79,
   "id": "cf7bbda0",
   "metadata": {},
   "outputs": [
    {
     "data": {
      "text/plain": [
       "(103532, 1)"
      ]
     },
     "execution_count": 79,
     "metadata": {},
     "output_type": "execute_result"
    }
   ],
   "source": [
    "book_id = np.expand_dims(book_map[\"Book_Id\"].values,axis=1)\n",
    "book_id.shape"
   ]
  },
  {
   "cell_type": "code",
   "execution_count": 80,
   "id": "9d89edd9",
   "metadata": {},
   "outputs": [
    {
     "data": {
      "text/plain": [
       "array([[[-1.82831902e-02, -1.13010043e-02, -8.36298149e-03, ...,\n",
       "          1.24472671e-03,  1.28921177e-02,  5.03244018e-03]],\n",
       "\n",
       "       [[-5.98788029e-03, -1.47160068e-02, -1.34457862e-02, ...,\n",
       "          2.38346242e-04, -4.95599490e-03,  4.57263459e-03]],\n",
       "\n",
       "       [[ 1.04435226e-02,  3.79981170e-03, -4.45456943e-03, ...,\n",
       "         -6.61602302e-04, -7.53294397e-03,  3.02512152e-03]],\n",
       "\n",
       "       ...,\n",
       "\n",
       "       [[ 2.97932560e-03, -8.96624941e-03,  1.30520854e-02, ...,\n",
       "         -9.32689011e-03, -7.58682983e-03, -6.75443700e-03]],\n",
       "\n",
       "       [[ 8.83808173e-03,  3.27293435e-03, -8.07063188e-03, ...,\n",
       "          7.22469631e-05,  3.10405088e-03, -1.96278212e-03]],\n",
       "\n",
       "       [[ 1.94203742e-02, -5.60679706e-03,  1.30649125e-02, ...,\n",
       "         -7.75150955e-03, -7.70844705e-03, -7.47999933e-04]]],\n",
       "      dtype=float32)"
      ]
     },
     "execution_count": 80,
     "metadata": {},
     "output_type": "execute_result"
    }
   ],
   "source": [
    "book_embedding_dl = extractor_dl.predict(book_id)\n",
    "book_embedding_dl"
   ]
  },
  {
   "cell_type": "code",
   "execution_count": 82,
   "id": "8ff7aa50",
   "metadata": {
    "scrolled": true
   },
   "outputs": [
    {
     "data": {
      "text/html": [
       "<div>\n",
       "<style scoped>\n",
       "    .dataframe tbody tr th:only-of-type {\n",
       "        vertical-align: middle;\n",
       "    }\n",
       "\n",
       "    .dataframe tbody tr th {\n",
       "        vertical-align: top;\n",
       "    }\n",
       "\n",
       "    .dataframe thead th {\n",
       "        text-align: right;\n",
       "    }\n",
       "</style>\n",
       "<table border=\"1\" class=\"dataframe\">\n",
       "  <thead>\n",
       "    <tr style=\"text-align: right;\">\n",
       "      <th></th>\n",
       "      <th>Name</th>\n",
       "      <th>Authors</th>\n",
       "      <th>Description</th>\n",
       "      <th>Book_Id_x</th>\n",
       "      <th>Book_Id_y</th>\n",
       "    </tr>\n",
       "  </thead>\n",
       "  <tbody>\n",
       "    <tr>\n",
       "      <th>0</th>\n",
       "      <td>The Restaurant at the End of the Universe (Hit...</td>\n",
       "      <td>Douglas Adams</td>\n",
       "      <td>Just when you thought it was safe to go back t...</td>\n",
       "      <td>0</td>\n",
       "      <td>1</td>\n",
       "    </tr>\n",
       "    <tr>\n",
       "      <th>1</th>\n",
       "      <td>Siddhartha</td>\n",
       "      <td>Hermann Hesse</td>\n",
       "      <td>In the novel, Siddhartha, a young man, leaves ...</td>\n",
       "      <td>1</td>\n",
       "      <td>2</td>\n",
       "    </tr>\n",
       "    <tr>\n",
       "      <th>2</th>\n",
       "      <td>The Hunger Games (The Hunger Games, #1)</td>\n",
       "      <td>Suzanne Collins</td>\n",
       "      <td>WINNING MEANS FAME AND FORTUNE.LOSING MEANS CE...</td>\n",
       "      <td>2</td>\n",
       "      <td>5</td>\n",
       "    </tr>\n",
       "    <tr>\n",
       "      <th>3</th>\n",
       "      <td>The Authoritative Calvin and Hobbes: A Calvin ...</td>\n",
       "      <td>Bill Watterson</td>\n",
       "      <td>The Authoritative Calvin and Hobbes, is a larg...</td>\n",
       "      <td>3</td>\n",
       "      <td>7</td>\n",
       "    </tr>\n",
       "    <tr>\n",
       "      <th>4</th>\n",
       "      <td>The Name of the Rose</td>\n",
       "      <td>Umberto Eco</td>\n",
       "      <td>Librarian note: Older edition of 9780099466031...</td>\n",
       "      <td>4</td>\n",
       "      <td>12</td>\n",
       "    </tr>\n",
       "  </tbody>\n",
       "</table>\n",
       "</div>"
      ],
      "text/plain": [
       "                                                Name          Authors  \\\n",
       "0  The Restaurant at the End of the Universe (Hit...    Douglas Adams   \n",
       "1                                         Siddhartha    Hermann Hesse   \n",
       "2            The Hunger Games (The Hunger Games, #1)  Suzanne Collins   \n",
       "3  The Authoritative Calvin and Hobbes: A Calvin ...   Bill Watterson   \n",
       "4                               The Name of the Rose      Umberto Eco   \n",
       "\n",
       "                                         Description  Book_Id_x  Book_Id_y  \n",
       "0  Just when you thought it was safe to go back t...          0          1  \n",
       "1  In the novel, Siddhartha, a young man, leaves ...          1          2  \n",
       "2  WINNING MEANS FAME AND FORTUNE.LOSING MEANS CE...          2          5  \n",
       "3  The Authoritative Calvin and Hobbes, is a larg...          3          7  \n",
       "4  Librarian note: Older edition of 9780099466031...          4         12  "
      ]
     },
     "execution_count": 82,
     "metadata": {},
     "output_type": "execute_result"
    }
   ],
   "source": [
    "#select book_embedding_dl for the books in book_df\n",
    "merge_df = pd.merge(book_df, book_map, how='left', on='Name')\n",
    "merge_df.head()"
   ]
  },
  {
   "cell_type": "code",
   "execution_count": 83,
   "id": "691480cb",
   "metadata": {},
   "outputs": [
    {
     "data": {
      "text/plain": [
       "(12292, 16)"
      ]
     },
     "execution_count": 83,
     "metadata": {},
     "output_type": "execute_result"
    }
   ],
   "source": [
    "book_embedding_dl_sel=np.squeeze(book_embedding_dl[merge_df.Book_Id_y.values,:])\n",
    "book_embedding_dl_sel.shape\n"
   ]
  },
  {
   "cell_type": "markdown",
   "id": "2a82c0e4",
   "metadata": {},
   "source": [
    "### Generate recommendation list using cosine similarity"
   ]
  },
  {
   "cell_type": "code",
   "execution_count": 99,
   "id": "92fdfe23",
   "metadata": {},
   "outputs": [],
   "source": [
    "#Computer the similarity matrices for both content based filter and DL based collarborative filter \n",
    "from sklearn.metrics.pairwise import cosine_similarity\n",
    "cb_sim_matrix = cosine_similarity(book_embedding_trf_reduce,book_embedding_trf_reduce)\n",
    "cf_sim_matrix = cosine_similarity(book_embedding_dl_sel,book_embedding_dl_sel)\n"
   ]
  },
  {
   "cell_type": "code",
   "execution_count": 100,
   "id": "8a8f7637",
   "metadata": {},
   "outputs": [
    {
     "data": {
      "text/plain": [
       "array([[1.        , 0.23786959, 0.1547549 , ..., 0.24865462, 0.34855962,\n",
       "        0.34323412],\n",
       "       [0.23786959, 1.        , 0.5994524 , ..., 0.6069042 , 0.2051981 ,\n",
       "        0.5673981 ],\n",
       "       [0.1547549 , 0.5994524 , 1.        , ..., 0.6350025 , 0.18303059,\n",
       "        0.5492029 ],\n",
       "       ...,\n",
       "       [0.24865462, 0.6069042 , 0.6350025 , ..., 1.        , 0.4218791 ,\n",
       "        0.58473   ],\n",
       "       [0.34855962, 0.2051981 , 0.18303059, ..., 0.4218791 , 1.        ,\n",
       "        0.24114972],\n",
       "       [0.34323412, 0.5673981 , 0.5492029 , ..., 0.58473   , 0.24114972,\n",
       "        1.        ]], dtype=float32)"
      ]
     },
     "execution_count": 100,
     "metadata": {},
     "output_type": "execute_result"
    }
   ],
   "source": [
    "#hybrid matrix\n",
    "hybrid_sim_matrix = (cb_sim_matrix + cf_sim_matrix)/2\n",
    "hybrid_sim_matrix"
   ]
  },
  {
   "cell_type": "code",
   "execution_count": 107,
   "id": "0964ca4c",
   "metadata": {},
   "outputs": [],
   "source": [
    "book_df.reset_index(drop=True, inplace=True)\n",
    "indices = pd.Series(book_df.index, index=book_df['Name'])"
   ]
  },
  {
   "cell_type": "code",
   "execution_count": 108,
   "id": "0ed30247",
   "metadata": {},
   "outputs": [],
   "source": [
    "def get_hybrid_recommendations(title):\n",
    "    try:\n",
    "        # handle case in which book by same title is in dataset\n",
    "        idx = indices[title][0]\n",
    "    except IndexError:\n",
    "        idx = indices[title]\n",
    "    sim_scores = list(enumerate(hybrid_sim_matrix[idx]))\n",
    "    sim_scores = sorted(sim_scores, key=lambda x: x[1], reverse=True)\n",
    "    sim_scores = sim_scores[1:15]\n",
    "    book_indices = [i[0] for i in sim_scores]\n",
    "    return book_df.iloc[book_indices]"
   ]
  },
  {
   "cell_type": "code",
   "execution_count": 109,
   "id": "321d25c0",
   "metadata": {},
   "outputs": [],
   "source": [
    "def print_book_info_hybrid(index):\n",
    "    title = book_df.iloc[index].Name\n",
    "    desc = book_df.iloc[index].Description\n",
    "    author = book_df.iloc[index].Authors\n",
    "    print(\"Title:\", title, \"\\nDescription:\", desc, \"\\nAuthor:\", author)\n",
    "    return title"
   ]
  },
  {
   "cell_type": "markdown",
   "id": "43f7bd6e",
   "metadata": {},
   "source": [
    "### Try an example of book"
   ]
  },
  {
   "cell_type": "code",
   "execution_count": 110,
   "id": "340d409b",
   "metadata": {},
   "outputs": [
    {
     "name": "stdout",
     "output_type": "stream",
     "text": [
      "Title: My Cousin, My Gastroenterologist \n",
      "Description: Welcome to Mark Leyner's America, where you can order gallium arsenide sushi at a roadside diner, get loaded on a cocktail of growth hormones and anabolic steroids, and support your habit by appearing on TV game shows. Here is fiction the brain can dance to, by one of the funniest and most subversive young writers of this, or any other, decade. \n",
      "Author: Mark Leyner\n",
      "My Cousin, My Gastroenterologist\n"
     ]
    }
   ],
   "source": [
    "\n",
    "title=print_book_info_hybrid(4432)\n",
    "print(title)"
   ]
  },
  {
   "cell_type": "code",
   "execution_count": 111,
   "id": "c6024236",
   "metadata": {},
   "outputs": [
    {
     "data": {
      "text/html": [
       "<div>\n",
       "<style scoped>\n",
       "    .dataframe tbody tr th:only-of-type {\n",
       "        vertical-align: middle;\n",
       "    }\n",
       "\n",
       "    .dataframe tbody tr th {\n",
       "        vertical-align: top;\n",
       "    }\n",
       "\n",
       "    .dataframe thead th {\n",
       "        text-align: right;\n",
       "    }\n",
       "</style>\n",
       "<table border=\"1\" class=\"dataframe\">\n",
       "  <thead>\n",
       "    <tr style=\"text-align: right;\">\n",
       "      <th></th>\n",
       "      <th>Name</th>\n",
       "      <th>Authors</th>\n",
       "      <th>Description</th>\n",
       "      <th>Book_Id</th>\n",
       "    </tr>\n",
       "  </thead>\n",
       "  <tbody>\n",
       "    <tr>\n",
       "      <th>6255</th>\n",
       "      <td>Pretty Little Mistakes: A Do-Over Novel</td>\n",
       "      <td>Heather McElhatton</td>\n",
       "      <td>There are hundreds of lives sown inside Pretty...</td>\n",
       "      <td>6255</td>\n",
       "    </tr>\n",
       "    <tr>\n",
       "      <th>9866</th>\n",
       "      <td>Granta 101</td>\n",
       "      <td>Jason Crowley</td>\n",
       "      <td>Reinvigorated and redesigned, Granta has a new...</td>\n",
       "      <td>9866</td>\n",
       "    </tr>\n",
       "    <tr>\n",
       "      <th>4680</th>\n",
       "      <td>So You Want to Be a Wizard</td>\n",
       "      <td>Diane Duane</td>\n",
       "      <td>Something stopped Nita's hand as it ran along ...</td>\n",
       "      <td>4680</td>\n",
       "    </tr>\n",
       "    <tr>\n",
       "      <th>333</th>\n",
       "      <td>The Blind Side: Evolution of a Game</td>\n",
       "      <td>Michael   Lewis</td>\n",
       "      <td>When we first meet Michael Oher, he is one of ...</td>\n",
       "      <td>333</td>\n",
       "    </tr>\n",
       "    <tr>\n",
       "      <th>1027</th>\n",
       "      <td>Roots: The Saga of an American Family</td>\n",
       "      <td>Alex Haley</td>\n",
       "      <td>One of the most important books and television...</td>\n",
       "      <td>1027</td>\n",
       "    </tr>\n",
       "    <tr>\n",
       "      <th>11417</th>\n",
       "      <td>Mexico Biography of Power</td>\n",
       "      <td>Enrique Krauze</td>\n",
       "      <td>The concentration of power in the caudillo (le...</td>\n",
       "      <td>11417</td>\n",
       "    </tr>\n",
       "    <tr>\n",
       "      <th>2211</th>\n",
       "      <td>Wild Fire</td>\n",
       "      <td>Nelson DeMille</td>\n",
       "      <td>This is an ACE for ISBN13:9780446579674 Wild F...</td>\n",
       "      <td>2211</td>\n",
       "    </tr>\n",
       "    <tr>\n",
       "      <th>11178</th>\n",
       "      <td>Shoots to Kill (A Flower Shop Mystery, #7)</td>\n",
       "      <td>Kate Collins</td>\n",
       "      <td>Eight years ago, Abby Knight babysat for a pro...</td>\n",
       "      <td>11178</td>\n",
       "    </tr>\n",
       "    <tr>\n",
       "      <th>6155</th>\n",
       "      <td>Shoot the Damn Dog: A Memoir of Depression</td>\n",
       "      <td>Sally Brampton</td>\n",
       "      <td>A successful magazine editor and prize-winning...</td>\n",
       "      <td>6155</td>\n",
       "    </tr>\n",
       "    <tr>\n",
       "      <th>10699</th>\n",
       "      <td>Inside Out: A Personal History of Pink Floyd</td>\n",
       "      <td>Nick Mason</td>\n",
       "      <td>The definitive history of Pink Floyd by foundi...</td>\n",
       "      <td>10699</td>\n",
       "    </tr>\n",
       "    <tr>\n",
       "      <th>10729</th>\n",
       "      <td>The Terror Dream: Fear and Fantasy in Post-9/1...</td>\n",
       "      <td>Susan Faludi</td>\n",
       "      <td>In this most original examination of America's...</td>\n",
       "      <td>10729</td>\n",
       "    </tr>\n",
       "    <tr>\n",
       "      <th>3652</th>\n",
       "      <td>So Sexy So Soon: The New Sexualized Childhood,...</td>\n",
       "      <td>Diane E. Levin</td>\n",
       "      <td>Thong panties, padded bras, and risqué Hallowe...</td>\n",
       "      <td>3652</td>\n",
       "    </tr>\n",
       "    <tr>\n",
       "      <th>10728</th>\n",
       "      <td>Why Women Should Rule the World</td>\n",
       "      <td>Dee Dee Myers</td>\n",
       "      <td>What would happen if women ruled the world?Eve...</td>\n",
       "      <td>10728</td>\n",
       "    </tr>\n",
       "    <tr>\n",
       "      <th>10896</th>\n",
       "      <td>Nathaniel's Nutmeg: How One Man's Courage Chan...</td>\n",
       "      <td>Giles Milton</td>\n",
       "      <td>The tiny island of Run is an insignificant spe...</td>\n",
       "      <td>10896</td>\n",
       "    </tr>\n",
       "  </tbody>\n",
       "</table>\n",
       "</div>"
      ],
      "text/plain": [
       "                                                    Name             Authors  \\\n",
       "6255             Pretty Little Mistakes: A Do-Over Novel  Heather McElhatton   \n",
       "9866                                          Granta 101       Jason Crowley   \n",
       "4680                          So You Want to Be a Wizard         Diane Duane   \n",
       "333                  The Blind Side: Evolution of a Game     Michael   Lewis   \n",
       "1027               Roots: The Saga of an American Family          Alex Haley   \n",
       "11417                          Mexico Biography of Power      Enrique Krauze   \n",
       "2211                                           Wild Fire      Nelson DeMille   \n",
       "11178         Shoots to Kill (A Flower Shop Mystery, #7)        Kate Collins   \n",
       "6155          Shoot the Damn Dog: A Memoir of Depression      Sally Brampton   \n",
       "10699       Inside Out: A Personal History of Pink Floyd          Nick Mason   \n",
       "10729  The Terror Dream: Fear and Fantasy in Post-9/1...        Susan Faludi   \n",
       "3652   So Sexy So Soon: The New Sexualized Childhood,...      Diane E. Levin   \n",
       "10728                    Why Women Should Rule the World       Dee Dee Myers   \n",
       "10896  Nathaniel's Nutmeg: How One Man's Courage Chan...        Giles Milton   \n",
       "\n",
       "                                             Description  Book_Id  \n",
       "6255   There are hundreds of lives sown inside Pretty...     6255  \n",
       "9866   Reinvigorated and redesigned, Granta has a new...     9866  \n",
       "4680   Something stopped Nita's hand as it ran along ...     4680  \n",
       "333    When we first meet Michael Oher, he is one of ...      333  \n",
       "1027   One of the most important books and television...     1027  \n",
       "11417  The concentration of power in the caudillo (le...    11417  \n",
       "2211   This is an ACE for ISBN13:9780446579674 Wild F...     2211  \n",
       "11178  Eight years ago, Abby Knight babysat for a pro...    11178  \n",
       "6155   A successful magazine editor and prize-winning...     6155  \n",
       "10699  The definitive history of Pink Floyd by foundi...    10699  \n",
       "10729  In this most original examination of America's...    10729  \n",
       "3652   Thong panties, padded bras, and risqué Hallowe...     3652  \n",
       "10728  What would happen if women ruled the world?Eve...    10728  \n",
       "10896  The tiny island of Run is an insignificant spe...    10896  "
      ]
     },
     "execution_count": 111,
     "metadata": {},
     "output_type": "execute_result"
    }
   ],
   "source": [
    "get_hybrid_recommendations(title)"
   ]
  },
  {
   "cell_type": "markdown",
   "id": "006db9ec",
   "metadata": {},
   "source": [
    "#### Examine a few books from the recommendation list"
   ]
  },
  {
   "cell_type": "code",
   "execution_count": 112,
   "id": "669fc68d",
   "metadata": {},
   "outputs": [
    {
     "name": "stdout",
     "output_type": "stream",
     "text": [
      "Title: Pretty Little Mistakes: A Do-Over Novel \n",
      "Description: There are hundreds of lives sown inside Pretty Little Mistakes, Heather McElhatton's singularly spectacular, breathtakingly unique novel that has more than 150 possible endings. You may end up in an opulent mansion or homeless down by the river; happily married with your own corporation or alone and pecked to death by ducks in London; a Zen master in Japan or morbidly obese in a trailer park.Is it destiny or decision that controls our fate? You can't change your past and start over from scratch in real life—but in Pretty Little Mistakes, you can! But be warned, choose wisely. \n",
      "Author: Heather McElhatton\n"
     ]
    },
    {
     "data": {
      "text/plain": [
       "'Pretty Little Mistakes: A Do-Over Novel'"
      ]
     },
     "execution_count": 112,
     "metadata": {},
     "output_type": "execute_result"
    }
   ],
   "source": [
    "print_book_info_hybrid(6255)"
   ]
  },
  {
   "cell_type": "code",
   "execution_count": 113,
   "id": "b1555f7c",
   "metadata": {},
   "outputs": [
    {
     "name": "stdout",
     "output_type": "stream",
     "text": [
      "Title: Granta 101 \n",
      "Description: Reinvigorated and redesigned, Granta has a new editor and a new Web site. But it’s not all change: we will still continue to publish the world’s finest writers of fiction, memoir, and reportage, in an elegant and collectable paperback book. In Granta 101, there is original work from Robert Macfarlane, reporting from a blitzed Beijing ahead of the Olympics, as well as gripping narrative dispatches from Angola, Kenya, and the troubled suburbs of Paris. Highlights include a new opening section, with pieces by Hilary Mantel and Douglas Coupland, fiction from Annie Proulx and Joshua Ferris, brilliant photo essays and a remarkable investigation into the macabre murder of a celebrated London media figure by award-winning writer Tim Lott. \n",
      "Author: Jason Crowley\n"
     ]
    },
    {
     "data": {
      "text/plain": [
       "'Granta 101'"
      ]
     },
     "execution_count": 113,
     "metadata": {},
     "output_type": "execute_result"
    }
   ],
   "source": [
    "print_book_info_hybrid(9866)"
   ]
  },
  {
   "cell_type": "code",
   "execution_count": 115,
   "id": "598a507d",
   "metadata": {},
   "outputs": [
    {
     "name": "stdout",
     "output_type": "stream",
     "text": [
      "Title: The Blind Side: Evolution of a Game \n",
      "Description: When we first meet Michael Oher, he is one of thirteen children by a mother addicted to crack; he does not know his real name, his father, his birthday, or how to read or write. He takes up football and school after a rich, white, Evangelical family plucks him from the streets. Then two great forces alter Oher: the family's love and the evolution of professional football itself into a game in which the quarterback must be protected at any cost. Our protagonist becomes the priceless package of size, speed, and agility necessary to guard the quarterback's greatest vulnerability: his blind side. \n",
      "Author: Michael   Lewis\n"
     ]
    },
    {
     "data": {
      "text/plain": [
       "'The Blind Side: Evolution of a Game'"
      ]
     },
     "execution_count": 115,
     "metadata": {},
     "output_type": "execute_result"
    }
   ],
   "source": [
    "print_book_info_hybrid(333)"
   ]
  },
  {
   "cell_type": "markdown",
   "id": "fbc4d01b",
   "metadata": {},
   "source": [
    "#### It seems that all these books have something in common, talking about history, tradition and people's life experience from different perspectives"
   ]
  },
  {
   "cell_type": "code",
   "execution_count": 116,
   "id": "27fc1b9f",
   "metadata": {},
   "outputs": [
    {
     "name": "stdout",
     "output_type": "stream",
     "text": [
      "Title: The Remains of the Day \n",
      "Description: In the summer of 1956, Stevens, a long-serving butler at Darlington Hall, decides to take a motoring trip through the West Country. The six-day excursion becomes a journey into the past of Stevens and England, a past that takes in fascism, two world wars, and an unrealised love between the butler and his housekeeper. \n",
      "Author: Kazuo Ishiguro\n",
      "The Remains of the Day\n"
     ]
    }
   ],
   "source": [
    "# Another example\n",
    "\n",
    "title=print_book_info_hybrid(23)\n",
    "print(title)"
   ]
  },
  {
   "cell_type": "code",
   "execution_count": 117,
   "id": "019fe69e",
   "metadata": {},
   "outputs": [
    {
     "data": {
      "text/html": [
       "<div>\n",
       "<style scoped>\n",
       "    .dataframe tbody tr th:only-of-type {\n",
       "        vertical-align: middle;\n",
       "    }\n",
       "\n",
       "    .dataframe tbody tr th {\n",
       "        vertical-align: top;\n",
       "    }\n",
       "\n",
       "    .dataframe thead th {\n",
       "        text-align: right;\n",
       "    }\n",
       "</style>\n",
       "<table border=\"1\" class=\"dataframe\">\n",
       "  <thead>\n",
       "    <tr style=\"text-align: right;\">\n",
       "      <th></th>\n",
       "      <th>Name</th>\n",
       "      <th>Authors</th>\n",
       "      <th>Description</th>\n",
       "      <th>Book_Id</th>\n",
       "    </tr>\n",
       "  </thead>\n",
       "  <tbody>\n",
       "    <tr>\n",
       "      <th>4724</th>\n",
       "      <td>Address Unknown</td>\n",
       "      <td>Kathrine Kressmann Taylor</td>\n",
       "      <td>A rediscovered classic, originally published i...</td>\n",
       "      <td>4724</td>\n",
       "    </tr>\n",
       "    <tr>\n",
       "      <th>11923</th>\n",
       "      <td>Mrs. Palfrey at the Claremont</td>\n",
       "      <td>Elizabeth Taylor</td>\n",
       "      <td>On a rainy Sunday in January, the recently wid...</td>\n",
       "      <td>11923</td>\n",
       "    </tr>\n",
       "    <tr>\n",
       "      <th>2057</th>\n",
       "      <td>Lost Island</td>\n",
       "      <td>Phyllis A. Whitney</td>\n",
       "      <td>Lacey, Elise and Giles. They grew up together ...</td>\n",
       "      <td>2057</td>\n",
       "    </tr>\n",
       "    <tr>\n",
       "      <th>3865</th>\n",
       "      <td>Blade Dancer</td>\n",
       "      <td>K.M. Tolan</td>\n",
       "      <td>Emerging from an ancient civil war with only a...</td>\n",
       "      <td>3865</td>\n",
       "    </tr>\n",
       "    <tr>\n",
       "      <th>6347</th>\n",
       "      <td>Alexander's Bridge</td>\n",
       "      <td>Willa Cather</td>\n",
       "      <td>“The sun sank rapidly; the silvery light had f...</td>\n",
       "      <td>6347</td>\n",
       "    </tr>\n",
       "    <tr>\n",
       "      <th>713</th>\n",
       "      <td>A Breath of Snow and Ashes (Outlander, #6)</td>\n",
       "      <td>Diana Gabaldon</td>\n",
       "      <td>Eagerly anticipated by her legions of fans, th...</td>\n",
       "      <td>713</td>\n",
       "    </tr>\n",
       "    <tr>\n",
       "      <th>8763</th>\n",
       "      <td>Truth or Dare (Whispering Springs, #2)</td>\n",
       "      <td>Jayne Ann Krentz</td>\n",
       "      <td>The New York Times bestselling author Jayne An...</td>\n",
       "      <td>8763</td>\n",
       "    </tr>\n",
       "    <tr>\n",
       "      <th>2521</th>\n",
       "      <td>Our Man in Havana</td>\n",
       "      <td>Graham Greene</td>\n",
       "      <td>First published in 1959, Our Man in Havana is ...</td>\n",
       "      <td>2521</td>\n",
       "    </tr>\n",
       "    <tr>\n",
       "      <th>1717</th>\n",
       "      <td>The Music of Chance</td>\n",
       "      <td>Paul Auster</td>\n",
       "      <td>Paul Auster fuses Samuel Beckett and The Broth...</td>\n",
       "      <td>1717</td>\n",
       "    </tr>\n",
       "    <tr>\n",
       "      <th>10108</th>\n",
       "      <td>The Book of Merlyn: The Unpublished Conclusion...</td>\n",
       "      <td>T.H. White</td>\n",
       "      <td>\"... a personal as well as historical story th...</td>\n",
       "      <td>10108</td>\n",
       "    </tr>\n",
       "    <tr>\n",
       "      <th>11552</th>\n",
       "      <td>William - An Englishman</td>\n",
       "      <td>Cicely Hamilton</td>\n",
       "      <td>William was 'written in a rage in 1918; this e...</td>\n",
       "      <td>11552</td>\n",
       "    </tr>\n",
       "    <tr>\n",
       "      <th>9894</th>\n",
       "      <td>An Unholy Alliance (Matthew Bartholomew, #2)</td>\n",
       "      <td>Susanna Gregory</td>\n",
       "      <td>Two years after the Black Death has decimated ...</td>\n",
       "      <td>9894</td>\n",
       "    </tr>\n",
       "    <tr>\n",
       "      <th>11164</th>\n",
       "      <td>A Cedar Cove Christmas (Cedar Cove, #8.5)</td>\n",
       "      <td>Debbie Macomber</td>\n",
       "      <td>Mother-to-be Mary Jo Wyse arrives in Cedar Cov...</td>\n",
       "      <td>11164</td>\n",
       "    </tr>\n",
       "    <tr>\n",
       "      <th>10910</th>\n",
       "      <td>Design For Murder (Death on Demand, #2)</td>\n",
       "      <td>Carolyn G. Hart</td>\n",
       "      <td>An alternate edition (page count) for this isb...</td>\n",
       "      <td>10910</td>\n",
       "    </tr>\n",
       "  </tbody>\n",
       "</table>\n",
       "</div>"
      ],
      "text/plain": [
       "                                                    Name  \\\n",
       "4724                                     Address Unknown   \n",
       "11923                      Mrs. Palfrey at the Claremont   \n",
       "2057                                         Lost Island   \n",
       "3865                                        Blade Dancer   \n",
       "6347                                  Alexander's Bridge   \n",
       "713           A Breath of Snow and Ashes (Outlander, #6)   \n",
       "8763              Truth or Dare (Whispering Springs, #2)   \n",
       "2521                                   Our Man in Havana   \n",
       "1717                                 The Music of Chance   \n",
       "10108  The Book of Merlyn: The Unpublished Conclusion...   \n",
       "11552                            William - An Englishman   \n",
       "9894        An Unholy Alliance (Matthew Bartholomew, #2)   \n",
       "11164          A Cedar Cove Christmas (Cedar Cove, #8.5)   \n",
       "10910            Design For Murder (Death on Demand, #2)   \n",
       "\n",
       "                         Authors  \\\n",
       "4724   Kathrine Kressmann Taylor   \n",
       "11923           Elizabeth Taylor   \n",
       "2057          Phyllis A. Whitney   \n",
       "3865                  K.M. Tolan   \n",
       "6347                Willa Cather   \n",
       "713               Diana Gabaldon   \n",
       "8763            Jayne Ann Krentz   \n",
       "2521               Graham Greene   \n",
       "1717                 Paul Auster   \n",
       "10108                 T.H. White   \n",
       "11552            Cicely Hamilton   \n",
       "9894             Susanna Gregory   \n",
       "11164            Debbie Macomber   \n",
       "10910            Carolyn G. Hart   \n",
       "\n",
       "                                             Description  Book_Id  \n",
       "4724   A rediscovered classic, originally published i...     4724  \n",
       "11923  On a rainy Sunday in January, the recently wid...    11923  \n",
       "2057   Lacey, Elise and Giles. They grew up together ...     2057  \n",
       "3865   Emerging from an ancient civil war with only a...     3865  \n",
       "6347   “The sun sank rapidly; the silvery light had f...     6347  \n",
       "713    Eagerly anticipated by her legions of fans, th...      713  \n",
       "8763   The New York Times bestselling author Jayne An...     8763  \n",
       "2521   First published in 1959, Our Man in Havana is ...     2521  \n",
       "1717   Paul Auster fuses Samuel Beckett and The Broth...     1717  \n",
       "10108  \"... a personal as well as historical story th...    10108  \n",
       "11552  William was 'written in a rage in 1918; this e...    11552  \n",
       "9894   Two years after the Black Death has decimated ...     9894  \n",
       "11164  Mother-to-be Mary Jo Wyse arrives in Cedar Cov...    11164  \n",
       "10910  An alternate edition (page count) for this isb...    10910  "
      ]
     },
     "execution_count": 117,
     "metadata": {},
     "output_type": "execute_result"
    }
   ],
   "source": [
    "get_hybrid_recommendations(title)"
   ]
  },
  {
   "cell_type": "code",
   "execution_count": 118,
   "id": "3b549ae5",
   "metadata": {},
   "outputs": [
    {
     "name": "stdout",
     "output_type": "stream",
     "text": [
      "Title: Address Unknown \n",
      "Description: A rediscovered classic, originally published in 1938 --and now an international bestseller.When it first appeared in Story magazine in 1938, Address Unknown became an immediate social phenomenon and literary sensation. Published in book form a year later and banned in Nazi Germany, it garnered high praise in the United States and much of Europe.A series of fictional letters between a Jewish art dealer living in San Francisco and his former business partner, who has returned to Germany, Address Unknown is a haunting tale of enormous and enduring impact. \n",
      "Author: Kathrine Kressmann Taylor\n"
     ]
    },
    {
     "data": {
      "text/plain": [
       "'Address Unknown'"
      ]
     },
     "execution_count": 118,
     "metadata": {},
     "output_type": "execute_result"
    }
   ],
   "source": [
    "print_book_info_hybrid(4724)\n"
   ]
  },
  {
   "cell_type": "code",
   "execution_count": 119,
   "id": "63105b3e",
   "metadata": {},
   "outputs": [
    {
     "name": "stdout",
     "output_type": "stream",
     "text": [
      "Title: Mrs. Palfrey at the Claremont \n",
      "Description: On a rainy Sunday in January, the recently widowed Mrs. Palfrey arrives at the Claremont Hotel where she will spend her remaining days. Her fellow residents are magnificently eccentric and endlessly curious, living off crumbs of affection and snippets of gossip. Together, upper lips stiffened, they fight off their twin enemies—boredom and the Grim Reaper. Then one day Mrs. Palfrey strikes up an unexpected friendship with Ludo, a handsome young writer, and learns that even the old can fall in love. \n",
      "Author: Elizabeth Taylor\n"
     ]
    },
    {
     "data": {
      "text/plain": [
       "'Mrs. Palfrey at the Claremont'"
      ]
     },
     "execution_count": 119,
     "metadata": {},
     "output_type": "execute_result"
    }
   ],
   "source": [
    "print_book_info_hybrid(11923)"
   ]
  },
  {
   "cell_type": "code",
   "execution_count": 120,
   "id": "97941b93",
   "metadata": {},
   "outputs": [
    {
     "name": "stdout",
     "output_type": "stream",
     "text": [
      "Title: Lost Island \n",
      "Description: Lacey, Elise and Giles. They grew up together on a mist-shrouded island off the Georgia coast. Long ago, and without Giles ever knowing it, Lacey gave birth to his son. But Elise, the beautiful, domineering one, got Giles. She got Lacey's child too, to bring up as her own. Lacey has tried to forget. But in ten years she has not been able to. So she's going back. To see her son. To confront Elise. To exorcise the spell of the island -- and of Giles. Or perhaps to be trapped by them forever. \n",
      "Author: Phyllis A. Whitney\n"
     ]
    },
    {
     "data": {
      "text/plain": [
       "'Lost Island'"
      ]
     },
     "execution_count": 120,
     "metadata": {},
     "output_type": "execute_result"
    }
   ],
   "source": [
    "print_book_info_hybrid(2057)"
   ]
  }
 ],
 "metadata": {
  "kernelspec": {
   "display_name": "Python 3 (ipykernel)",
   "language": "python",
   "name": "python3"
  },
  "language_info": {
   "codemirror_mode": {
    "name": "ipython",
    "version": 3
   },
   "file_extension": ".py",
   "mimetype": "text/x-python",
   "name": "python",
   "nbconvert_exporter": "python",
   "pygments_lexer": "ipython3",
   "version": "3.8.12"
  }
 },
 "nbformat": 4,
 "nbformat_minor": 5
}
