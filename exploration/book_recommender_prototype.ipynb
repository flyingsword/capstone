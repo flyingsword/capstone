{
 "cells": [
  {
   "cell_type": "markdown",
   "id": "c640790c",
   "metadata": {},
   "source": [
    "# Book Recommdation System for Goodreads dataset\n"
   ]
  },
  {
   "cell_type": "markdown",
   "id": "ff813300",
   "metadata": {},
   "source": [
    "## 1. Introduction\n",
    "      In this project, we are going to build a hybrid book recommender system based on Goodreads dataset. The recommender system combines both content based recommender and collaborative filter (CF) based recommender. In the content based recommender we use transformer to analyze the content of book description. Then, we use an autoencoder to reduce the dimension of the features. After that, we use a cosine similarity to obtain the recommendation items. In the CF based recommender, we generate book and user embedding using a deep learning  networks. Then, the cosine similarity is obtained for the book embedding. As a hybrid recommender, the cosine similarity is averaged between that of content based recommender and CF based recommender."
   ]
  },
  {
   "cell_type": "markdown",
   "id": "db5ef6df",
   "metadata": {},
   "source": [
    "## 2. Data processing\n",
    "      The Goodreads dataset includes both book dataset and user rating dataset. We import both "
   ]
  },
  {
   "cell_type": "code",
   "execution_count": 18,
   "id": "dd3c2c97",
   "metadata": {},
   "outputs": [],
   "source": [
    "#imports\n",
    "import pandas as pd\n",
    "import numpy as np\n",
    "import matplotlib.pyplot as plt\n",
    "import seaborn as sns\n",
    "import torch\n",
    "%matplotlib inline\n",
    "sns.set_style('whitegrid')"
   ]
  },
  {
   "cell_type": "code",
   "execution_count": 19,
   "id": "6e989883",
   "metadata": {},
   "outputs": [
    {
     "name": "stdout",
     "output_type": "stream",
     "text": [
      "Empty DataFrame\n",
      "Columns: [Id, Name, Authors, ISBN, Rating, PublishYear, PublishMonth, PublishDay, Publisher, RatingDist5, RatingDist4, RatingDist3, RatingDist2, RatingDist1, RatingDistTotal, CountsOfReview, Language, pagesNumber, Description, Count of text reviews]\n",
      "Index: []\n",
      "Empty DataFrame\n",
      "Columns: [ID, Name, Rating]\n",
      "Index: []\n"
     ]
    }
   ],
   "source": [
    "import os\n",
    "dataset_path = '../datasets/goodreads'\n",
    "books_pd = pd.DataFrame(columns = pd.read_csv(os.path.join(dataset_path,'book1000k-1100k.csv')).columns)\n",
    "print(books_pd)\n",
    "users_pd = pd.DataFrame(columns = pd.read_csv(os.path.join(dataset_path,'user_rating_0_to_1000.csv')).columns)\n",
    "print(users_pd)"
   ]
  },
  {
   "cell_type": "code",
   "execution_count": 20,
   "id": "68fef42b",
   "metadata": {},
   "outputs": [
    {
     "name": "stdout",
     "output_type": "stream",
     "text": [
      "../datasets/goodreads/book600k-700k.csv\n",
      "../datasets/goodreads/book1600k-1700k.csv\n",
      "../datasets/goodreads/book200k-300k.csv\n",
      "../datasets/goodreads/user_rating_0_to_1000.csv\n",
      "../datasets/goodreads/book100k-200k.csv\n",
      "../datasets/goodreads/book500k-600k.csv\n",
      "../datasets/goodreads/book1-100k.csv\n",
      "../datasets/goodreads/book1300k-1400k.csv\n",
      "../datasets/goodreads/book800k-900k.csv\n",
      "../datasets/goodreads/user_rating_6000_to_11000.csv\n",
      "../datasets/goodreads/book1700k-1800k.csv\n",
      "../datasets/goodreads/user_rating_4000_to_5000.csv\n",
      "../datasets/goodreads/book1400k-1500k.csv\n",
      "../datasets/goodreads/book1000k-1100k.csv\n",
      "../datasets/goodreads/book2000k-3000k.csv\n",
      "../datasets/goodreads/book400k-500k.csv\n",
      "../datasets/goodreads/archive.zip\n",
      "../datasets/goodreads/book900k-1000k.csv\n",
      "../datasets/goodreads/user_rating_3000_to_4000.csv\n",
      "../datasets/goodreads/book4000k-5000k.csv\n",
      "../datasets/goodreads/book1100k-1200k.csv\n",
      "../datasets/goodreads/user_rating_5000_to_6000.csv\n",
      "../datasets/goodreads/book1800k-1900k.csv\n",
      "../datasets/goodreads/user_rating_1000_to_2000.csv\n",
      "../datasets/goodreads/book1500k-1600k.csv\n",
      "../datasets/goodreads/book3000k-4000k.csv\n",
      "../datasets/goodreads/user_rating_2000_to_3000.csv\n",
      "../datasets/goodreads/book300k-400k.csv\n",
      "../datasets/goodreads/book1200k-1300k.csv\n",
      "../datasets/goodreads/book1900k-2000k.csv\n",
      "../datasets/goodreads/book700k-800k.csv\n",
      "<class 'pandas.core.frame.DataFrame'>\n",
      "Int64Index: 1850310 entries, 0 to 54272\n",
      "Data columns (total 21 columns):\n",
      " #   Column                 Non-Null Count    Dtype  \n",
      "---  ------                 --------------    -----  \n",
      " 0   Id                     1850310 non-null  object \n",
      " 1   Name                   1850310 non-null  object \n",
      " 2   Authors                1850310 non-null  object \n",
      " 3   ISBN                   1844387 non-null  object \n",
      " 4   Rating                 1850310 non-null  float64\n",
      " 5   PublishYear            1850310 non-null  object \n",
      " 6   PublishMonth           1850310 non-null  object \n",
      " 7   PublishDay             1850310 non-null  object \n",
      " 8   Publisher              1832484 non-null  object \n",
      " 9   RatingDist5            1850310 non-null  object \n",
      " 10  RatingDist4            1850310 non-null  object \n",
      " 11  RatingDist3            1850310 non-null  object \n",
      " 12  RatingDist2            1850310 non-null  object \n",
      " 13  RatingDist1            1850310 non-null  object \n",
      " 14  RatingDistTotal        1850310 non-null  object \n",
      " 15  CountsOfReview         1850310 non-null  object \n",
      " 16  Language               251822 non-null   object \n",
      " 17  pagesNumber            835078 non-null   object \n",
      " 18  Description            1171188 non-null  object \n",
      " 19  Count of text reviews  409697 non-null   object \n",
      " 20  PagesNumber            1015232 non-null  float64\n",
      "dtypes: float64(2), object(19)\n",
      "memory usage: 310.6+ MB\n"
     ]
    }
   ],
   "source": [
    "import fnmatch\n",
    "for dirname, _, filenames in os.walk('../datasets/goodreads'):\n",
    "    for filename in filenames:\n",
    "        print(os.path.join(dirname, filename))\n",
    "        if fnmatch.fnmatch(filename, 'book*.csv'):\n",
    "            books_pd = pd.concat([books_pd, pd.read_csv(os.path.join(dataset_path,filename))])\n",
    "        if fnmatch.fnmatch(filename, 'user*.csv'):\n",
    "            users_pd = pd.concat([users_pd, pd.read_csv(os.path.join(dataset_path,filename))])\n",
    "books_pd.info(show_counts=True)"
   ]
  },
  {
   "cell_type": "markdown",
   "id": "71f27687",
   "metadata": {},
   "source": [
    "#### Because the user rating dataset contains multiple indices we need to reset the index."
   ]
  },
  {
   "cell_type": "code",
   "execution_count": 21,
   "id": "f1e86528",
   "metadata": {
    "scrolled": true
   },
   "outputs": [
    {
     "data": {
      "text/plain": [
       "0         1\n",
       "241760    1\n",
       "241736    1\n",
       "241735    1\n",
       "241734    1\n",
       "         ..\n",
       "120863    1\n",
       "120862    1\n",
       "120861    1\n",
       "120860    1\n",
       "362595    1\n",
       "Length: 362596, dtype: int64"
      ]
     },
     "execution_count": 21,
     "metadata": {},
     "output_type": "execute_result"
    }
   ],
   "source": [
    "users_pd.reset_index(drop=True, inplace=True)\n",
    "users_pd.index.value_counts()"
   ]
  },
  {
   "cell_type": "markdown",
   "id": "f7371d83",
   "metadata": {},
   "source": [
    "#### Drop the duplicated books"
   ]
  },
  {
   "cell_type": "code",
   "execution_count": 22,
   "id": "c52adba1",
   "metadata": {},
   "outputs": [
    {
     "name": "stdout",
     "output_type": "stream",
     "text": [
      "<class 'pandas.core.frame.DataFrame'>\n",
      "Int64Index: 1850198 entries, 0 to 54272\n",
      "Data columns (total 21 columns):\n",
      " #   Column                 Non-Null Count    Dtype  \n",
      "---  ------                 --------------    -----  \n",
      " 0   Id                     1850198 non-null  object \n",
      " 1   Name                   1850198 non-null  object \n",
      " 2   Authors                1850198 non-null  object \n",
      " 3   ISBN                   1844276 non-null  object \n",
      " 4   Rating                 1850198 non-null  float64\n",
      " 5   PublishYear            1850198 non-null  object \n",
      " 6   PublishMonth           1850198 non-null  object \n",
      " 7   PublishDay             1850198 non-null  object \n",
      " 8   Publisher              1832375 non-null  object \n",
      " 9   RatingDist5            1850198 non-null  object \n",
      " 10  RatingDist4            1850198 non-null  object \n",
      " 11  RatingDist3            1850198 non-null  object \n",
      " 12  RatingDist2            1850198 non-null  object \n",
      " 13  RatingDist1            1850198 non-null  object \n",
      " 14  RatingDistTotal        1850198 non-null  object \n",
      " 15  CountsOfReview         1850198 non-null  object \n",
      " 16  Language               251799 non-null   object \n",
      " 17  pagesNumber            834966 non-null   object \n",
      " 18  Description            1171188 non-null  object \n",
      " 19  Count of text reviews  409697 non-null   object \n",
      " 20  PagesNumber            1015232 non-null  float64\n",
      "dtypes: float64(2), object(19)\n",
      "memory usage: 310.5+ MB\n"
     ]
    }
   ],
   "source": [
    "books_pd.drop_duplicates(inplace = True)\n",
    "books_pd.info(show_counts=True)"
   ]
  },
  {
   "cell_type": "markdown",
   "id": "1310330f",
   "metadata": {},
   "source": [
    "#### Drop the books with published year > 2021 and < 1900"
   ]
  },
  {
   "cell_type": "code",
   "execution_count": 23,
   "id": "44d9f42a",
   "metadata": {},
   "outputs": [],
   "source": [
    "books_pd.drop((books_pd[(books_pd['PublishYear'] < 1900) | (books_pd['PublishYear'] > 2021)].index).tolist(), inplace = True)\n"
   ]
  },
  {
   "cell_type": "markdown",
   "id": "92af34ae",
   "metadata": {},
   "source": [
    "#### Drop the data with no publisher info"
   ]
  },
  {
   "cell_type": "code",
   "execution_count": 24,
   "id": "8da79406",
   "metadata": {},
   "outputs": [
    {
     "name": "stdout",
     "output_type": "stream",
     "text": [
      "<class 'pandas.core.frame.DataFrame'>\n",
      "Int64Index: 1631813 entries, 0 to 54272\n",
      "Data columns (total 21 columns):\n",
      " #   Column                 Non-Null Count    Dtype  \n",
      "---  ------                 --------------    -----  \n",
      " 0   Id                     1631813 non-null  object \n",
      " 1   Name                   1631813 non-null  object \n",
      " 2   Authors                1631813 non-null  object \n",
      " 3   ISBN                   1626743 non-null  object \n",
      " 4   Rating                 1631813 non-null  float64\n",
      " 5   PublishYear            1631813 non-null  object \n",
      " 6   PublishMonth           1631813 non-null  object \n",
      " 7   PublishDay             1631813 non-null  object \n",
      " 8   Publisher              1631813 non-null  object \n",
      " 9   RatingDist5            1631813 non-null  object \n",
      " 10  RatingDist4            1631813 non-null  object \n",
      " 11  RatingDist3            1631813 non-null  object \n",
      " 12  RatingDist2            1631813 non-null  object \n",
      " 13  RatingDist1            1631813 non-null  object \n",
      " 14  RatingDistTotal        1631813 non-null  object \n",
      " 15  CountsOfReview         1631813 non-null  object \n",
      " 16  Language               214157 non-null   object \n",
      " 17  pagesNumber            680854 non-null   object \n",
      " 18  Description            1044025 non-null  object \n",
      " 19  Count of text reviews  330178 non-null   object \n",
      " 20  PagesNumber            950959 non-null   float64\n",
      "dtypes: float64(2), object(19)\n",
      "memory usage: 273.9+ MB\n"
     ]
    }
   ],
   "source": [
    "books_pd.drop((books_pd[books_pd['Publisher'].isnull()].index).tolist(), inplace=True)\n",
    "books_pd.info(show_counts=True)"
   ]
  },
  {
   "cell_type": "markdown",
   "id": "39e2de0e",
   "metadata": {},
   "source": [
    "#### The Rating distribution data has the rating number after a colon. Need to fix this"
   ]
  },
  {
   "cell_type": "code",
   "execution_count": 25,
   "id": "4ae40e0c",
   "metadata": {},
   "outputs": [],
   "source": [
    "books_pd['RatingDistTotal'] = books_pd['RatingDistTotal'].apply(lambda rating: rating.split(':')[1]).astype('int')\n",
    "books_pd['RatingDist1'] = books_pd['RatingDist1'].apply(lambda rating: rating.split(':')[1]).astype('int')\n",
    "books_pd['RatingDist2'] = books_pd['RatingDist2'].apply(lambda rating: rating.split(':')[1]).astype('int')\n",
    "books_pd['RatingDist3'] = books_pd['RatingDist3'].apply(lambda rating: rating.split(':')[1]).astype('int')\n",
    "books_pd['RatingDist4'] = books_pd['RatingDist4'].apply(lambda rating: rating.split(':')[1]).astype('int')\n",
    "books_pd['RatingDist5'] = books_pd['RatingDist5'].apply(lambda rating: rating.split(':')[1]).astype('int')"
   ]
  },
  {
   "cell_type": "markdown",
   "id": "2b280513",
   "metadata": {},
   "source": [
    "#### replace 'en-US' 'en-GB' 'en-CA' to 'eng'"
   ]
  },
  {
   "cell_type": "code",
   "execution_count": 26,
   "id": "875c0a29",
   "metadata": {},
   "outputs": [],
   "source": [
    "books_pd['Language'] = books_pd['Language'].str.replace('en-US', 'eng')\n",
    "books_pd['Language'] = books_pd['Language'].str.replace('en-GB', 'eng')\n",
    "books_pd['Language'] = books_pd['Language'].str.replace('en-CA', 'eng')"
   ]
  },
  {
   "cell_type": "code",
   "execution_count": 27,
   "id": "57a90e24",
   "metadata": {},
   "outputs": [],
   "source": [
    "books_pd['Language'] = books_pd['Language'].replace('--', np.NaN)"
   ]
  },
  {
   "cell_type": "markdown",
   "id": "3417f719",
   "metadata": {},
   "source": [
    "#### Drop null descriptions"
   ]
  },
  {
   "cell_type": "code",
   "execution_count": 28,
   "id": "583ec356",
   "metadata": {},
   "outputs": [],
   "source": [
    "books_pd.dropna(subset=['Description'], inplace=True)"
   ]
  },
  {
   "cell_type": "markdown",
   "id": "a179afa9",
   "metadata": {},
   "source": [
    "#### Use regex to clean up the descriptions as some of them have embedded HTML tags like <br>"
   ]
  },
  {
   "cell_type": "code",
   "execution_count": 29,
   "id": "09095b43",
   "metadata": {},
   "outputs": [],
   "source": [
    "# use regex to clean up the descriptions as some of them have embedded HTML tags like <br>\n",
    "import re\n",
    "# compile once only\n",
    "CLEANR = re.compile('<.*?>|&([a-z0-9]+|#[0-9]{1,6}|#x[0-9a-f]{1,6});') \n",
    "\n",
    "def cleanhtml(raw_html):\n",
    "    cleantext = re.sub(CLEANR, '', raw_html)\n",
    "    return cleantext"
   ]
  },
  {
   "cell_type": "markdown",
   "id": "f1459762",
   "metadata": {},
   "source": [
    "#### Remove the html tags"
   ]
  },
  {
   "cell_type": "code",
   "execution_count": 30,
   "id": "818e0c8d",
   "metadata": {},
   "outputs": [
    {
     "data": {
      "text/plain": [
       "38000     Maybe it was a moment of insanity. Maybe it wa...\n",
       "295931    Christmas on a psychiatric ward can be downrig...\n",
       "138166    In 1880 the Canadian Pacific Railway was born ...\n",
       "269105    Almasy's photographic work consists of two gre...\n",
       "36779     This work covers the structure, components, an...\n",
       "216963    Award-winning director and screenwriter, actor...\n",
       "130626    Ted Rueter panders to Democratic party lines b...\n",
       "46238     Finding herself struggling with depression (\"l...\n",
       "39406     Written over a thirty-year period, the essays ...\n",
       "23890     Phyllisia eventually recognizes that her own s...\n",
       "Name: Description, dtype: object"
      ]
     },
     "execution_count": 30,
     "metadata": {},
     "output_type": "execute_result"
    }
   ],
   "source": [
    "books_pd['Description'] = books_pd.Description.apply(cleanhtml)\n",
    "books_pd['Description'].sample(10)"
   ]
  },
  {
   "cell_type": "markdown",
   "id": "57ac042b",
   "metadata": {},
   "source": [
    "#### Drop books not in English. Only recommend English books"
   ]
  },
  {
   "cell_type": "code",
   "execution_count": 31,
   "id": "b47c025f",
   "metadata": {},
   "outputs": [
    {
     "name": "stdout",
     "output_type": "stream",
     "text": [
      "<class 'pandas.core.frame.DataFrame'>\n",
      "Int64Index: 105284 entries, 0 to 54253\n",
      "Data columns (total 21 columns):\n",
      " #   Column                 Non-Null Count   Dtype  \n",
      "---  ------                 --------------   -----  \n",
      " 0   Id                     105284 non-null  object \n",
      " 1   Name                   105284 non-null  object \n",
      " 2   Authors                105284 non-null  object \n",
      " 3   ISBN                   104439 non-null  object \n",
      " 4   Rating                 105284 non-null  float64\n",
      " 5   PublishYear            105284 non-null  object \n",
      " 6   PublishMonth           105284 non-null  object \n",
      " 7   PublishDay             105284 non-null  object \n",
      " 8   Publisher              105284 non-null  object \n",
      " 9   RatingDist5            105284 non-null  int64  \n",
      " 10  RatingDist4            105284 non-null  int64  \n",
      " 11  RatingDist3            105284 non-null  int64  \n",
      " 12  RatingDist2            105284 non-null  int64  \n",
      " 13  RatingDist1            105284 non-null  int64  \n",
      " 14  RatingDistTotal        105284 non-null  int64  \n",
      " 15  CountsOfReview         105284 non-null  object \n",
      " 16  Language               105284 non-null  object \n",
      " 17  pagesNumber            51932 non-null   object \n",
      " 18  Description            105284 non-null  object \n",
      " 19  Count of text reviews  43006 non-null   object \n",
      " 20  PagesNumber            53352 non-null   float64\n",
      "dtypes: float64(2), int64(6), object(13)\n",
      "memory usage: 17.7+ MB\n"
     ]
    }
   ],
   "source": [
    "books_eng = books_pd[books_pd['Language']=='eng']\n",
    "books_eng.info(show_counts=True)"
   ]
  },
  {
   "cell_type": "markdown",
   "id": "32789bf5",
   "metadata": {},
   "source": [
    "### we should drop the duplicate of name and author"
   ]
  },
  {
   "cell_type": "code",
   "execution_count": 32,
   "id": "e3a82e53",
   "metadata": {
    "scrolled": true
   },
   "outputs": [
    {
     "name": "stdout",
     "output_type": "stream",
     "text": [
      "<class 'pandas.core.frame.DataFrame'>\n",
      "Int64Index: 98735 entries, 0 to 54253\n",
      "Data columns (total 21 columns):\n",
      " #   Column                 Non-Null Count  Dtype  \n",
      "---  ------                 --------------  -----  \n",
      " 0   Id                     98735 non-null  object \n",
      " 1   Name                   98735 non-null  object \n",
      " 2   Authors                98735 non-null  object \n",
      " 3   ISBN                   97970 non-null  object \n",
      " 4   Rating                 98735 non-null  float64\n",
      " 5   PublishYear            98735 non-null  object \n",
      " 6   PublishMonth           98735 non-null  object \n",
      " 7   PublishDay             98735 non-null  object \n",
      " 8   Publisher              98735 non-null  object \n",
      " 9   RatingDist5            98735 non-null  int64  \n",
      " 10  RatingDist4            98735 non-null  int64  \n",
      " 11  RatingDist3            98735 non-null  int64  \n",
      " 12  RatingDist2            98735 non-null  int64  \n",
      " 13  RatingDist1            98735 non-null  int64  \n",
      " 14  RatingDistTotal        98735 non-null  int64  \n",
      " 15  CountsOfReview         98735 non-null  object \n",
      " 16  Language               98735 non-null  object \n",
      " 17  pagesNumber            48940 non-null  object \n",
      " 18  Description            98735 non-null  object \n",
      " 19  Count of text reviews  40091 non-null  object \n",
      " 20  PagesNumber            49795 non-null  float64\n",
      "dtypes: float64(2), int64(6), object(13)\n",
      "memory usage: 16.6+ MB\n"
     ]
    },
    {
     "name": "stderr",
     "output_type": "stream",
     "text": [
      "/home/jin/miniconda3/envs/mle_capstone/lib/python3.8/site-packages/pandas/util/_decorators.py:311: SettingWithCopyWarning: \n",
      "A value is trying to be set on a copy of a slice from a DataFrame\n",
      "\n",
      "See the caveats in the documentation: https://pandas.pydata.org/pandas-docs/stable/user_guide/indexing.html#returning-a-view-versus-a-copy\n",
      "  return func(*args, **kwargs)\n"
     ]
    }
   ],
   "source": [
    "books_eng.drop_duplicates(subset=[\"Authors\", \"Name\"], inplace=True)\n",
    "books_eng.info(show_counts=True)"
   ]
  },
  {
   "cell_type": "markdown",
   "id": "dac8e516",
   "metadata": {},
   "source": [
    "### Drop some columns not used for this task"
   ]
  },
  {
   "cell_type": "code",
   "execution_count": 33,
   "id": "ef2fb91a",
   "metadata": {
    "scrolled": true
   },
   "outputs": [
    {
     "name": "stderr",
     "output_type": "stream",
     "text": [
      "/home/jin/miniconda3/envs/mle_capstone/lib/python3.8/site-packages/pandas/core/frame.py:4906: SettingWithCopyWarning: \n",
      "A value is trying to be set on a copy of a slice from a DataFrame\n",
      "\n",
      "See the caveats in the documentation: https://pandas.pydata.org/pandas-docs/stable/user_guide/indexing.html#returning-a-view-versus-a-copy\n",
      "  return super().drop(\n"
     ]
    }
   ],
   "source": [
    "books_eng.drop(columns=[\"PagesNumber\", \"CountsOfReview\", \"Count of text reviews\",\"pagesNumber\"], inplace=True)"
   ]
  },
  {
   "cell_type": "markdown",
   "id": "5e06177c",
   "metadata": {},
   "source": [
    "### Data processing for the user rating file"
   ]
  },
  {
   "cell_type": "code",
   "execution_count": 36,
   "id": "b4187247",
   "metadata": {},
   "outputs": [
    {
     "data": {
      "text/plain": [
       "Rating    4765\n",
       "Name: Name, dtype: int64"
      ]
     },
     "execution_count": 36,
     "metadata": {},
     "output_type": "execute_result"
    }
   ],
   "source": [
    "# drop the user without any rating\n",
    "no_rating_df = users_pd[users_pd['Rating']=='This user doesn\\'t have any rating']\n",
    "no_rating_df['Name'].value_counts()"
   ]
  },
  {
   "cell_type": "code",
   "execution_count": 37,
   "id": "5fe18788",
   "metadata": {},
   "outputs": [
    {
     "data": {
      "text/plain": [
       "really liked it    132808\n",
       "liked it            96047\n",
       "it was amazing      92354\n",
       "it was ok           28811\n",
       "did not like it      7811\n",
       "Name: Rating, dtype: int64"
      ]
     },
     "execution_count": 37,
     "metadata": {},
     "output_type": "execute_result"
    }
   ],
   "source": [
    "users_pd = users_pd.drop(no_rating_df.index.tolist())\n",
    "users_pd_dropna['Rating'].value_counts()"
   ]
  },
  {
   "cell_type": "markdown",
   "id": "63279599",
   "metadata": {},
   "source": [
    "### Merge the book table and user rating table"
   ]
  },
  {
   "cell_type": "code",
   "execution_count": 39,
   "id": "b8c65488",
   "metadata": {
    "scrolled": true
   },
   "outputs": [
    {
     "name": "stdout",
     "output_type": "stream",
     "text": [
      "<class 'pandas.core.frame.DataFrame'>\n",
      "Int64Index: 126824 entries, 0 to 126823\n",
      "Data columns (total 19 columns):\n",
      " #   Column           Non-Null Count   Dtype  \n",
      "---  ------           --------------   -----  \n",
      " 0   ID               126824 non-null  object \n",
      " 1   Name             126824 non-null  object \n",
      " 2   Rating_x         126824 non-null  object \n",
      " 3   Id               126824 non-null  object \n",
      " 4   Authors          126824 non-null  object \n",
      " 5   ISBN             122533 non-null  object \n",
      " 6   Rating_y         126824 non-null  float64\n",
      " 7   PublishYear      126824 non-null  object \n",
      " 8   PublishMonth     126824 non-null  object \n",
      " 9   PublishDay       126824 non-null  object \n",
      " 10  Publisher        126824 non-null  object \n",
      " 11  RatingDist5      126824 non-null  int64  \n",
      " 12  RatingDist4      126824 non-null  int64  \n",
      " 13  RatingDist3      126824 non-null  int64  \n",
      " 14  RatingDist2      126824 non-null  int64  \n",
      " 15  RatingDist1      126824 non-null  int64  \n",
      " 16  RatingDistTotal  126824 non-null  int64  \n",
      " 17  Language         126824 non-null  object \n",
      " 18  Description      126824 non-null  object \n",
      "dtypes: float64(1), int64(6), object(12)\n",
      "memory usage: 19.4+ MB\n"
     ]
    }
   ],
   "source": [
    "book_user = users_pd.merge(books_eng, on='Name',how='inner')\n",
    "book_user.info()"
   ]
  },
  {
   "cell_type": "code",
   "execution_count": 41,
   "id": "0454b729",
   "metadata": {
    "scrolled": true
   },
   "outputs": [
    {
     "data": {
      "text/plain": [
       "The Great Gatsby                                                                       2655\n",
       "Pride and Prejudice                                                                    1160\n",
       "The Catcher in the Rye                                                                  985\n",
       "The Da Vinci Code (Robert Langdon, #2)                                                  846\n",
       "To Kill a Mockingbird                                                                   830\n",
       "                                                                                       ... \n",
       "Dead at Daybreak                                                                          1\n",
       "The Fatal Shore: History of the Transportation of Convicts to Australia 1787 - 1868       1\n",
       "The Fahrenheit Twins                                                                      1\n",
       "Bad Debts (Jack Irish, #1)                                                                1\n",
       "The Horizontal World: Growing Up Wild in the Middle of Nowhere                            1\n",
       "Name: Name, Length: 12292, dtype: int64"
      ]
     },
     "execution_count": 41,
     "metadata": {},
     "output_type": "execute_result"
    }
   ],
   "source": [
    "book_user['Name'].value_counts()"
   ]
  },
  {
   "cell_type": "code",
   "execution_count": 42,
   "id": "7328c2b3",
   "metadata": {},
   "outputs": [
    {
     "name": "stdout",
     "output_type": "stream",
     "text": [
      "<class 'pandas.core.frame.DataFrame'>\n",
      "RangeIndex: 12292 entries, 0 to 12291\n",
      "Data columns (total 1 columns):\n",
      " #   Column  Non-Null Count  Dtype \n",
      "---  ------  --------------  ----- \n",
      " 0   Name    12292 non-null  object\n",
      "dtypes: object(1)\n",
      "memory usage: 96.2+ KB\n",
      "[    0     1     2 ... 12289 12290 12291]\n"
     ]
    },
    {
     "name": "stderr",
     "output_type": "stream",
     "text": [
      "/home/jin/miniconda3/envs/mle_capstone/lib/python3.8/site-packages/pandas/util/_decorators.py:311: SettingWithCopyWarning: \n",
      "A value is trying to be set on a copy of a slice from a DataFrame\n",
      "\n",
      "See the caveats in the documentation: https://pandas.pydata.org/pandas-docs/stable/user_guide/indexing.html#returning-a-view-versus-a-copy\n",
      "  return func(*args, **kwargs)\n",
      "/tmp/ipykernel_26650/779982206.py:6: SettingWithCopyWarning: \n",
      "A value is trying to be set on a copy of a slice from a DataFrame.\n",
      "Try using .loc[row_indexer,col_indexer] = value instead\n",
      "\n",
      "See the caveats in the documentation: https://pandas.pydata.org/pandas-docs/stable/user_guide/indexing.html#returning-a-view-versus-a-copy\n",
      "  book_map['Book_Id']=book_map.index.values\n"
     ]
    }
   ],
   "source": [
    "#Encode each book with Book_Id\n",
    "book_map = book_user[['Name']]\n",
    "book_map.drop_duplicates(subset=['Name'],keep='first',inplace=True)\n",
    "book_map.reset_index(drop=True,inplace=True)\n",
    "book_map.info()\n",
    "book_map['Book_Id']=book_map.index.values\n",
    "print(book_map.index.values)\n",
    "book_user_wid = pd.merge(book_user,book_map, on=['Name'], how='left')"
   ]
  },
  {
   "cell_type": "code",
   "execution_count": 43,
   "id": "c0ea508c",
   "metadata": {},
   "outputs": [
    {
     "name": "stdout",
     "output_type": "stream",
     "text": [
      "<class 'pandas.core.frame.DataFrame'>\n",
      "Int64Index: 126824 entries, 0 to 126823\n",
      "Data columns (total 20 columns):\n",
      " #   Column           Non-Null Count   Dtype  \n",
      "---  ------           --------------   -----  \n",
      " 0   ID               126824 non-null  object \n",
      " 1   Name             126824 non-null  object \n",
      " 2   Rating_x         126824 non-null  object \n",
      " 3   Id               126824 non-null  object \n",
      " 4   Authors          126824 non-null  object \n",
      " 5   ISBN             122533 non-null  object \n",
      " 6   Rating_y         126824 non-null  float64\n",
      " 7   PublishYear      126824 non-null  object \n",
      " 8   PublishMonth     126824 non-null  object \n",
      " 9   PublishDay       126824 non-null  object \n",
      " 10  Publisher        126824 non-null  object \n",
      " 11  RatingDist5      126824 non-null  int64  \n",
      " 12  RatingDist4      126824 non-null  int64  \n",
      " 13  RatingDist3      126824 non-null  int64  \n",
      " 14  RatingDist2      126824 non-null  int64  \n",
      " 15  RatingDist1      126824 non-null  int64  \n",
      " 16  RatingDistTotal  126824 non-null  int64  \n",
      " 17  Language         126824 non-null  object \n",
      " 18  Description      126824 non-null  object \n",
      " 19  Book_Id          126824 non-null  int64  \n",
      "dtypes: float64(1), int64(7), object(12)\n",
      "memory usage: 20.3+ MB\n"
     ]
    }
   ],
   "source": [
    "book_user_wid.info()"
   ]
  },
  {
   "cell_type": "code",
   "execution_count": 44,
   "id": "9a9ffd9a",
   "metadata": {},
   "outputs": [
    {
     "data": {
      "text/html": [
       "<div>\n",
       "<style scoped>\n",
       "    .dataframe tbody tr th:only-of-type {\n",
       "        vertical-align: middle;\n",
       "    }\n",
       "\n",
       "    .dataframe tbody tr th {\n",
       "        vertical-align: top;\n",
       "    }\n",
       "\n",
       "    .dataframe thead th {\n",
       "        text-align: right;\n",
       "    }\n",
       "</style>\n",
       "<table border=\"1\" class=\"dataframe\">\n",
       "  <thead>\n",
       "    <tr style=\"text-align: right;\">\n",
       "      <th></th>\n",
       "      <th>User_ID</th>\n",
       "      <th>Name</th>\n",
       "      <th>Rating_x</th>\n",
       "      <th>Authors</th>\n",
       "      <th>Description</th>\n",
       "      <th>Book_Id</th>\n",
       "    </tr>\n",
       "  </thead>\n",
       "  <tbody>\n",
       "    <tr>\n",
       "      <th>0</th>\n",
       "      <td>1</td>\n",
       "      <td>The Restaurant at the End of the Universe (Hit...</td>\n",
       "      <td>it was amazing</td>\n",
       "      <td>Douglas Adams</td>\n",
       "      <td>Just when you thought it was safe to go back t...</td>\n",
       "      <td>0</td>\n",
       "    </tr>\n",
       "    <tr>\n",
       "      <th>1</th>\n",
       "      <td>73</td>\n",
       "      <td>The Restaurant at the End of the Universe (Hit...</td>\n",
       "      <td>really liked it</td>\n",
       "      <td>Douglas Adams</td>\n",
       "      <td>Just when you thought it was safe to go back t...</td>\n",
       "      <td>0</td>\n",
       "    </tr>\n",
       "    <tr>\n",
       "      <th>2</th>\n",
       "      <td>116</td>\n",
       "      <td>The Restaurant at the End of the Universe (Hit...</td>\n",
       "      <td>it was amazing</td>\n",
       "      <td>Douglas Adams</td>\n",
       "      <td>Just when you thought it was safe to go back t...</td>\n",
       "      <td>0</td>\n",
       "    </tr>\n",
       "    <tr>\n",
       "      <th>3</th>\n",
       "      <td>171</td>\n",
       "      <td>The Restaurant at the End of the Universe (Hit...</td>\n",
       "      <td>really liked it</td>\n",
       "      <td>Douglas Adams</td>\n",
       "      <td>Just when you thought it was safe to go back t...</td>\n",
       "      <td>0</td>\n",
       "    </tr>\n",
       "    <tr>\n",
       "      <th>4</th>\n",
       "      <td>338</td>\n",
       "      <td>The Restaurant at the End of the Universe (Hit...</td>\n",
       "      <td>liked it</td>\n",
       "      <td>Douglas Adams</td>\n",
       "      <td>Just when you thought it was safe to go back t...</td>\n",
       "      <td>0</td>\n",
       "    </tr>\n",
       "    <tr>\n",
       "      <th>...</th>\n",
       "      <td>...</td>\n",
       "      <td>...</td>\n",
       "      <td>...</td>\n",
       "      <td>...</td>\n",
       "      <td>...</td>\n",
       "      <td>...</td>\n",
       "    </tr>\n",
       "    <tr>\n",
       "      <th>126819</th>\n",
       "      <td>3166</td>\n",
       "      <td>The Bible Salesman</td>\n",
       "      <td>really liked it</td>\n",
       "      <td>Clyde Edgerton</td>\n",
       "      <td>When career criminal Preston Clearwater picks ...</td>\n",
       "      <td>12287</td>\n",
       "    </tr>\n",
       "    <tr>\n",
       "      <th>126820</th>\n",
       "      <td>3166</td>\n",
       "      <td>My Side Of The Story</td>\n",
       "      <td>liked it</td>\n",
       "      <td>Will Davis</td>\n",
       "      <td>My name is Jarold, but everyone calls me Jaz, ...</td>\n",
       "      <td>12288</td>\n",
       "    </tr>\n",
       "    <tr>\n",
       "      <th>126821</th>\n",
       "      <td>3166</td>\n",
       "      <td>Life as We Know It: A Collection of Personal E...</td>\n",
       "      <td>liked it</td>\n",
       "      <td>Jennifer Foote Sweeney</td>\n",
       "      <td>\"...these essays are jewels of the unexpected,...</td>\n",
       "      <td>12289</td>\n",
       "    </tr>\n",
       "    <tr>\n",
       "      <th>126822</th>\n",
       "      <td>3166</td>\n",
       "      <td>Hello, I Must Be Going</td>\n",
       "      <td>really liked it</td>\n",
       "      <td>Christie Hodgen</td>\n",
       "      <td>It's the early 1980s, and tomboy Frankie Hawth...</td>\n",
       "      <td>12290</td>\n",
       "    </tr>\n",
       "    <tr>\n",
       "      <th>126823</th>\n",
       "      <td>3166</td>\n",
       "      <td>The Horizontal World: Growing Up Wild in the M...</td>\n",
       "      <td>liked it</td>\n",
       "      <td>Debra Marquart</td>\n",
       "      <td>Debra Marquart grew up on a farm in rural Nort...</td>\n",
       "      <td>12291</td>\n",
       "    </tr>\n",
       "  </tbody>\n",
       "</table>\n",
       "<p>126824 rows × 6 columns</p>\n",
       "</div>"
      ],
      "text/plain": [
       "       User_ID                                               Name  \\\n",
       "0            1  The Restaurant at the End of the Universe (Hit...   \n",
       "1           73  The Restaurant at the End of the Universe (Hit...   \n",
       "2          116  The Restaurant at the End of the Universe (Hit...   \n",
       "3          171  The Restaurant at the End of the Universe (Hit...   \n",
       "4          338  The Restaurant at the End of the Universe (Hit...   \n",
       "...        ...                                                ...   \n",
       "126819    3166                                 The Bible Salesman   \n",
       "126820    3166                               My Side Of The Story   \n",
       "126821    3166  Life as We Know It: A Collection of Personal E...   \n",
       "126822    3166                             Hello, I Must Be Going   \n",
       "126823    3166  The Horizontal World: Growing Up Wild in the M...   \n",
       "\n",
       "               Rating_x                 Authors  \\\n",
       "0        it was amazing           Douglas Adams   \n",
       "1       really liked it           Douglas Adams   \n",
       "2        it was amazing           Douglas Adams   \n",
       "3       really liked it           Douglas Adams   \n",
       "4              liked it           Douglas Adams   \n",
       "...                 ...                     ...   \n",
       "126819  really liked it          Clyde Edgerton   \n",
       "126820         liked it              Will Davis   \n",
       "126821         liked it  Jennifer Foote Sweeney   \n",
       "126822  really liked it         Christie Hodgen   \n",
       "126823         liked it          Debra Marquart   \n",
       "\n",
       "                                              Description  Book_Id  \n",
       "0       Just when you thought it was safe to go back t...        0  \n",
       "1       Just when you thought it was safe to go back t...        0  \n",
       "2       Just when you thought it was safe to go back t...        0  \n",
       "3       Just when you thought it was safe to go back t...        0  \n",
       "4       Just when you thought it was safe to go back t...        0  \n",
       "...                                                   ...      ...  \n",
       "126819  When career criminal Preston Clearwater picks ...    12287  \n",
       "126820  My name is Jarold, but everyone calls me Jaz, ...    12288  \n",
       "126821  \"...these essays are jewels of the unexpected,...    12289  \n",
       "126822  It's the early 1980s, and tomboy Frankie Hawth...    12290  \n",
       "126823  Debra Marquart grew up on a farm in rural Nort...    12291  \n",
       "\n",
       "[126824 rows x 6 columns]"
      ]
     },
     "execution_count": 44,
     "metadata": {},
     "output_type": "execute_result"
    }
   ],
   "source": [
    "# Select columns\n",
    "book_user_wid.rename(columns={'ID':'User_ID'}, inplace=True)\n",
    "book_user_sel = book_user_wid.iloc[:,[0,1,2,4,18,19]]\n",
    "book_user_sel"
   ]
  },
  {
   "cell_type": "code",
   "execution_count": 45,
   "id": "c9b79163",
   "metadata": {},
   "outputs": [
    {
     "data": {
      "text/html": [
       "<div>\n",
       "<style scoped>\n",
       "    .dataframe tbody tr th:only-of-type {\n",
       "        vertical-align: middle;\n",
       "    }\n",
       "\n",
       "    .dataframe tbody tr th {\n",
       "        vertical-align: top;\n",
       "    }\n",
       "\n",
       "    .dataframe thead th {\n",
       "        text-align: right;\n",
       "    }\n",
       "</style>\n",
       "<table border=\"1\" class=\"dataframe\">\n",
       "  <thead>\n",
       "    <tr style=\"text-align: right;\">\n",
       "      <th></th>\n",
       "      <th>Name</th>\n",
       "      <th>Authors</th>\n",
       "      <th>Description</th>\n",
       "      <th>Book_Id</th>\n",
       "    </tr>\n",
       "  </thead>\n",
       "  <tbody>\n",
       "    <tr>\n",
       "      <th>0</th>\n",
       "      <td>The Restaurant at the End of the Universe (Hit...</td>\n",
       "      <td>Douglas Adams</td>\n",
       "      <td>Just when you thought it was safe to go back t...</td>\n",
       "      <td>0</td>\n",
       "    </tr>\n",
       "    <tr>\n",
       "      <th>48</th>\n",
       "      <td>Siddhartha</td>\n",
       "      <td>Hermann Hesse</td>\n",
       "      <td>In the novel, Siddhartha, a young man, leaves ...</td>\n",
       "      <td>1</td>\n",
       "    </tr>\n",
       "    <tr>\n",
       "      <th>311</th>\n",
       "      <td>The Hunger Games (The Hunger Games, #1)</td>\n",
       "      <td>Suzanne Collins</td>\n",
       "      <td>WINNING MEANS FAME AND FORTUNE.LOSING MEANS CE...</td>\n",
       "      <td>2</td>\n",
       "    </tr>\n",
       "    <tr>\n",
       "      <th>771</th>\n",
       "      <td>The Authoritative Calvin and Hobbes: A Calvin ...</td>\n",
       "      <td>Bill Watterson</td>\n",
       "      <td>The Authoritative Calvin and Hobbes, is a larg...</td>\n",
       "      <td>3</td>\n",
       "    </tr>\n",
       "    <tr>\n",
       "      <th>783</th>\n",
       "      <td>The Name of the Rose</td>\n",
       "      <td>Umberto Eco</td>\n",
       "      <td>Librarian note: Older edition of 9780099466031...</td>\n",
       "      <td>4</td>\n",
       "    </tr>\n",
       "    <tr>\n",
       "      <th>...</th>\n",
       "      <td>...</td>\n",
       "      <td>...</td>\n",
       "      <td>...</td>\n",
       "      <td>...</td>\n",
       "    </tr>\n",
       "    <tr>\n",
       "      <th>126819</th>\n",
       "      <td>The Bible Salesman</td>\n",
       "      <td>Clyde Edgerton</td>\n",
       "      <td>When career criminal Preston Clearwater picks ...</td>\n",
       "      <td>12287</td>\n",
       "    </tr>\n",
       "    <tr>\n",
       "      <th>126820</th>\n",
       "      <td>My Side Of The Story</td>\n",
       "      <td>Will Davis</td>\n",
       "      <td>My name is Jarold, but everyone calls me Jaz, ...</td>\n",
       "      <td>12288</td>\n",
       "    </tr>\n",
       "    <tr>\n",
       "      <th>126821</th>\n",
       "      <td>Life as We Know It: A Collection of Personal E...</td>\n",
       "      <td>Jennifer Foote Sweeney</td>\n",
       "      <td>\"...these essays are jewels of the unexpected,...</td>\n",
       "      <td>12289</td>\n",
       "    </tr>\n",
       "    <tr>\n",
       "      <th>126822</th>\n",
       "      <td>Hello, I Must Be Going</td>\n",
       "      <td>Christie Hodgen</td>\n",
       "      <td>It's the early 1980s, and tomboy Frankie Hawth...</td>\n",
       "      <td>12290</td>\n",
       "    </tr>\n",
       "    <tr>\n",
       "      <th>126823</th>\n",
       "      <td>The Horizontal World: Growing Up Wild in the M...</td>\n",
       "      <td>Debra Marquart</td>\n",
       "      <td>Debra Marquart grew up on a farm in rural Nort...</td>\n",
       "      <td>12291</td>\n",
       "    </tr>\n",
       "  </tbody>\n",
       "</table>\n",
       "<p>12292 rows × 4 columns</p>\n",
       "</div>"
      ],
      "text/plain": [
       "                                                     Name  \\\n",
       "0       The Restaurant at the End of the Universe (Hit...   \n",
       "48                                             Siddhartha   \n",
       "311               The Hunger Games (The Hunger Games, #1)   \n",
       "771     The Authoritative Calvin and Hobbes: A Calvin ...   \n",
       "783                                  The Name of the Rose   \n",
       "...                                                   ...   \n",
       "126819                                 The Bible Salesman   \n",
       "126820                               My Side Of The Story   \n",
       "126821  Life as We Know It: A Collection of Personal E...   \n",
       "126822                             Hello, I Must Be Going   \n",
       "126823  The Horizontal World: Growing Up Wild in the M...   \n",
       "\n",
       "                       Authors  \\\n",
       "0                Douglas Adams   \n",
       "48               Hermann Hesse   \n",
       "311            Suzanne Collins   \n",
       "771             Bill Watterson   \n",
       "783                Umberto Eco   \n",
       "...                        ...   \n",
       "126819          Clyde Edgerton   \n",
       "126820              Will Davis   \n",
       "126821  Jennifer Foote Sweeney   \n",
       "126822         Christie Hodgen   \n",
       "126823          Debra Marquart   \n",
       "\n",
       "                                              Description  Book_Id  \n",
       "0       Just when you thought it was safe to go back t...        0  \n",
       "48      In the novel, Siddhartha, a young man, leaves ...        1  \n",
       "311     WINNING MEANS FAME AND FORTUNE.LOSING MEANS CE...        2  \n",
       "771     The Authoritative Calvin and Hobbes, is a larg...        3  \n",
       "783     Librarian note: Older edition of 9780099466031...        4  \n",
       "...                                                   ...      ...  \n",
       "126819  When career criminal Preston Clearwater picks ...    12287  \n",
       "126820  My name is Jarold, but everyone calls me Jaz, ...    12288  \n",
       "126821  \"...these essays are jewels of the unexpected,...    12289  \n",
       "126822  It's the early 1980s, and tomboy Frankie Hawth...    12290  \n",
       "126823  Debra Marquart grew up on a farm in rural Nort...    12291  \n",
       "\n",
       "[12292 rows x 4 columns]"
      ]
     },
     "execution_count": 45,
     "metadata": {},
     "output_type": "execute_result"
    }
   ],
   "source": [
    "#Extract book information\n",
    "book_df = book_user_sel[['Name','Authors','Description', 'Book_Id']].drop_duplicates(subset=['Name'],keep='first')\n",
    "book_df"
   ]
  },
  {
   "cell_type": "code",
   "execution_count": 46,
   "id": "777d4f6c",
   "metadata": {},
   "outputs": [],
   "source": [
    "\n",
    "torch.cuda.set_device(1)"
   ]
  },
  {
   "cell_type": "markdown",
   "id": "3ef37d5e",
   "metadata": {},
   "source": [
    "## 3. Build Hybrid Recommender\n",
    "### Build the content based similarity using transformer"
   ]
  },
  {
   "cell_type": "code",
   "execution_count": 47,
   "id": "2fb41005",
   "metadata": {},
   "outputs": [
    {
     "name": "stderr",
     "output_type": "stream",
     "text": [
      "2022-05-14 15:34:25.782004: I tensorflow/stream_executor/platform/default/dso_loader.cc:53] Successfully opened dynamic library libcudart.so.11.0\n"
     ]
    }
   ],
   "source": [
    "#Use sentence transformer for embedding instead of TF-IDF\n",
    "from sentence_transformers import SentenceTransformer"
   ]
  },
  {
   "cell_type": "code",
   "execution_count": 48,
   "id": "0f0e0770",
   "metadata": {},
   "outputs": [],
   "source": [
    "# Download model\n",
    "model = SentenceTransformer('all-distilroberta-v1')"
   ]
  },
  {
   "cell_type": "code",
   "execution_count": 49,
   "id": "6f68c074",
   "metadata": {},
   "outputs": [
    {
     "data": {
      "application/vnd.jupyter.widget-view+json": {
       "model_id": "2d6ddb0b43454aca85c1b2619879b9ea",
       "version_major": 2,
       "version_minor": 0
      },
      "text/plain": [
       "Batches:   0%|          | 0/385 [00:00<?, ?it/s]"
      ]
     },
     "metadata": {},
     "output_type": "display_data"
    }
   ],
   "source": [
    "\n",
    "book_transformer_embedding = model.encode(book_df['Description'].values.tolist(), show_progress_bar=True)"
   ]
  },
  {
   "cell_type": "code",
   "execution_count": 89,
   "id": "181f266a",
   "metadata": {},
   "outputs": [
    {
     "data": {
      "text/plain": [
       "(12292, 768)"
      ]
     },
     "execution_count": 89,
     "metadata": {},
     "output_type": "execute_result"
    }
   ],
   "source": [
    "book_transformer_embedding.shape"
   ]
  },
  {
   "cell_type": "code",
   "execution_count": 90,
   "id": "1962177c",
   "metadata": {},
   "outputs": [],
   "source": [
    "x_train, x_test,y_train, y_test = train_test_split(book_transformer_embedding, book_transformer_embedding, test_size=0.1, random_state=2022)"
   ]
  },
  {
   "cell_type": "markdown",
   "id": "aebf70b6",
   "metadata": {},
   "source": [
    "### Build an autoencoder to reduce the dimension for the book embedding from transformer"
   ]
  },
  {
   "cell_type": "code",
   "execution_count": 91,
   "id": "fe9df4c0",
   "metadata": {},
   "outputs": [],
   "source": [
    "##Deep Learning specific stuff\n",
    "from sklearn import preprocessing\n",
    "from sklearn.model_selection import train_test_split\n",
    "import tensorflow as tf\n",
    "import tensorflow.keras.backend as K\n",
    "from tensorflow.keras.models import Sequential\n",
    "from tensorflow.keras.layers import Dense , Concatenate\n",
    "from tensorflow.keras.optimizers import Adam,SGD,Adagrad,Adadelta,RMSprop\n",
    "from tensorflow.keras.utils import to_categorical\n",
    "from tensorflow.keras.utils import model_to_dot\n",
    "from tensorflow.keras.callbacks import ReduceLROnPlateau\n",
    "from tensorflow.keras.layers import Dropout, Flatten,Activation,Input,Embedding\n",
    "from tensorflow.keras.layers import Conv2D, MaxPooling2D, BatchNormalization\n",
    "from tensorflow.keras.layers import dot\n",
    "from tensorflow.keras.models import Model"
   ]
  },
  {
   "cell_type": "code",
   "execution_count": 92,
   "id": "af7f4f11",
   "metadata": {},
   "outputs": [],
   "source": [
    "#build autoencoder model\n",
    "def build_autoencoder(input_dim, middle_dim, latent_factors, drop_out): \n",
    "    book_input=Input(shape=(input_dim,),name='book_input',dtype=tf.float64)\n",
    "    #encoder\n",
    "    dense1out = Dense(middle_dim, activation='relu')(book_input)\n",
    "    bat1out = BatchNormalization()(dense1out)\n",
    "    drop1out = Dropout(drop_out)(bat1out)\n",
    "    encout = Dense(latent_factors, activation='relu',name='embedding')(drop1out)\n",
    "    #decoder\n",
    "    dense3out = Dense(middle_dim, activation='relu')(encout)\n",
    "    bat2out = BatchNormalization()(dense3out)\n",
    "    drop2out = Dropout(drop_out)(bat2out)\n",
    "    dense4out = Dense(input_dim)(drop2out)\n",
    "    bat3out = BatchNormalization()(dense4out)\n",
    "    decout = tf.keras.activations.sigmoid(bat3out)\n",
    "\n",
    "\n",
    "    autoencoder =Model(book_input,decout)\n",
    "    return autoencoder"
   ]
  },
  {
   "cell_type": "code",
   "execution_count": 93,
   "id": "635c1fd0",
   "metadata": {},
   "outputs": [],
   "source": [
    "\n",
    "x_train, x_test,y_train, y_test = train_test_split(book_transformer_embedding, book_transformer_embedding, test_size=0.1, random_state=2022)"
   ]
  },
  {
   "cell_type": "code",
   "execution_count": 94,
   "id": "166068e8",
   "metadata": {},
   "outputs": [
    {
     "name": "stdout",
     "output_type": "stream",
     "text": [
      "Model: \"model_6\"\n",
      "_________________________________________________________________\n",
      "Layer (type)                 Output Shape              Param #   \n",
      "=================================================================\n",
      "book_input (InputLayer)      [(None, 768)]             0         \n",
      "_________________________________________________________________\n",
      "dense_12 (Dense)             (None, 300)               230700    \n",
      "_________________________________________________________________\n",
      "batch_normalization_10 (Batc (None, 300)               1200      \n",
      "_________________________________________________________________\n",
      "dropout_8 (Dropout)          (None, 300)               0         \n",
      "_________________________________________________________________\n",
      "embedding (Dense)            (None, 16)                4816      \n",
      "_________________________________________________________________\n",
      "dense_13 (Dense)             (None, 300)               5100      \n",
      "_________________________________________________________________\n",
      "batch_normalization_11 (Batc (None, 300)               1200      \n",
      "_________________________________________________________________\n",
      "dropout_9 (Dropout)          (None, 300)               0         \n",
      "_________________________________________________________________\n",
      "dense_14 (Dense)             (None, 768)               231168    \n",
      "_________________________________________________________________\n",
      "batch_normalization_12 (Batc (None, 768)               3072      \n",
      "_________________________________________________________________\n",
      "tf.math.sigmoid_2 (TFOpLambd (None, 768)               0         \n",
      "=================================================================\n",
      "Total params: 477,256\n",
      "Trainable params: 474,520\n",
      "Non-trainable params: 2,736\n",
      "_________________________________________________________________\n"
     ]
    }
   ],
   "source": [
    "autoenc2 = build_autoencoder(x_train.shape[1], 300, 16, 0.2)\n",
    "autoenc2.summary()"
   ]
  },
  {
   "cell_type": "code",
   "execution_count": 95,
   "id": "903ed920",
   "metadata": {},
   "outputs": [
    {
     "name": "stdout",
     "output_type": "stream",
     "text": [
      "Epoch 1/20\n",
      "2766/2766 [==============================] - 7s 2ms/step - loss: 0.2589 - val_loss: 0.2383\n",
      "Epoch 2/20\n",
      "2766/2766 [==============================] - 6s 2ms/step - loss: 0.1855 - val_loss: 0.1806\n",
      "Epoch 3/20\n",
      "2766/2766 [==============================] - 5s 2ms/step - loss: 0.1249 - val_loss: 0.1082\n",
      "Epoch 4/20\n",
      "2766/2766 [==============================] - 5s 2ms/step - loss: 0.0842 - val_loss: 0.0698\n",
      "Epoch 5/20\n",
      "2766/2766 [==============================] - 5s 2ms/step - loss: 0.0581 - val_loss: 0.0481\n",
      "Epoch 6/20\n",
      "2766/2766 [==============================] - 6s 2ms/step - loss: 0.0402 - val_loss: 0.0331\n",
      "Epoch 7/20\n",
      "2766/2766 [==============================] - 6s 2ms/step - loss: 0.0275 - val_loss: 0.0226\n",
      "Epoch 8/20\n",
      "2766/2766 [==============================] - 5s 2ms/step - loss: 0.0188 - val_loss: 0.0154\n",
      "Epoch 9/20\n",
      "2766/2766 [==============================] - 5s 2ms/step - loss: 0.0129 - val_loss: 0.0106\n",
      "Epoch 10/20\n",
      "2766/2766 [==============================] - 5s 2ms/step - loss: 0.0089 - val_loss: 0.0074\n",
      "Epoch 11/20\n",
      "2766/2766 [==============================] - 6s 2ms/step - loss: 0.0063 - val_loss: 0.0052\n",
      "Epoch 12/20\n",
      "2766/2766 [==============================] - 5s 2ms/step - loss: 0.0045 - val_loss: 0.0038\n",
      "Epoch 13/20\n",
      "2766/2766 [==============================] - 6s 2ms/step - loss: 0.0034 - val_loss: 0.0029\n",
      "Epoch 14/20\n",
      "2766/2766 [==============================] - 5s 2ms/step - loss: 0.0026 - val_loss: 0.0023\n",
      "Epoch 15/20\n",
      "2766/2766 [==============================] - 6s 2ms/step - loss: 0.0022 - val_loss: 0.0019\n",
      "Epoch 16/20\n",
      "2766/2766 [==============================] - 5s 2ms/step - loss: 0.0018 - val_loss: 0.0017\n",
      "Epoch 17/20\n",
      "2766/2766 [==============================] - 5s 2ms/step - loss: 0.0016 - val_loss: 0.0015\n",
      "Epoch 18/20\n",
      "2766/2766 [==============================] - 5s 2ms/step - loss: 0.0015 - val_loss: 0.0014\n",
      "Epoch 19/20\n",
      "2766/2766 [==============================] - 5s 2ms/step - loss: 0.0014 - val_loss: 0.0013\n",
      "Epoch 20/20\n",
      "2766/2766 [==============================] - 5s 2ms/step - loss: 0.0013 - val_loss: 0.0012\n"
     ]
    }
   ],
   "source": [
    "loss_fun = tf.keras.losses.MeanSquaredError()\n",
    "autoenc2.compile(optimizer=Adam(learning_rate=1e-4),loss=loss_fun)\n",
    "batch_size=4\n",
    "epochs=20\n",
    "History = autoenc2.fit(x_train,y_train, batch_size=batch_size,\n",
    "                              epochs =epochs, validation_data = (x_test, y_test),\n",
    "                              verbose = 1)"
   ]
  },
  {
   "cell_type": "code",
   "execution_count": 96,
   "id": "c59e0837",
   "metadata": {},
   "outputs": [],
   "source": [
    "#Extract the embedding\n",
    "extractor2 = Model(inputs=autoenc2.inputs,outputs=autoenc2.get_layer('embedding').output)\n",
    "book_embedding_trf_reduce = extractor2.predict(book_transformer_embedding, batch_size=4)"
   ]
  },
  {
   "cell_type": "code",
   "execution_count": 98,
   "id": "379540e6",
   "metadata": {},
   "outputs": [
    {
     "data": {
      "text/plain": [
       "(12292, 16)"
      ]
     },
     "execution_count": 98,
     "metadata": {},
     "output_type": "execute_result"
    }
   ],
   "source": [
    "book_embedding_trf_reduce.shape"
   ]
  },
  {
   "cell_type": "markdown",
   "id": "49c6eee9",
   "metadata": {},
   "source": [
    "### Generate the book embedding from user rating matrix based on deep learning collaborative filter"
   ]
  },
  {
   "cell_type": "code",
   "execution_count": 65,
   "id": "000b33a7",
   "metadata": {},
   "outputs": [
    {
     "name": "stderr",
     "output_type": "stream",
     "text": [
      "/home/jin/miniconda3/envs/mle_capstone/lib/python3.8/site-packages/pandas/util/_decorators.py:311: SettingWithCopyWarning: \n",
      "A value is trying to be set on a copy of a slice from a DataFrame\n",
      "\n",
      "See the caveats in the documentation: https://pandas.pydata.org/pandas-docs/stable/user_guide/indexing.html#returning-a-view-versus-a-copy\n",
      "  return func(*args, **kwargs)\n",
      "/tmp/ipykernel_26650/463382217.py:4: SettingWithCopyWarning: \n",
      "A value is trying to be set on a copy of a slice from a DataFrame.\n",
      "Try using .loc[row_indexer,col_indexer] = value instead\n",
      "\n",
      "See the caveats in the documentation: https://pandas.pydata.org/pandas-docs/stable/user_guide/indexing.html#returning-a-view-versus-a-copy\n",
      "  book_map['Book_Id']=book_map.index.values\n"
     ]
    },
    {
     "data": {
      "text/html": [
       "<div>\n",
       "<style scoped>\n",
       "    .dataframe tbody tr th:only-of-type {\n",
       "        vertical-align: middle;\n",
       "    }\n",
       "\n",
       "    .dataframe tbody tr th {\n",
       "        vertical-align: top;\n",
       "    }\n",
       "\n",
       "    .dataframe thead th {\n",
       "        text-align: right;\n",
       "    }\n",
       "</style>\n",
       "<table border=\"1\" class=\"dataframe\">\n",
       "  <thead>\n",
       "    <tr style=\"text-align: right;\">\n",
       "      <th></th>\n",
       "      <th>ID</th>\n",
       "      <th>Name</th>\n",
       "      <th>Rating</th>\n",
       "      <th>Book_Id</th>\n",
       "    </tr>\n",
       "  </thead>\n",
       "  <tbody>\n",
       "    <tr>\n",
       "      <th>0</th>\n",
       "      <td>1</td>\n",
       "      <td>Agile Web Development with Rails: A Pragmatic ...</td>\n",
       "      <td>it was amazing</td>\n",
       "      <td>0</td>\n",
       "    </tr>\n",
       "    <tr>\n",
       "      <th>1</th>\n",
       "      <td>1</td>\n",
       "      <td>The Restaurant at the End of the Universe (Hit...</td>\n",
       "      <td>it was amazing</td>\n",
       "      <td>1</td>\n",
       "    </tr>\n",
       "    <tr>\n",
       "      <th>2</th>\n",
       "      <td>1</td>\n",
       "      <td>Siddhartha</td>\n",
       "      <td>it was amazing</td>\n",
       "      <td>2</td>\n",
       "    </tr>\n",
       "    <tr>\n",
       "      <th>3</th>\n",
       "      <td>1</td>\n",
       "      <td>The Clock of the Long Now: Time and Responsibi...</td>\n",
       "      <td>really liked it</td>\n",
       "      <td>3</td>\n",
       "    </tr>\n",
       "    <tr>\n",
       "      <th>4</th>\n",
       "      <td>1</td>\n",
       "      <td>Ready Player One (Ready Player One, #1)</td>\n",
       "      <td>really liked it</td>\n",
       "      <td>4</td>\n",
       "    </tr>\n",
       "  </tbody>\n",
       "</table>\n",
       "</div>"
      ],
      "text/plain": [
       "  ID                                               Name           Rating  \\\n",
       "0  1  Agile Web Development with Rails: A Pragmatic ...   it was amazing   \n",
       "1  1  The Restaurant at the End of the Universe (Hit...   it was amazing   \n",
       "2  1                                         Siddhartha   it was amazing   \n",
       "3  1  The Clock of the Long Now: Time and Responsibi...  really liked it   \n",
       "4  1            Ready Player One (Ready Player One, #1)  really liked it   \n",
       "\n",
       "   Book_Id  \n",
       "0        0  \n",
       "1        1  \n",
       "2        2  \n",
       "3        3  \n",
       "4        4  "
      ]
     },
     "execution_count": 65,
     "metadata": {},
     "output_type": "execute_result"
    }
   ],
   "source": [
    "book_map = users_pd[['Name']]\n",
    "book_map.drop_duplicates(subset=['Name'],keep='first',inplace=True)\n",
    "book_map.reset_index(drop=True, inplace=True)\n",
    "book_map['Book_Id']=book_map.index.values\n",
    "user_rating_temp = pd.merge(users_pd,book_map, on='Name', how='left')\n",
    "user_rating = user_rating_temp[user_rating_temp['Name']!='Rating'] ##Dropping users who have not rated any books\n",
    "user_rating.head()"
   ]
  },
  {
   "cell_type": "code",
   "execution_count": 66,
   "id": "0553a97e",
   "metadata": {},
   "outputs": [
    {
     "data": {
      "text/html": [
       "<div>\n",
       "<style scoped>\n",
       "    .dataframe tbody tr th:only-of-type {\n",
       "        vertical-align: middle;\n",
       "    }\n",
       "\n",
       "    .dataframe tbody tr th {\n",
       "        vertical-align: top;\n",
       "    }\n",
       "\n",
       "    .dataframe thead th {\n",
       "        text-align: right;\n",
       "    }\n",
       "</style>\n",
       "<table border=\"1\" class=\"dataframe\">\n",
       "  <thead>\n",
       "    <tr style=\"text-align: right;\">\n",
       "      <th></th>\n",
       "      <th>ID</th>\n",
       "      <th>Name</th>\n",
       "      <th>Rating</th>\n",
       "      <th>Book_Id</th>\n",
       "      <th>Rating_numeric</th>\n",
       "    </tr>\n",
       "  </thead>\n",
       "  <tbody>\n",
       "    <tr>\n",
       "      <th>0</th>\n",
       "      <td>1</td>\n",
       "      <td>Agile Web Development with Rails: A Pragmatic ...</td>\n",
       "      <td>it was amazing</td>\n",
       "      <td>0</td>\n",
       "      <td>1</td>\n",
       "    </tr>\n",
       "    <tr>\n",
       "      <th>1</th>\n",
       "      <td>1</td>\n",
       "      <td>The Restaurant at the End of the Universe (Hit...</td>\n",
       "      <td>it was amazing</td>\n",
       "      <td>1</td>\n",
       "      <td>1</td>\n",
       "    </tr>\n",
       "    <tr>\n",
       "      <th>2</th>\n",
       "      <td>1</td>\n",
       "      <td>Siddhartha</td>\n",
       "      <td>it was amazing</td>\n",
       "      <td>2</td>\n",
       "      <td>1</td>\n",
       "    </tr>\n",
       "    <tr>\n",
       "      <th>3</th>\n",
       "      <td>1</td>\n",
       "      <td>The Clock of the Long Now: Time and Responsibi...</td>\n",
       "      <td>really liked it</td>\n",
       "      <td>3</td>\n",
       "      <td>4</td>\n",
       "    </tr>\n",
       "    <tr>\n",
       "      <th>4</th>\n",
       "      <td>1</td>\n",
       "      <td>Ready Player One (Ready Player One, #1)</td>\n",
       "      <td>really liked it</td>\n",
       "      <td>4</td>\n",
       "      <td>4</td>\n",
       "    </tr>\n",
       "  </tbody>\n",
       "</table>\n",
       "</div>"
      ],
      "text/plain": [
       "  ID                                               Name           Rating  \\\n",
       "0  1  Agile Web Development with Rails: A Pragmatic ...   it was amazing   \n",
       "1  1  The Restaurant at the End of the Universe (Hit...   it was amazing   \n",
       "2  1                                         Siddhartha   it was amazing   \n",
       "3  1  The Clock of the Long Now: Time and Responsibi...  really liked it   \n",
       "4  1            Ready Player One (Ready Player One, #1)  really liked it   \n",
       "\n",
       "   Book_Id  Rating_numeric  \n",
       "0        0               1  \n",
       "1        1               1  \n",
       "2        2               1  \n",
       "3        3               4  \n",
       "4        4               4  "
      ]
     },
     "execution_count": 66,
     "metadata": {},
     "output_type": "execute_result"
    }
   ],
   "source": [
    "le = preprocessing.LabelEncoder()\n",
    "user_rating['Rating_numeric'] = le.fit_transform(user_rating.Rating.values)\n",
    "user_rating.head()"
   ]
  },
  {
   "cell_type": "code",
   "execution_count": 67,
   "id": "0dad1503",
   "metadata": {},
   "outputs": [
    {
     "name": "stdout",
     "output_type": "stream",
     "text": [
      "[1 2 3 ... 2986 3018 3155]\n",
      "[     0      1      2 ... 103529 103530 103531]\n"
     ]
    },
    {
     "data": {
      "text/html": [
       "<div>\n",
       "<style scoped>\n",
       "    .dataframe tbody tr th:only-of-type {\n",
       "        vertical-align: middle;\n",
       "    }\n",
       "\n",
       "    .dataframe tbody tr th {\n",
       "        vertical-align: top;\n",
       "    }\n",
       "\n",
       "    .dataframe thead th {\n",
       "        text-align: right;\n",
       "    }\n",
       "</style>\n",
       "<table border=\"1\" class=\"dataframe\">\n",
       "  <thead>\n",
       "    <tr style=\"text-align: right;\">\n",
       "      <th></th>\n",
       "      <th>ID</th>\n",
       "      <th>Name</th>\n",
       "      <th>Rating</th>\n",
       "      <th>Book_Id</th>\n",
       "      <th>Rating_numeric</th>\n",
       "    </tr>\n",
       "  </thead>\n",
       "  <tbody>\n",
       "    <tr>\n",
       "      <th>0</th>\n",
       "      <td>0</td>\n",
       "      <td>Agile Web Development with Rails: A Pragmatic ...</td>\n",
       "      <td>it was amazing</td>\n",
       "      <td>0</td>\n",
       "      <td>1</td>\n",
       "    </tr>\n",
       "    <tr>\n",
       "      <th>1</th>\n",
       "      <td>0</td>\n",
       "      <td>The Restaurant at the End of the Universe (Hit...</td>\n",
       "      <td>it was amazing</td>\n",
       "      <td>1</td>\n",
       "      <td>1</td>\n",
       "    </tr>\n",
       "    <tr>\n",
       "      <th>2</th>\n",
       "      <td>0</td>\n",
       "      <td>Siddhartha</td>\n",
       "      <td>it was amazing</td>\n",
       "      <td>2</td>\n",
       "      <td>1</td>\n",
       "    </tr>\n",
       "    <tr>\n",
       "      <th>3</th>\n",
       "      <td>0</td>\n",
       "      <td>The Clock of the Long Now: Time and Responsibi...</td>\n",
       "      <td>really liked it</td>\n",
       "      <td>3</td>\n",
       "      <td>4</td>\n",
       "    </tr>\n",
       "    <tr>\n",
       "      <th>4</th>\n",
       "      <td>0</td>\n",
       "      <td>Ready Player One (Ready Player One, #1)</td>\n",
       "      <td>really liked it</td>\n",
       "      <td>4</td>\n",
       "      <td>4</td>\n",
       "    </tr>\n",
       "  </tbody>\n",
       "</table>\n",
       "</div>"
      ],
      "text/plain": [
       "   ID                                               Name           Rating  \\\n",
       "0   0  Agile Web Development with Rails: A Pragmatic ...   it was amazing   \n",
       "1   0  The Restaurant at the End of the Universe (Hit...   it was amazing   \n",
       "2   0                                         Siddhartha   it was amazing   \n",
       "3   0  The Clock of the Long Now: Time and Responsibi...  really liked it   \n",
       "4   0            Ready Player One (Ready Player One, #1)  really liked it   \n",
       "\n",
       "   Book_Id  Rating_numeric  \n",
       "0        0               1  \n",
       "1        1               1  \n",
       "2        2               1  \n",
       "3        3               4  \n",
       "4        4               4  "
      ]
     },
     "execution_count": 67,
     "metadata": {},
     "output_type": "execute_result"
    }
   ],
   "source": [
    "users = user_rating.ID.unique()\n",
    "print(users)\n",
    "books = user_rating.Book_Id.unique()\n",
    "print(books)\n",
    "userid2idx = {o:i for i,o in enumerate(users)}\n",
    "bookid2idx = {o:i for i,o in enumerate(books)}\n",
    "user_rating['ID'] = user_rating['ID'].apply(lambda x: userid2idx[x])\n",
    "user_rating['Book_Id'] = user_rating['Book_Id'].apply(lambda x: bookid2idx[x])\n",
    "user_rating.head()"
   ]
  },
  {
   "cell_type": "code",
   "execution_count": 68,
   "id": "d08d106c",
   "metadata": {},
   "outputs": [],
   "source": [
    "y=user_rating['Rating_numeric'];\n",
    "X=user_rating.drop(['Rating_numeric'],axis=1)"
   ]
  },
  {
   "cell_type": "code",
   "execution_count": 70,
   "id": "46f79014",
   "metadata": {},
   "outputs": [],
   "source": [
    "def build_model(dropout,latent_factors):\n",
    "    n_books=len(user_rating['Book_Id'].unique())\n",
    "    n_users=len(user_rating['ID'].unique())\n",
    "    n_latent_factors=latent_factors  # hyperparamter to deal with. \n",
    "    user_input=Input(shape=(1,),name='user_input',dtype='int64')\n",
    "    user_embedding=Embedding(n_users,n_latent_factors,name='user_embedding',embeddings_initializer=tf.keras.initializers.GlorotUniform(seed=42))(user_input)\n",
    "    user_vec =Flatten(name='FlattenUsers')(user_embedding)\n",
    "    #user_vec=Dropout(dropout)(user_vec)\n",
    "    book_input=Input(shape=(1,),name='book_input',dtype='int64')\n",
    "    book_embedding=Embedding(n_books,n_latent_factors,name='book_embedding',embeddings_initializer=tf.keras.initializers.GlorotUniform(seed=42))(book_input)\n",
    "    book_vec=Flatten(name='FlattenBooks')(book_embedding)\n",
    "    #book_vec=Dropout(dropout)(book_vec)\n",
    "    sim = tf.concat([user_vec, book_vec], axis=1)\n",
    "    #sim=dot([user_vec,book_vec],name='Similarity-Dot-Product',axes=1)\n",
    "    nn_inp=Dense(256,activation='relu')(sim)\n",
    "    nn_inp=BatchNormalization()(nn_inp)\n",
    "    nn_inp=Dropout(dropout)(nn_inp)\n",
    "    nn_inp=Dense(64,activation='relu')(nn_inp)\n",
    "    nn_inp=BatchNormalization()(nn_inp)\n",
    "    nn_inp=Dropout(dropout)(nn_inp)\n",
    "    nn_inp=Dense(1,activation='relu')(nn_inp)\n",
    "    nn_model =Model([user_input, book_input],nn_inp)\n",
    "    return nn_model"
   ]
  },
  {
   "cell_type": "code",
   "execution_count": 76,
   "id": "c314c8aa",
   "metadata": {},
   "outputs": [
    {
     "name": "stdout",
     "output_type": "stream",
     "text": [
      "Model: \"model_4\"\n",
      "__________________________________________________________________________________________________\n",
      "Layer (type)                    Output Shape         Param #     Connected to                     \n",
      "==================================================================================================\n",
      "user_input (InputLayer)         [(None, 1)]          0                                            \n",
      "__________________________________________________________________________________________________\n",
      "book_input (InputLayer)         [(None, 1)]          0                                            \n",
      "__________________________________________________________________________________________________\n",
      "user_embedding (Embedding)      (None, 1, 16)        66464       user_input[0][0]                 \n",
      "__________________________________________________________________________________________________\n",
      "book_embedding (Embedding)      (None, 1, 16)        1656512     book_input[0][0]                 \n",
      "__________________________________________________________________________________________________\n",
      "FlattenUsers (Flatten)          (None, 16)           0           user_embedding[0][0]             \n",
      "__________________________________________________________________________________________________\n",
      "FlattenBooks (Flatten)          (None, 16)           0           book_embedding[0][0]             \n",
      "__________________________________________________________________________________________________\n",
      "tf.concat_1 (TFOpLambda)        (None, 32)           0           FlattenUsers[0][0]               \n",
      "                                                                 FlattenBooks[0][0]               \n",
      "__________________________________________________________________________________________________\n",
      "dense_9 (Dense)                 (None, 256)          8448        tf.concat_1[0][0]                \n",
      "__________________________________________________________________________________________________\n",
      "batch_normalization_8 (BatchNor (None, 256)          1024        dense_9[0][0]                    \n",
      "__________________________________________________________________________________________________\n",
      "dropout_6 (Dropout)             (None, 256)          0           batch_normalization_8[0][0]      \n",
      "__________________________________________________________________________________________________\n",
      "dense_10 (Dense)                (None, 64)           16448       dropout_6[0][0]                  \n",
      "__________________________________________________________________________________________________\n",
      "batch_normalization_9 (BatchNor (None, 64)           256         dense_10[0][0]                   \n",
      "__________________________________________________________________________________________________\n",
      "dropout_7 (Dropout)             (None, 64)           0           batch_normalization_9[0][0]      \n",
      "__________________________________________________________________________________________________\n",
      "dense_11 (Dense)                (None, 1)            65          dropout_7[0][0]                  \n",
      "==================================================================================================\n",
      "Total params: 1,749,217\n",
      "Trainable params: 1,748,577\n",
      "Non-trainable params: 640\n",
      "__________________________________________________________________________________________________\n"
     ]
    }
   ],
   "source": [
    "nn_model_embed = build_model(0.2,16)\n",
    "nn_model_embed.summary()"
   ]
  },
  {
   "cell_type": "code",
   "execution_count": 77,
   "id": "1bbfde57",
   "metadata": {},
   "outputs": [
    {
     "name": "stdout",
     "output_type": "stream",
     "text": [
      "Epoch 1/20\n",
      "2796/2796 [==============================] - 24s 8ms/step - loss: 3.8711\n",
      "Epoch 2/20\n",
      "2796/2796 [==============================] - 24s 9ms/step - loss: 2.7810\n",
      "Epoch 3/20\n",
      "2796/2796 [==============================] - 24s 8ms/step - loss: 2.2662\n",
      "Epoch 4/20\n",
      "2796/2796 [==============================] - 24s 9ms/step - loss: 1.8818\n",
      "Epoch 5/20\n",
      "2796/2796 [==============================] - 24s 8ms/step - loss: 1.5432\n",
      "Epoch 6/20\n",
      "2796/2796 [==============================] - 24s 9ms/step - loss: 1.3502\n",
      "Epoch 7/20\n",
      "2796/2796 [==============================] - 24s 8ms/step - loss: 1.2416\n",
      "Epoch 8/20\n",
      "2796/2796 [==============================] - 24s 9ms/step - loss: 1.1642\n",
      "Epoch 9/20\n",
      "2796/2796 [==============================] - 24s 9ms/step - loss: 1.0992\n",
      "Epoch 10/20\n",
      "2796/2796 [==============================] - 24s 9ms/step - loss: 1.0431\n",
      "Epoch 11/20\n",
      "2796/2796 [==============================] - 25s 9ms/step - loss: 1.0016\n",
      "Epoch 12/20\n",
      "2796/2796 [==============================] - 25s 9ms/step - loss: 0.9661\n",
      "Epoch 13/20\n",
      "2796/2796 [==============================] - 24s 9ms/step - loss: 0.9171\n",
      "Epoch 14/20\n",
      "2796/2796 [==============================] - 23s 8ms/step - loss: 0.8427\n",
      "Epoch 15/20\n",
      "2796/2796 [==============================] - 24s 9ms/step - loss: 0.7924\n",
      "Epoch 16/20\n",
      "2796/2796 [==============================] - 24s 9ms/step - loss: 0.7362\n",
      "Epoch 17/20\n",
      "2796/2796 [==============================] - 24s 9ms/step - loss: 0.6944\n",
      "Epoch 18/20\n",
      "2796/2796 [==============================] - 24s 8ms/step - loss: 0.6772\n",
      "Epoch 19/20\n",
      "2796/2796 [==============================] - 24s 9ms/step - loss: 0.6576\n",
      "Epoch 20/20\n",
      "2796/2796 [==============================] - 24s 9ms/step - loss: 0.6448\n"
     ]
    }
   ],
   "source": [
    "loss_fun = tf.keras.losses.MeanSquaredError()\n",
    "nn_model_embed.compile(optimizer=Adam(lr=5e-5),loss=loss_fun)\n",
    "batch_size=128\n",
    "epochs=20\n",
    "History = nn_model_embed.fit([X.ID,X.Book_Id],y, batch_size=batch_size,\n",
    "                              epochs =epochs,\n",
    "                              verbose = 1)"
   ]
  },
  {
   "cell_type": "code",
   "execution_count": 78,
   "id": "e9192c49",
   "metadata": {},
   "outputs": [
    {
     "name": "stdout",
     "output_type": "stream",
     "text": [
      "Model: \"model_5\"\n",
      "_________________________________________________________________\n",
      "Layer (type)                 Output Shape              Param #   \n",
      "=================================================================\n",
      "book_input (InputLayer)      [(None, 1)]               0         \n",
      "_________________________________________________________________\n",
      "book_embedding (Embedding)   (None, 1, 16)             1656512   \n",
      "=================================================================\n",
      "Total params: 1,656,512\n",
      "Trainable params: 1,656,512\n",
      "Non-trainable params: 0\n",
      "_________________________________________________________________\n"
     ]
    }
   ],
   "source": [
    "#Extract book embedding from the autoencoder\n",
    "extractor_dl = Model(inputs=nn_model_embed.get_layer('book_input').input,outputs=nn_model_embed.get_layer('book_embedding').output)\n",
    "extractor_dl.summary()\n"
   ]
  },
  {
   "cell_type": "code",
   "execution_count": 79,
   "id": "cf7bbda0",
   "metadata": {},
   "outputs": [
    {
     "data": {
      "text/plain": [
       "(103532, 1)"
      ]
     },
     "execution_count": 79,
     "metadata": {},
     "output_type": "execute_result"
    }
   ],
   "source": [
    "book_id = np.expand_dims(book_map[\"Book_Id\"].values,axis=1)\n",
    "book_id.shape"
   ]
  },
  {
   "cell_type": "code",
   "execution_count": 80,
   "id": "9d89edd9",
   "metadata": {},
   "outputs": [
    {
     "data": {
      "text/plain": [
       "array([[[-1.82831902e-02, -1.13010043e-02, -8.36298149e-03, ...,\n",
       "          1.24472671e-03,  1.28921177e-02,  5.03244018e-03]],\n",
       "\n",
       "       [[-5.98788029e-03, -1.47160068e-02, -1.34457862e-02, ...,\n",
       "          2.38346242e-04, -4.95599490e-03,  4.57263459e-03]],\n",
       "\n",
       "       [[ 1.04435226e-02,  3.79981170e-03, -4.45456943e-03, ...,\n",
       "         -6.61602302e-04, -7.53294397e-03,  3.02512152e-03]],\n",
       "\n",
       "       ...,\n",
       "\n",
       "       [[ 2.97932560e-03, -8.96624941e-03,  1.30520854e-02, ...,\n",
       "         -9.32689011e-03, -7.58682983e-03, -6.75443700e-03]],\n",
       "\n",
       "       [[ 8.83808173e-03,  3.27293435e-03, -8.07063188e-03, ...,\n",
       "          7.22469631e-05,  3.10405088e-03, -1.96278212e-03]],\n",
       "\n",
       "       [[ 1.94203742e-02, -5.60679706e-03,  1.30649125e-02, ...,\n",
       "         -7.75150955e-03, -7.70844705e-03, -7.47999933e-04]]],\n",
       "      dtype=float32)"
      ]
     },
     "execution_count": 80,
     "metadata": {},
     "output_type": "execute_result"
    }
   ],
   "source": [
    "book_embedding_dl = extractor_dl.predict(book_id)\n",
    "book_embedding_dl"
   ]
  },
  {
   "cell_type": "code",
   "execution_count": 82,
   "id": "8ff7aa50",
   "metadata": {
    "scrolled": true
   },
   "outputs": [
    {
     "data": {
      "text/html": [
       "<div>\n",
       "<style scoped>\n",
       "    .dataframe tbody tr th:only-of-type {\n",
       "        vertical-align: middle;\n",
       "    }\n",
       "\n",
       "    .dataframe tbody tr th {\n",
       "        vertical-align: top;\n",
       "    }\n",
       "\n",
       "    .dataframe thead th {\n",
       "        text-align: right;\n",
       "    }\n",
       "</style>\n",
       "<table border=\"1\" class=\"dataframe\">\n",
       "  <thead>\n",
       "    <tr style=\"text-align: right;\">\n",
       "      <th></th>\n",
       "      <th>Name</th>\n",
       "      <th>Authors</th>\n",
       "      <th>Description</th>\n",
       "      <th>Book_Id_x</th>\n",
       "      <th>Book_Id_y</th>\n",
       "    </tr>\n",
       "  </thead>\n",
       "  <tbody>\n",
       "    <tr>\n",
       "      <th>0</th>\n",
       "      <td>The Restaurant at the End of the Universe (Hit...</td>\n",
       "      <td>Douglas Adams</td>\n",
       "      <td>Just when you thought it was safe to go back t...</td>\n",
       "      <td>0</td>\n",
       "      <td>1</td>\n",
       "    </tr>\n",
       "    <tr>\n",
       "      <th>1</th>\n",
       "      <td>Siddhartha</td>\n",
       "      <td>Hermann Hesse</td>\n",
       "      <td>In the novel, Siddhartha, a young man, leaves ...</td>\n",
       "      <td>1</td>\n",
       "      <td>2</td>\n",
       "    </tr>\n",
       "    <tr>\n",
       "      <th>2</th>\n",
       "      <td>The Hunger Games (The Hunger Games, #1)</td>\n",
       "      <td>Suzanne Collins</td>\n",
       "      <td>WINNING MEANS FAME AND FORTUNE.LOSING MEANS CE...</td>\n",
       "      <td>2</td>\n",
       "      <td>5</td>\n",
       "    </tr>\n",
       "    <tr>\n",
       "      <th>3</th>\n",
       "      <td>The Authoritative Calvin and Hobbes: A Calvin ...</td>\n",
       "      <td>Bill Watterson</td>\n",
       "      <td>The Authoritative Calvin and Hobbes, is a larg...</td>\n",
       "      <td>3</td>\n",
       "      <td>7</td>\n",
       "    </tr>\n",
       "    <tr>\n",
       "      <th>4</th>\n",
       "      <td>The Name of the Rose</td>\n",
       "      <td>Umberto Eco</td>\n",
       "      <td>Librarian note: Older edition of 9780099466031...</td>\n",
       "      <td>4</td>\n",
       "      <td>12</td>\n",
       "    </tr>\n",
       "  </tbody>\n",
       "</table>\n",
       "</div>"
      ],
      "text/plain": [
       "                                                Name          Authors  \\\n",
       "0  The Restaurant at the End of the Universe (Hit...    Douglas Adams   \n",
       "1                                         Siddhartha    Hermann Hesse   \n",
       "2            The Hunger Games (The Hunger Games, #1)  Suzanne Collins   \n",
       "3  The Authoritative Calvin and Hobbes: A Calvin ...   Bill Watterson   \n",
       "4                               The Name of the Rose      Umberto Eco   \n",
       "\n",
       "                                         Description  Book_Id_x  Book_Id_y  \n",
       "0  Just when you thought it was safe to go back t...          0          1  \n",
       "1  In the novel, Siddhartha, a young man, leaves ...          1          2  \n",
       "2  WINNING MEANS FAME AND FORTUNE.LOSING MEANS CE...          2          5  \n",
       "3  The Authoritative Calvin and Hobbes, is a larg...          3          7  \n",
       "4  Librarian note: Older edition of 9780099466031...          4         12  "
      ]
     },
     "execution_count": 82,
     "metadata": {},
     "output_type": "execute_result"
    }
   ],
   "source": [
    "#select book_embedding_dl for the books in book_df\n",
    "merge_df = pd.merge(book_df, book_map, how='left', on='Name')\n",
    "merge_df.head()"
   ]
  },
  {
   "cell_type": "code",
   "execution_count": 83,
   "id": "691480cb",
   "metadata": {},
   "outputs": [
    {
     "data": {
      "text/plain": [
       "(12292, 16)"
      ]
     },
     "execution_count": 83,
     "metadata": {},
     "output_type": "execute_result"
    }
   ],
   "source": [
    "book_embedding_dl_sel=np.squeeze(book_embedding_dl[merge_df.Book_Id_y.values,:])\n",
    "book_embedding_dl_sel.shape\n"
   ]
  },
  {
   "cell_type": "markdown",
   "id": "2a82c0e4",
   "metadata": {},
   "source": [
    "### Generate recommendation list using cosine similarity"
   ]
  },
  {
   "cell_type": "code",
   "execution_count": 99,
   "id": "92fdfe23",
   "metadata": {},
   "outputs": [],
   "source": [
    "#Computer the similarity matrices for both content based filter and DL based collarborative filter \n",
    "from sklearn.metrics.pairwise import cosine_similarity\n",
    "cb_sim_matrix = cosine_similarity(book_embedding_trf_reduce,book_embedding_trf_reduce)\n",
    "cf_sim_matrix = cosine_similarity(book_embedding_dl_sel,book_embedding_dl_sel)\n"
   ]
  },
  {
   "cell_type": "code",
   "execution_count": 100,
   "id": "8a8f7637",
   "metadata": {},
   "outputs": [
    {
     "data": {
      "text/plain": [
       "array([[1.        , 0.23786959, 0.1547549 , ..., 0.24865462, 0.34855962,\n",
       "        0.34323412],\n",
       "       [0.23786959, 1.        , 0.5994524 , ..., 0.6069042 , 0.2051981 ,\n",
       "        0.5673981 ],\n",
       "       [0.1547549 , 0.5994524 , 1.        , ..., 0.6350025 , 0.18303059,\n",
       "        0.5492029 ],\n",
       "       ...,\n",
       "       [0.24865462, 0.6069042 , 0.6350025 , ..., 1.        , 0.4218791 ,\n",
       "        0.58473   ],\n",
       "       [0.34855962, 0.2051981 , 0.18303059, ..., 0.4218791 , 1.        ,\n",
       "        0.24114972],\n",
       "       [0.34323412, 0.5673981 , 0.5492029 , ..., 0.58473   , 0.24114972,\n",
       "        1.        ]], dtype=float32)"
      ]
     },
     "execution_count": 100,
     "metadata": {},
     "output_type": "execute_result"
    }
   ],
   "source": [
    "#hybrid matrix\n",
    "hybrid_sim_matrix = (cb_sim_matrix + cf_sim_matrix)/2\n",
    "hybrid_sim_matrix"
   ]
  },
  {
   "cell_type": "code",
   "execution_count": 107,
   "id": "0964ca4c",
   "metadata": {},
   "outputs": [],
   "source": [
    "book_df.reset_index(drop=True, inplace=True)\n",
    "indices = pd.Series(book_df.index, index=book_df['Name'])"
   ]
  },
  {
   "cell_type": "code",
   "execution_count": 108,
   "id": "0ed30247",
   "metadata": {},
   "outputs": [],
   "source": [
    "def get_hybrid_recommendations(title):\n",
    "    try:\n",
    "        # handle case in which book by same title is in dataset\n",
    "        idx = indices[title][0]\n",
    "    except IndexError:\n",
    "        idx = indices[title]\n",
    "    sim_scores = list(enumerate(hybrid_sim_matrix[idx]))\n",
    "    sim_scores = sorted(sim_scores, key=lambda x: x[1], reverse=True)\n",
    "    sim_scores = sim_scores[1:15]\n",
    "    book_indices = [i[0] for i in sim_scores]\n",
    "    return book_df.iloc[book_indices]"
   ]
  },
  {
   "cell_type": "code",
   "execution_count": 109,
   "id": "321d25c0",
   "metadata": {},
   "outputs": [],
   "source": [
    "def print_book_info_hybrid(index):\n",
    "    title = book_df.iloc[index].Name\n",
    "    desc = book_df.iloc[index].Description\n",
    "    author = book_df.iloc[index].Authors\n",
    "    print(\"Title:\", title, \"\\nDescription:\", desc, \"\\nAuthor:\", author)\n",
    "    return title"
   ]
  },
  {
   "cell_type": "markdown",
   "id": "43f7bd6e",
   "metadata": {},
   "source": [
    "### Try an example of book"
   ]
  },
  {
   "cell_type": "code",
   "execution_count": 110,
   "id": "340d409b",
   "metadata": {},
   "outputs": [
    {
     "name": "stdout",
     "output_type": "stream",
     "text": [
      "Title: My Cousin, My Gastroenterologist \n",
      "Description: Welcome to Mark Leyner's America, where you can order gallium arsenide sushi at a roadside diner, get loaded on a cocktail of growth hormones and anabolic steroids, and support your habit by appearing on TV game shows. Here is fiction the brain can dance to, by one of the funniest and most subversive young writers of this, or any other, decade. \n",
      "Author: Mark Leyner\n",
      "My Cousin, My Gastroenterologist\n"
     ]
    }
   ],
   "source": [
    "\n",
    "title=print_book_info_hybrid(4432)\n",
    "print(title)"
   ]
  },
  {
   "cell_type": "code",
   "execution_count": 111,
   "id": "c6024236",
   "metadata": {},
   "outputs": [
    {
     "data": {
      "text/html": [
       "<div>\n",
       "<style scoped>\n",
       "    .dataframe tbody tr th:only-of-type {\n",
       "        vertical-align: middle;\n",
       "    }\n",
       "\n",
       "    .dataframe tbody tr th {\n",
       "        vertical-align: top;\n",
       "    }\n",
       "\n",
       "    .dataframe thead th {\n",
       "        text-align: right;\n",
       "    }\n",
       "</style>\n",
       "<table border=\"1\" class=\"dataframe\">\n",
       "  <thead>\n",
       "    <tr style=\"text-align: right;\">\n",
       "      <th></th>\n",
       "      <th>Name</th>\n",
       "      <th>Authors</th>\n",
       "      <th>Description</th>\n",
       "      <th>Book_Id</th>\n",
       "    </tr>\n",
       "  </thead>\n",
       "  <tbody>\n",
       "    <tr>\n",
       "      <th>6255</th>\n",
       "      <td>Pretty Little Mistakes: A Do-Over Novel</td>\n",
       "      <td>Heather McElhatton</td>\n",
       "      <td>There are hundreds of lives sown inside Pretty...</td>\n",
       "      <td>6255</td>\n",
       "    </tr>\n",
       "    <tr>\n",
       "      <th>9866</th>\n",
       "      <td>Granta 101</td>\n",
       "      <td>Jason Crowley</td>\n",
       "      <td>Reinvigorated and redesigned, Granta has a new...</td>\n",
       "      <td>9866</td>\n",
       "    </tr>\n",
       "    <tr>\n",
       "      <th>4680</th>\n",
       "      <td>So You Want to Be a Wizard</td>\n",
       "      <td>Diane Duane</td>\n",
       "      <td>Something stopped Nita's hand as it ran along ...</td>\n",
       "      <td>4680</td>\n",
       "    </tr>\n",
       "    <tr>\n",
       "      <th>333</th>\n",
       "      <td>The Blind Side: Evolution of a Game</td>\n",
       "      <td>Michael   Lewis</td>\n",
       "      <td>When we first meet Michael Oher, he is one of ...</td>\n",
       "      <td>333</td>\n",
       "    </tr>\n",
       "    <tr>\n",
       "      <th>1027</th>\n",
       "      <td>Roots: The Saga of an American Family</td>\n",
       "      <td>Alex Haley</td>\n",
       "      <td>One of the most important books and television...</td>\n",
       "      <td>1027</td>\n",
       "    </tr>\n",
       "    <tr>\n",
       "      <th>11417</th>\n",
       "      <td>Mexico Biography of Power</td>\n",
       "      <td>Enrique Krauze</td>\n",
       "      <td>The concentration of power in the caudillo (le...</td>\n",
       "      <td>11417</td>\n",
       "    </tr>\n",
       "    <tr>\n",
       "      <th>2211</th>\n",
       "      <td>Wild Fire</td>\n",
       "      <td>Nelson DeMille</td>\n",
       "      <td>This is an ACE for ISBN13:9780446579674 Wild F...</td>\n",
       "      <td>2211</td>\n",
       "    </tr>\n",
       "    <tr>\n",
       "      <th>11178</th>\n",
       "      <td>Shoots to Kill (A Flower Shop Mystery, #7)</td>\n",
       "      <td>Kate Collins</td>\n",
       "      <td>Eight years ago, Abby Knight babysat for a pro...</td>\n",
       "      <td>11178</td>\n",
       "    </tr>\n",
       "    <tr>\n",
       "      <th>6155</th>\n",
       "      <td>Shoot the Damn Dog: A Memoir of Depression</td>\n",
       "      <td>Sally Brampton</td>\n",
       "      <td>A successful magazine editor and prize-winning...</td>\n",
       "      <td>6155</td>\n",
       "    </tr>\n",
       "    <tr>\n",
       "      <th>10699</th>\n",
       "      <td>Inside Out: A Personal History of Pink Floyd</td>\n",
       "      <td>Nick Mason</td>\n",
       "      <td>The definitive history of Pink Floyd by foundi...</td>\n",
       "      <td>10699</td>\n",
       "    </tr>\n",
       "    <tr>\n",
       "      <th>10729</th>\n",
       "      <td>The Terror Dream: Fear and Fantasy in Post-9/1...</td>\n",
       "      <td>Susan Faludi</td>\n",
       "      <td>In this most original examination of America's...</td>\n",
       "      <td>10729</td>\n",
       "    </tr>\n",
       "    <tr>\n",
       "      <th>3652</th>\n",
       "      <td>So Sexy So Soon: The New Sexualized Childhood,...</td>\n",
       "      <td>Diane E. Levin</td>\n",
       "      <td>Thong panties, padded bras, and risqué Hallowe...</td>\n",
       "      <td>3652</td>\n",
       "    </tr>\n",
       "    <tr>\n",
       "      <th>10728</th>\n",
       "      <td>Why Women Should Rule the World</td>\n",
       "      <td>Dee Dee Myers</td>\n",
       "      <td>What would happen if women ruled the world?Eve...</td>\n",
       "      <td>10728</td>\n",
       "    </tr>\n",
       "    <tr>\n",
       "      <th>10896</th>\n",
       "      <td>Nathaniel's Nutmeg: How One Man's Courage Chan...</td>\n",
       "      <td>Giles Milton</td>\n",
       "      <td>The tiny island of Run is an insignificant spe...</td>\n",
       "      <td>10896</td>\n",
       "    </tr>\n",
       "  </tbody>\n",
       "</table>\n",
       "</div>"
      ],
      "text/plain": [
       "                                                    Name             Authors  \\\n",
       "6255             Pretty Little Mistakes: A Do-Over Novel  Heather McElhatton   \n",
       "9866                                          Granta 101       Jason Crowley   \n",
       "4680                          So You Want to Be a Wizard         Diane Duane   \n",
       "333                  The Blind Side: Evolution of a Game     Michael   Lewis   \n",
       "1027               Roots: The Saga of an American Family          Alex Haley   \n",
       "11417                          Mexico Biography of Power      Enrique Krauze   \n",
       "2211                                           Wild Fire      Nelson DeMille   \n",
       "11178         Shoots to Kill (A Flower Shop Mystery, #7)        Kate Collins   \n",
       "6155          Shoot the Damn Dog: A Memoir of Depression      Sally Brampton   \n",
       "10699       Inside Out: A Personal History of Pink Floyd          Nick Mason   \n",
       "10729  The Terror Dream: Fear and Fantasy in Post-9/1...        Susan Faludi   \n",
       "3652   So Sexy So Soon: The New Sexualized Childhood,...      Diane E. Levin   \n",
       "10728                    Why Women Should Rule the World       Dee Dee Myers   \n",
       "10896  Nathaniel's Nutmeg: How One Man's Courage Chan...        Giles Milton   \n",
       "\n",
       "                                             Description  Book_Id  \n",
       "6255   There are hundreds of lives sown inside Pretty...     6255  \n",
       "9866   Reinvigorated and redesigned, Granta has a new...     9866  \n",
       "4680   Something stopped Nita's hand as it ran along ...     4680  \n",
       "333    When we first meet Michael Oher, he is one of ...      333  \n",
       "1027   One of the most important books and television...     1027  \n",
       "11417  The concentration of power in the caudillo (le...    11417  \n",
       "2211   This is an ACE for ISBN13:9780446579674 Wild F...     2211  \n",
       "11178  Eight years ago, Abby Knight babysat for a pro...    11178  \n",
       "6155   A successful magazine editor and prize-winning...     6155  \n",
       "10699  The definitive history of Pink Floyd by foundi...    10699  \n",
       "10729  In this most original examination of America's...    10729  \n",
       "3652   Thong panties, padded bras, and risqué Hallowe...     3652  \n",
       "10728  What would happen if women ruled the world?Eve...    10728  \n",
       "10896  The tiny island of Run is an insignificant spe...    10896  "
      ]
     },
     "execution_count": 111,
     "metadata": {},
     "output_type": "execute_result"
    }
   ],
   "source": [
    "get_hybrid_recommendations(title)"
   ]
  },
  {
   "cell_type": "markdown",
   "id": "006db9ec",
   "metadata": {},
   "source": [
    "#### Examine a few books from the recommendation list"
   ]
  },
  {
   "cell_type": "code",
   "execution_count": 112,
   "id": "669fc68d",
   "metadata": {},
   "outputs": [
    {
     "name": "stdout",
     "output_type": "stream",
     "text": [
      "Title: Pretty Little Mistakes: A Do-Over Novel \n",
      "Description: There are hundreds of lives sown inside Pretty Little Mistakes, Heather McElhatton's singularly spectacular, breathtakingly unique novel that has more than 150 possible endings. You may end up in an opulent mansion or homeless down by the river; happily married with your own corporation or alone and pecked to death by ducks in London; a Zen master in Japan or morbidly obese in a trailer park.Is it destiny or decision that controls our fate? You can't change your past and start over from scratch in real life—but in Pretty Little Mistakes, you can! But be warned, choose wisely. \n",
      "Author: Heather McElhatton\n"
     ]
    },
    {
     "data": {
      "text/plain": [
       "'Pretty Little Mistakes: A Do-Over Novel'"
      ]
     },
     "execution_count": 112,
     "metadata": {},
     "output_type": "execute_result"
    }
   ],
   "source": [
    "print_book_info_hybrid(6255)"
   ]
  },
  {
   "cell_type": "code",
   "execution_count": 113,
   "id": "b1555f7c",
   "metadata": {},
   "outputs": [
    {
     "name": "stdout",
     "output_type": "stream",
     "text": [
      "Title: Granta 101 \n",
      "Description: Reinvigorated and redesigned, Granta has a new editor and a new Web site. But it’s not all change: we will still continue to publish the world’s finest writers of fiction, memoir, and reportage, in an elegant and collectable paperback book. In Granta 101, there is original work from Robert Macfarlane, reporting from a blitzed Beijing ahead of the Olympics, as well as gripping narrative dispatches from Angola, Kenya, and the troubled suburbs of Paris. Highlights include a new opening section, with pieces by Hilary Mantel and Douglas Coupland, fiction from Annie Proulx and Joshua Ferris, brilliant photo essays and a remarkable investigation into the macabre murder of a celebrated London media figure by award-winning writer Tim Lott. \n",
      "Author: Jason Crowley\n"
     ]
    },
    {
     "data": {
      "text/plain": [
       "'Granta 101'"
      ]
     },
     "execution_count": 113,
     "metadata": {},
     "output_type": "execute_result"
    }
   ],
   "source": [
    "print_book_info_hybrid(9866)"
   ]
  },
  {
   "cell_type": "code",
   "execution_count": 115,
   "id": "598a507d",
   "metadata": {},
   "outputs": [
    {
     "name": "stdout",
     "output_type": "stream",
     "text": [
      "Title: The Blind Side: Evolution of a Game \n",
      "Description: When we first meet Michael Oher, he is one of thirteen children by a mother addicted to crack; he does not know his real name, his father, his birthday, or how to read or write. He takes up football and school after a rich, white, Evangelical family plucks him from the streets. Then two great forces alter Oher: the family's love and the evolution of professional football itself into a game in which the quarterback must be protected at any cost. Our protagonist becomes the priceless package of size, speed, and agility necessary to guard the quarterback's greatest vulnerability: his blind side. \n",
      "Author: Michael   Lewis\n"
     ]
    },
    {
     "data": {
      "text/plain": [
       "'The Blind Side: Evolution of a Game'"
      ]
     },
     "execution_count": 115,
     "metadata": {},
     "output_type": "execute_result"
    }
   ],
   "source": [
    "print_book_info_hybrid(333)"
   ]
  },
  {
   "cell_type": "markdown",
   "id": "fbc4d01b",
   "metadata": {},
   "source": [
    "#### It seems that all these books have something in common, talking about history, tradition and people's life experience from different perspectives"
   ]
  },
  {
   "cell_type": "code",
   "execution_count": 116,
   "id": "27fc1b9f",
   "metadata": {},
   "outputs": [
    {
     "name": "stdout",
     "output_type": "stream",
     "text": [
      "Title: The Remains of the Day \n",
      "Description: In the summer of 1956, Stevens, a long-serving butler at Darlington Hall, decides to take a motoring trip through the West Country. The six-day excursion becomes a journey into the past of Stevens and England, a past that takes in fascism, two world wars, and an unrealised love between the butler and his housekeeper. \n",
      "Author: Kazuo Ishiguro\n",
      "The Remains of the Day\n"
     ]
    }
   ],
   "source": [
    "# Another example\n",
    "\n",
    "title=print_book_info_hybrid(23)\n",
    "print(title)"
   ]
  },
  {
   "cell_type": "code",
   "execution_count": 117,
   "id": "019fe69e",
   "metadata": {},
   "outputs": [
    {
     "data": {
      "text/html": [
       "<div>\n",
       "<style scoped>\n",
       "    .dataframe tbody tr th:only-of-type {\n",
       "        vertical-align: middle;\n",
       "    }\n",
       "\n",
       "    .dataframe tbody tr th {\n",
       "        vertical-align: top;\n",
       "    }\n",
       "\n",
       "    .dataframe thead th {\n",
       "        text-align: right;\n",
       "    }\n",
       "</style>\n",
       "<table border=\"1\" class=\"dataframe\">\n",
       "  <thead>\n",
       "    <tr style=\"text-align: right;\">\n",
       "      <th></th>\n",
       "      <th>Name</th>\n",
       "      <th>Authors</th>\n",
       "      <th>Description</th>\n",
       "      <th>Book_Id</th>\n",
       "    </tr>\n",
       "  </thead>\n",
       "  <tbody>\n",
       "    <tr>\n",
       "      <th>4724</th>\n",
       "      <td>Address Unknown</td>\n",
       "      <td>Kathrine Kressmann Taylor</td>\n",
       "      <td>A rediscovered classic, originally published i...</td>\n",
       "      <td>4724</td>\n",
       "    </tr>\n",
       "    <tr>\n",
       "      <th>11923</th>\n",
       "      <td>Mrs. Palfrey at the Claremont</td>\n",
       "      <td>Elizabeth Taylor</td>\n",
       "      <td>On a rainy Sunday in January, the recently wid...</td>\n",
       "      <td>11923</td>\n",
       "    </tr>\n",
       "    <tr>\n",
       "      <th>2057</th>\n",
       "      <td>Lost Island</td>\n",
       "      <td>Phyllis A. Whitney</td>\n",
       "      <td>Lacey, Elise and Giles. They grew up together ...</td>\n",
       "      <td>2057</td>\n",
       "    </tr>\n",
       "    <tr>\n",
       "      <th>3865</th>\n",
       "      <td>Blade Dancer</td>\n",
       "      <td>K.M. Tolan</td>\n",
       "      <td>Emerging from an ancient civil war with only a...</td>\n",
       "      <td>3865</td>\n",
       "    </tr>\n",
       "    <tr>\n",
       "      <th>6347</th>\n",
       "      <td>Alexander's Bridge</td>\n",
       "      <td>Willa Cather</td>\n",
       "      <td>“The sun sank rapidly; the silvery light had f...</td>\n",
       "      <td>6347</td>\n",
       "    </tr>\n",
       "    <tr>\n",
       "      <th>713</th>\n",
       "      <td>A Breath of Snow and Ashes (Outlander, #6)</td>\n",
       "      <td>Diana Gabaldon</td>\n",
       "      <td>Eagerly anticipated by her legions of fans, th...</td>\n",
       "      <td>713</td>\n",
       "    </tr>\n",
       "    <tr>\n",
       "      <th>8763</th>\n",
       "      <td>Truth or Dare (Whispering Springs, #2)</td>\n",
       "      <td>Jayne Ann Krentz</td>\n",
       "      <td>The New York Times bestselling author Jayne An...</td>\n",
       "      <td>8763</td>\n",
       "    </tr>\n",
       "    <tr>\n",
       "      <th>2521</th>\n",
       "      <td>Our Man in Havana</td>\n",
       "      <td>Graham Greene</td>\n",
       "      <td>First published in 1959, Our Man in Havana is ...</td>\n",
       "      <td>2521</td>\n",
       "    </tr>\n",
       "    <tr>\n",
       "      <th>1717</th>\n",
       "      <td>The Music of Chance</td>\n",
       "      <td>Paul Auster</td>\n",
       "      <td>Paul Auster fuses Samuel Beckett and The Broth...</td>\n",
       "      <td>1717</td>\n",
       "    </tr>\n",
       "    <tr>\n",
       "      <th>10108</th>\n",
       "      <td>The Book of Merlyn: The Unpublished Conclusion...</td>\n",
       "      <td>T.H. White</td>\n",
       "      <td>\"... a personal as well as historical story th...</td>\n",
       "      <td>10108</td>\n",
       "    </tr>\n",
       "    <tr>\n",
       "      <th>11552</th>\n",
       "      <td>William - An Englishman</td>\n",
       "      <td>Cicely Hamilton</td>\n",
       "      <td>William was 'written in a rage in 1918; this e...</td>\n",
       "      <td>11552</td>\n",
       "    </tr>\n",
       "    <tr>\n",
       "      <th>9894</th>\n",
       "      <td>An Unholy Alliance (Matthew Bartholomew, #2)</td>\n",
       "      <td>Susanna Gregory</td>\n",
       "      <td>Two years after the Black Death has decimated ...</td>\n",
       "      <td>9894</td>\n",
       "    </tr>\n",
       "    <tr>\n",
       "      <th>11164</th>\n",
       "      <td>A Cedar Cove Christmas (Cedar Cove, #8.5)</td>\n",
       "      <td>Debbie Macomber</td>\n",
       "      <td>Mother-to-be Mary Jo Wyse arrives in Cedar Cov...</td>\n",
       "      <td>11164</td>\n",
       "    </tr>\n",
       "    <tr>\n",
       "      <th>10910</th>\n",
       "      <td>Design For Murder (Death on Demand, #2)</td>\n",
       "      <td>Carolyn G. Hart</td>\n",
       "      <td>An alternate edition (page count) for this isb...</td>\n",
       "      <td>10910</td>\n",
       "    </tr>\n",
       "  </tbody>\n",
       "</table>\n",
       "</div>"
      ],
      "text/plain": [
       "                                                    Name  \\\n",
       "4724                                     Address Unknown   \n",
       "11923                      Mrs. Palfrey at the Claremont   \n",
       "2057                                         Lost Island   \n",
       "3865                                        Blade Dancer   \n",
       "6347                                  Alexander's Bridge   \n",
       "713           A Breath of Snow and Ashes (Outlander, #6)   \n",
       "8763              Truth or Dare (Whispering Springs, #2)   \n",
       "2521                                   Our Man in Havana   \n",
       "1717                                 The Music of Chance   \n",
       "10108  The Book of Merlyn: The Unpublished Conclusion...   \n",
       "11552                            William - An Englishman   \n",
       "9894        An Unholy Alliance (Matthew Bartholomew, #2)   \n",
       "11164          A Cedar Cove Christmas (Cedar Cove, #8.5)   \n",
       "10910            Design For Murder (Death on Demand, #2)   \n",
       "\n",
       "                         Authors  \\\n",
       "4724   Kathrine Kressmann Taylor   \n",
       "11923           Elizabeth Taylor   \n",
       "2057          Phyllis A. Whitney   \n",
       "3865                  K.M. Tolan   \n",
       "6347                Willa Cather   \n",
       "713               Diana Gabaldon   \n",
       "8763            Jayne Ann Krentz   \n",
       "2521               Graham Greene   \n",
       "1717                 Paul Auster   \n",
       "10108                 T.H. White   \n",
       "11552            Cicely Hamilton   \n",
       "9894             Susanna Gregory   \n",
       "11164            Debbie Macomber   \n",
       "10910            Carolyn G. Hart   \n",
       "\n",
       "                                             Description  Book_Id  \n",
       "4724   A rediscovered classic, originally published i...     4724  \n",
       "11923  On a rainy Sunday in January, the recently wid...    11923  \n",
       "2057   Lacey, Elise and Giles. They grew up together ...     2057  \n",
       "3865   Emerging from an ancient civil war with only a...     3865  \n",
       "6347   “The sun sank rapidly; the silvery light had f...     6347  \n",
       "713    Eagerly anticipated by her legions of fans, th...      713  \n",
       "8763   The New York Times bestselling author Jayne An...     8763  \n",
       "2521   First published in 1959, Our Man in Havana is ...     2521  \n",
       "1717   Paul Auster fuses Samuel Beckett and The Broth...     1717  \n",
       "10108  \"... a personal as well as historical story th...    10108  \n",
       "11552  William was 'written in a rage in 1918; this e...    11552  \n",
       "9894   Two years after the Black Death has decimated ...     9894  \n",
       "11164  Mother-to-be Mary Jo Wyse arrives in Cedar Cov...    11164  \n",
       "10910  An alternate edition (page count) for this isb...    10910  "
      ]
     },
     "execution_count": 117,
     "metadata": {},
     "output_type": "execute_result"
    }
   ],
   "source": [
    "get_hybrid_recommendations(title)"
   ]
  },
  {
   "cell_type": "code",
   "execution_count": 118,
   "id": "3b549ae5",
   "metadata": {},
   "outputs": [
    {
     "name": "stdout",
     "output_type": "stream",
     "text": [
      "Title: Address Unknown \n",
      "Description: A rediscovered classic, originally published in 1938 --and now an international bestseller.When it first appeared in Story magazine in 1938, Address Unknown became an immediate social phenomenon and literary sensation. Published in book form a year later and banned in Nazi Germany, it garnered high praise in the United States and much of Europe.A series of fictional letters between a Jewish art dealer living in San Francisco and his former business partner, who has returned to Germany, Address Unknown is a haunting tale of enormous and enduring impact. \n",
      "Author: Kathrine Kressmann Taylor\n"
     ]
    },
    {
     "data": {
      "text/plain": [
       "'Address Unknown'"
      ]
     },
     "execution_count": 118,
     "metadata": {},
     "output_type": "execute_result"
    }
   ],
   "source": [
    "print_book_info_hybrid(4724)\n"
   ]
  },
  {
   "cell_type": "code",
   "execution_count": 119,
   "id": "63105b3e",
   "metadata": {},
   "outputs": [
    {
     "name": "stdout",
     "output_type": "stream",
     "text": [
      "Title: Mrs. Palfrey at the Claremont \n",
      "Description: On a rainy Sunday in January, the recently widowed Mrs. Palfrey arrives at the Claremont Hotel where she will spend her remaining days. Her fellow residents are magnificently eccentric and endlessly curious, living off crumbs of affection and snippets of gossip. Together, upper lips stiffened, they fight off their twin enemies—boredom and the Grim Reaper. Then one day Mrs. Palfrey strikes up an unexpected friendship with Ludo, a handsome young writer, and learns that even the old can fall in love. \n",
      "Author: Elizabeth Taylor\n"
     ]
    },
    {
     "data": {
      "text/plain": [
       "'Mrs. Palfrey at the Claremont'"
      ]
     },
     "execution_count": 119,
     "metadata": {},
     "output_type": "execute_result"
    }
   ],
   "source": [
    "print_book_info_hybrid(11923)"
   ]
  },
  {
   "cell_type": "code",
   "execution_count": 120,
   "id": "97941b93",
   "metadata": {},
   "outputs": [
    {
     "name": "stdout",
     "output_type": "stream",
     "text": [
      "Title: Lost Island \n",
      "Description: Lacey, Elise and Giles. They grew up together on a mist-shrouded island off the Georgia coast. Long ago, and without Giles ever knowing it, Lacey gave birth to his son. But Elise, the beautiful, domineering one, got Giles. She got Lacey's child too, to bring up as her own. Lacey has tried to forget. But in ten years she has not been able to. So she's going back. To see her son. To confront Elise. To exorcise the spell of the island -- and of Giles. Or perhaps to be trapped by them forever. \n",
      "Author: Phyllis A. Whitney\n"
     ]
    },
    {
     "data": {
      "text/plain": [
       "'Lost Island'"
      ]
     },
     "execution_count": 120,
     "metadata": {},
     "output_type": "execute_result"
    }
   ],
   "source": [
    "print_book_info_hybrid(2057)"
   ]
  }
 ],
 "metadata": {
  "kernelspec": {
   "display_name": "Python 3 (ipykernel)",
   "language": "python",
   "name": "python3"
  },
  "language_info": {
   "codemirror_mode": {
    "name": "ipython",
    "version": 3
   },
   "file_extension": ".py",
   "mimetype": "text/x-python",
   "name": "python",
   "nbconvert_exporter": "python",
   "pygments_lexer": "ipython3",
   "version": "3.8.12"
  }
 },
 "nbformat": 4,
 "nbformat_minor": 5
}
